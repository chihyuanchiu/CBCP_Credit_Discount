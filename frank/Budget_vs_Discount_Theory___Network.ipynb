{
 "cells": [
  {
   "cell_type": "code",
   "execution_count": 1,
   "id": "1a2d4b50",
   "metadata": {},
   "outputs": [],
   "source": [
    "import numpy as np\n",
    "import scipy as sp\n",
    "\n",
    "import matplotlib.pyplot as plt\n",
    "import matplotlib.axes as axe\n",
    "import pandas as pd\n",
    "import datetime as dt\n",
    "import gurobipy as gp\n",
    "from gurobipy import GRB\n",
    "import cvxpy as cp\n",
    "\n",
    "import random\n",
    "from itertools import chain, combinations, tee\n",
    "import time\n"
   ]
  },
  {
   "cell_type": "markdown",
   "id": "3265e621",
   "metadata": {},
   "source": [
    "# Convex Programs for CBCP, DBCP"
   ]
  },
  {
   "cell_type": "markdown",
   "id": "637ba5d1",
   "metadata": {},
   "source": [
    "## Convex Program for CBCP"
   ]
  },
  {
   "cell_type": "code",
   "execution_count": null,
   "id": "e0933b55",
   "metadata": {},
   "outputs": [],
   "source": []
  },
  {
   "cell_type": "code",
   "execution_count": null,
   "id": "5aa1e755",
   "metadata": {},
   "outputs": [],
   "source": []
  },
  {
   "cell_type": "markdown",
   "id": "5aeb8d24",
   "metadata": {},
   "source": [
    "## Convex Program for DBCP"
   ]
  },
  {
   "cell_type": "code",
   "execution_count": null,
   "id": "f41e8edb",
   "metadata": {},
   "outputs": [],
   "source": []
  },
  {
   "cell_type": "code",
   "execution_count": null,
   "id": "e54be015",
   "metadata": {},
   "outputs": [],
   "source": []
  },
  {
   "cell_type": "markdown",
   "id": "ffe281d0",
   "metadata": {},
   "source": [
    "## 1 Eligible group, 0 Ineligible group (Theory)"
   ]
  },
  {
   "cell_type": "code",
   "execution_count": 2,
   "id": "a0875f3d",
   "metadata": {},
   "outputs": [],
   "source": [
    "def F_01(val, ell, tau, alpha):\n",
    "    return ell(val) + (1 - alpha) * tau - ell(1 - val)\n",
    "\n",
    "def y_star_01(ell, tau, alpha, lb_init = 0.0, ub_init = 1.0, num_iters = 20):\n",
    "    # Searches for y^\\star satisfying ell(y^\\star) + (1 - \\alpha) \\tau = ell(1 - y^\\star)\n",
    "    assert tau < ell(ub_init) - ell(lb_init), \"We must have tau < ell(1.0) - ell(0.0), else is trivial\"\n",
    "    assert 0.0 <= alpha <= 1.0, \"We must have 0.0 <= alpha <= 1.0\"\n",
    "    assert ell(lb_init) + (1.0 - alpha) * tau < ell(ub_init)\n",
    "    \n",
    "    lb = lb_init\n",
    "    ub = ub_init\n",
    "    mid_val = (lb + ub)/2\n",
    "    \n",
    "    for k in range(num_iters):\n",
    "#         print(\"F:\", F_01(mid_val, ell, tau, alpha))\n",
    "#         print(\"lb:\", lb)\n",
    "#         print(\"ub:\", ub)\n",
    "#         print(\"mid_val:\", mid_val)\n",
    "#         print()\n",
    "        \n",
    "        if F_01(mid_val, ell, tau, alpha) < 0:\n",
    "            lb = mid_val\n",
    "        else:\n",
    "            ub = mid_val\n",
    "        mid_val = (lb + ub)/2\n",
    "    \n",
    "    return (lb + ub)/2\n",
    "\n",
    "# def fixed_point_eqn():\n",
    "    \n"
   ]
  },
  {
   "cell_type": "code",
   "execution_count": 3,
   "id": "0b5f59fa",
   "metadata": {
    "scrolled": true
   },
   "outputs": [
    {
     "name": "stdout",
     "output_type": "stream",
     "text": [
      "\n",
      "Time: 0.00429224967956543\n"
     ]
    }
   ],
   "source": [
    "t_1 = time.time()\n",
    "\n",
    "ell = lambda x: x**4\n",
    "# ell = lambda x: np.log(1 + np.exp(x))\n",
    "\n",
    "tau = 0.6\n",
    "# alpha = 0.0\n",
    "\n",
    "num_alpha_grid_points = 100 # Should be even\n",
    "alpha_vals = np.linspace(0, 1.0, num = num_alpha_grid_points + 1)\n",
    "\n",
    "alpha_1 = y_star_01(ell, tau, alpha = 0.0, lb_init = 0.0, ub_init = 1.0)\n",
    "# print(\"alpha_1:\", alpha_1)\n",
    "\n",
    "y_star_vals_discount = np.array([y_star_01(ell, tau, alpha, lb_init = 0.0, ub_init = 1.0) for alpha in alpha_vals])\n",
    "y_star_vals_budget = np.ones(int((y_star_vals_discount.shape[0] - 1) / 2)) * alpha_1\n",
    "index_min = min([k for k in list(range(num_alpha_grid_points)) if alpha_vals[k] >= alpha_1])\n",
    "# print(\"index_min:\", index_min)\n",
    "# print(\"alpha_vals[index_min]:\", alpha_vals[index_min])\n",
    "# print(\"y_star_vals_budget:\", y_star_vals_budget)\n",
    "# print()\n",
    "\n",
    "for k in range(y_star_vals_budget.shape[0]):\n",
    "    if k >= index_min:\n",
    "        y_star_vals_budget[k] = alpha_vals[k]\n",
    "\n",
    "print()\n",
    "# print(\"y_star_vals_budget:\", y_star_vals_budget)\n",
    "\n",
    "y_star_vals_budget = np.concatenate((y_star_vals_budget, \\\n",
    "                                      np.ones(int((y_star_vals_discount.shape[0] - 1) / 2 + 1)) * 0.5))\n",
    "# print(\"y_star_vals_budget:\", y_star_vals_budget)\n",
    "\n",
    "\n",
    "t_2 = time.time()\n",
    "print(\"Time:\", t_2 - t_1)"
   ]
  },
  {
   "cell_type": "code",
   "execution_count": 4,
   "id": "64fece8c",
   "metadata": {},
   "outputs": [
    {
     "name": "stdout",
     "output_type": "stream",
     "text": [
      "alpha_1: 0.1198124885559082\n",
      "alpha_2: 0.15593242645263672\n"
     ]
    }
   ],
   "source": [
    "print(\"alpha_1:\", alpha_1)\n",
    "\n",
    "alpha_2_index = max([k for k in range(len(y_star_vals_discount)) if y_star_vals_discount[k] > alpha_vals[k]])\n",
    "alpha_2 = (y_star_vals_discount[alpha_2_index] + y_star_vals_discount[alpha_2_index+1])/2\n",
    "\n",
    "print(\"alpha_2:\", alpha_2)\n",
    "\n",
    "plt.rcParams['text.usetex'] = True\n",
    "# plt.rcParams['text.usetex'] = False"
   ]
  },
  {
   "cell_type": "code",
   "execution_count": 5,
   "id": "1488d526",
   "metadata": {},
   "outputs": [
    {
     "data": {
      "text/plain": [
       "Text(0, 0.5, '$\\\\displaystyle y^C, y^D$')"
      ]
     },
     "execution_count": 5,
     "metadata": {},
     "output_type": "execute_result"
    },
    {
     "data": {
      "image/png": "[encoded data removed]",
      "text/plain": [
       "<Figure size 432x288 with 1 Axes>"
      ]
     },
     "metadata": {
      "needs_background": "light"
     },
     "output_type": "display_data"
    }
   ],
   "source": [
    "plt.plot(alpha_vals, y_star_vals_discount, 'red')\n",
    "plt.plot(alpha_vals, y_star_vals_budget, 'blue')\n",
    "plt.xlim([0, 1])\n",
    "plt.ylim([-0.1, 0.6])\n",
    "\n",
    "plt.xticks(fontsize = 16)\n",
    "plt.yticks(fontsize = 16)\n",
    "plt.xlabel(r'$\\displaystyle \\alpha$', fontsize=24)\n",
    "plt.ylabel(r'$\\displaystyle y^C, y^D$', fontsize=24)\n",
    "# plt.ylabel(r'$\\displaystyle \\ln(L^t - L^\\star)$', fontsize=16)"
   ]
  },
  {
   "cell_type": "code",
   "execution_count": null,
   "id": "2357c1ee",
   "metadata": {},
   "outputs": [],
   "source": []
  },
  {
   "cell_type": "markdown",
   "id": "1bf8e7e5",
   "metadata": {},
   "source": [
    "## 1 Eligible group, 1 Ineligible group (Theory)"
   ]
  },
  {
   "cell_type": "code",
   "execution_count": 6,
   "id": "5f254b2f",
   "metadata": {},
   "outputs": [],
   "source": [
    "def F_11(val, ell, tau, alpha):\n",
    "    return ell(val) + (1 - alpha) * tau - ell(2 - val)\n",
    "\n",
    "def y_star_11(ell, tau, alpha, lb_init = 0.0, ub_init = 2.0, num_iters = 20):\n",
    "    # Searches for y^\\star satisfying ell(y^\\star) + (1 - \\alpha) \\tau = ell(2 - y^\\star)\n",
    "    \n",
    "    assert tau < ell(ub_init) - ell(lb_init), \"We must have tau < ell(2.0) - ell(0.0), else is trivial.\"\n",
    "    assert 0.0 <= alpha <= 1.0, \"We must have 0.0 <= alpha <= 1.0\"\n",
    "    assert ell(lb_init) + (1.0 - alpha) * tau < ell(ub_init)\n",
    "    \n",
    "    lb = lb_init\n",
    "    ub = ub_init\n",
    "    mid_val = (lb + ub)/2\n",
    "    \n",
    "    for k in range(num_iters):\n",
    "#         print(\"F:\", F_11(mid_val, ell, tau, alpha))\n",
    "#         print(\"lb:\", lb)\n",
    "#         print(\"ub:\", ub)\n",
    "#         print(\"mid_val:\", mid_val)\n",
    "#         print()\n",
    "        \n",
    "        if F_11(mid_val, ell, tau, alpha) < 0:\n",
    "            lb = mid_val\n",
    "        else:\n",
    "            ub = mid_val\n",
    "        mid_val = (lb + ub)/2\n",
    "    \n",
    "    return (lb + ub)/2\n",
    "\n",
    "# def fixed_point_eqn():\n",
    "    \n"
   ]
  },
  {
   "cell_type": "code",
   "execution_count": 7,
   "id": "8c5931fe",
   "metadata": {
    "scrolled": false
   },
   "outputs": [
    {
     "name": "stdout",
     "output_type": "stream",
     "text": [
      "Time: 0.004707813262939453\n"
     ]
    }
   ],
   "source": [
    "t_1 = time.time()\n",
    "\n",
    "ell = lambda x: x**4 / 16\n",
    "# ell = lambda x: np.log(1 + np.exp(x))\n",
    "# alpha = 0.0\n",
    "\n",
    "# # Case 1: \n",
    "# tau = 0.4\n",
    "# v_E = 1\n",
    "# v_I = 1.25\n",
    "\n",
    "# # Case 2: \n",
    "# tau = 0.7\n",
    "# v_E = 1\n",
    "# v_I = 1.25\n",
    "\n",
    "# Case 3: \n",
    "tau = 0.7\n",
    "v_E = 1\n",
    "v_I = 2.5\n",
    "\n",
    "num_alpha_grid_points = 100 # Should be even\n",
    "alpha_vals = np.linspace(0, 1.0, num = num_alpha_grid_points + 1)\n",
    "\n",
    "y_star_zero = y_star_11(ell, tau, alpha = 0.0, lb_init = 0.0, ub_init = 2.0)\n",
    "# print(\"y_star_zero:\", y_star_zero)\n",
    "\n",
    "y_star_vals = np.array([y_star_11(ell, tau, alpha, lb_init = 0.0, ub_init = 2.0) for alpha in alpha_vals])\n",
    "y_star_vals_budget = alpha_vals\n",
    "index_max = max([k for k in list(range(num_alpha_grid_points)) if alpha_vals[k] <= 1 - v_E/v_I])\n",
    "# print(\"index_min:\", index_min)\n",
    "# print(\"alpha_vals[index_min]:\", alpha_vals[index_min])\n",
    "# print(\"y_star_vals_budget:\", y_star_vals_budget)\n",
    "# print()\n",
    "\n",
    "# print(\"y_star_vals:\", y_star_vals)\n",
    "# print()\n",
    "\n",
    "y_star_vals_discount = np.copy(y_star_vals)\n",
    "for k in range(y_star_vals_discount.shape[0]):\n",
    "    if k <= index_max:\n",
    "        y_star_vals_discount[k] = 0.0\n",
    "\n",
    "tau_thresh_for_alpha_3 = 2 * v_E * (ell(1) - ell(1 - 1E-6)) / 1E-6\n",
    "index_for_alpha_3 = max([k for k in list(range(num_alpha_grid_points)) if y_star_vals[k] >= alpha_vals[k] ])\n",
    "alpha_3 = (y_star_vals[index_for_alpha_3] + y_star_vals[index_for_alpha_3 + 1])/2\n",
    "\n",
    "# print(\"y_star_vals_budget:\", y_star_vals_budget)\n",
    "\n",
    "# print(\"y_star_vals_budget:\", y_star_vals_budget)\n",
    "\n",
    "\n",
    "t_2 = time.time()\n",
    "print(\"Time:\", t_2 - t_1)"
   ]
  },
  {
   "cell_type": "code",
   "execution_count": 8,
   "id": "ce866ed3",
   "metadata": {},
   "outputs": [
    {
     "name": "stdout",
     "output_type": "stream",
     "text": [
      "1 - v^E / v^I: 0.6\n",
      "alpha_3: 0.365936279296875\n"
     ]
    }
   ],
   "source": [
    "print(\"1 - v^E / v^I:\", 1 - v_E/v_I)\n",
    "print(\"alpha_3:\", alpha_3)"
   ]
  },
  {
   "cell_type": "code",
   "execution_count": 9,
   "id": "b52bdc72",
   "metadata": {},
   "outputs": [
    {
     "data": {
      "text/plain": [
       "Text(0, 0.5, '$\\\\displaystyle y^C, y^D$')"
      ]
     },
     "execution_count": 9,
     "metadata": {},
     "output_type": "execute_result"
    },
    {
     "data": {
      "image/png": "[encoded data removed]",
      "text/plain": [
       "<Figure size 432x288 with 1 Axes>"
      ]
     },
     "metadata": {
      "needs_background": "light"
     },
     "output_type": "display_data"
    }
   ],
   "source": [
    "plt.plot(alpha_vals, y_star_vals_discount, 'red')\n",
    "plt.plot(alpha_vals, y_star_vals_budget, 'blue')\n",
    "# plt.scatter(alpha_vals, y_star_vals_discount, marker = 'o', s = 0.5, color = 'purple')\n",
    "# plt.scatter(alpha_vals, y_star_vals_budget, marker = 'o', s = 0.5, color = 'black')\n",
    "plt.xlim([0, 1.0])\n",
    "plt.ylim([-0.2, 1.2])\n",
    "\n",
    "plt.xticks(fontsize = 16)\n",
    "plt.yticks(fontsize = 16)\n",
    "plt.xlabel(r'$\\displaystyle \\alpha$', fontsize=24)\n",
    "plt.ylabel(r'$\\displaystyle y^C, y^D$', fontsize=24)\n",
    "# plt.ylabel(r'$\\displaystyle \\ln(L^t - L^\\star)$', fontsize=16)"
   ]
  },
  {
   "cell_type": "code",
   "execution_count": null,
   "id": "de84684b",
   "metadata": {},
   "outputs": [],
   "source": []
  },
  {
   "cell_type": "markdown",
   "id": "cf10c0c0",
   "metadata": {},
   "source": [
    "# Scratch Work - 1 Eligible group, 1 Ineligible group"
   ]
  },
  {
   "cell_type": "code",
   "execution_count": 10,
   "id": "12e80866",
   "metadata": {},
   "outputs": [],
   "source": [
    "def _extract_solution_discount_b1(m):\n",
    "    \"\"\"\n",
    "    Get solution from optimization model\n",
    "    \"\"\"\n",
    "    users_in = [v.x for v in m.getVars() if v.VarName.find(\"ineligible_val\") != -1]\n",
    "    users_el = [v.x for v in m.getVars() if v.VarName.find(\"eligible_allocation\") != -1]\n",
    "    edge_flows = [v.x for v in m.getVars() if v.VarName.find(\"edge_flows\") != -1]\n",
    "    \n",
    "    users_in = np.reshape(users_in, (3, T))\n",
    "    users_el = np.reshape(users_el, (3, T))\n",
    "    edge_flows = np.reshape(edge_flows, (2, T))\n",
    "\n",
    "    solution = {\n",
    "        \"users_in\": users_in,\n",
    "        \"users_el\": users_el,\n",
    "        \"edge_flows\": edge_flows\n",
    "    }\n",
    "    \n",
    "    return solution"
   ]
  },
  {
   "cell_type": "code",
   "execution_count": 11,
   "id": "c4c8db0a",
   "metadata": {},
   "outputs": [],
   "source": [
    "def _extract_solution_discount_d1(m):\n",
    "    \"\"\"\n",
    "    Get solution from optimization model\n",
    "    \"\"\"\n",
    "    users_in = [v.x for v in m.getVars() if v.VarName.find(\"ineligible_val\") != -1]\n",
    "    users_el = [v.x for v in m.getVars() if v.VarName.find(\"eligible_allocation\") != -1]\n",
    "    edge_flows = [v.x for v in m.getVars() if v.VarName.find(\"edge_flows\") != -1]\n",
    "    \n",
    "    users_in = np.reshape(users_in, (2, T))\n",
    "    users_el = np.reshape(users_el, (2, T))\n",
    "    edge_flows = np.reshape(edge_flows, (2, T))\n",
    "\n",
    "    solution = {\n",
    "        \"users_in\": users_in,\n",
    "        \"users_el\": users_el,\n",
    "        \"edge_flows\": edge_flows\n",
    "    }\n",
    "    \n",
    "    return solution"
   ]
  },
  {
   "cell_type": "code",
   "execution_count": 12,
   "id": "d7f3500a",
   "metadata": {},
   "outputs": [],
   "source": [
    "def avg_travel_times_1(solution_set, theta):\n",
    "    \n",
    "    users_in = solution_set[\"users_in\"]\n",
    "    users_el = solution_set[\"users_el\"]\n",
    "    edge_flows = solution_set[\"edge_flows\"]\n",
    "    \n",
    "    avg_travel_time_in = sum( users_in[j, t] * (theta[j,0] + edge_flows[j, t] * theta[j,1]) for j in range(2) for t in range(T)) / T\n",
    "    avg_travel_time_el = sum( users_el[j, t] * (theta[j,0] + edge_flows[j, t] * theta[j,1]) for j in range(2) for t in range(T)) / T\n",
    "    avg_travel_time_all = sum( edge_flows[j, t] * (theta[j,0] + edge_flows[j, t] * theta[j,1]) for j in range(2) for t in range(T)) / (T*2)\n",
    "    \n",
    "    avg_travel_times = {\n",
    "        \"users_in\": avg_travel_time_in,\n",
    "        \"users_el\": avg_travel_time_el,\n",
    "        \"users_all\": avg_travel_time_all\n",
    "    }\n",
    "    \n",
    "    return avg_travel_times\n",
    "\n",
    "# def percentage_users()\n"
   ]
  },
  {
   "cell_type": "code",
   "execution_count": 13,
   "id": "b1ce0860",
   "metadata": {},
   "outputs": [],
   "source": [
    "def m_d1_solve(theta, T, toll, vot_ineligible, vot_eligible, discount_ratio):\n",
    "    a_1 = theta[0, 0]\n",
    "    b_1 = theta[0, 1]\n",
    "    a_2 = theta[1, 0]\n",
    "    b_2 = theta[1, 1]\n",
    "    \n",
    "    # Initialize model\n",
    "    m_d1 = gp.Model()\n",
    "\n",
    "    users_in = m_d1.addVars(2, T, name = 'ineligible_val', lb = -10000.0, ub = 10000.0)\n",
    "    users_el = m_d1.addVars(2, T, name = 'eligible_allocation', lb = -10000.0, ub = 10000.0)\n",
    "    edge_flows = m_d1.addVars(2, T, name = 'edge_flows', lb = -10000.0, ub = 10000.0)\n",
    "\n",
    "    ## Add constraints to Model \n",
    "\n",
    "    # Total edge flow, express and general purpose lanes:\n",
    "    m_d1.addConstrs((edge_flows[j, t] == users_in[j, t] + users_el[j, t] for j in range(2) for t in range(T)))\n",
    "\n",
    "    # Non-negativity of flows, and zero flow for \"eligible users in ineligible groups\":\n",
    "    m_d1.addConstrs((users_in[j, t]>=0 for j in range(2) for t in range(T)))\n",
    "    m_d1.addConstrs((users_el[j, t]>=0 for j in range(2) for t in range(T)))\n",
    "\n",
    "    # Every eligible and ineligible user is assigned to one of three options: \\\n",
    "    # (express paying, express with credit, non-express)\n",
    "    m_d1.addConstrs((sum(users_in[j, t] for j in range(2)) == 1 for t in range(T)))\n",
    "    m_d1.addConstrs((sum(users_el[j, t] for j in range(2)) == 1 for t in range(T)))\n",
    "\n",
    "    ## To edit below:\n",
    "    # Set Objective\n",
    "    m_d1.setObjective(sum( a_1*edge_flows[0, t] + b_1*(edge_flows[0, t]**2)/2  \n",
    "                        + a_2*edge_flows[1, t] + b_2*(edge_flows[1, t]**2)/2 \n",
    "                        + toll*users_in[0,t]/vot_ineligible\n",
    "                        + (1 - discount_ratio)*toll*users_el[0,t]/vot_eligible \n",
    "        for t in range(T)), GRB.MINIMIZE)\n",
    "    \n",
    "    m_d1.update()\n",
    "\n",
    "    m_d1.optimize()\n",
    "    \n",
    "    solution_set_d1 = _extract_solution_discount_d1(m_d1)\n",
    "\n",
    "    return solution_set_d1"
   ]
  },
  {
   "cell_type": "code",
   "execution_count": 14,
   "id": "e03d05a8",
   "metadata": {},
   "outputs": [],
   "source": [
    "def m_b1_solve(theta, T, toll, vot_ineligible, vot_eligible, budget):\n",
    "    a_1 = theta[0, 0]\n",
    "    b_1 = theta[0, 1]\n",
    "    a_2 = theta[1, 0]\n",
    "    b_2 = theta[1, 1]\n",
    "    \n",
    "    # Initialize model\n",
    "    m_b1 = gp.Model()\n",
    "\n",
    "    users_in = m_b1.addVars(3, T, name = 'ineligible_val', lb = -10000.0, ub = 10000.0)\n",
    "    users_el = m_b1.addVars(3, T, name = 'eligible_allocation', lb = -10000.0, ub = 10000.0)\n",
    "    edge_flows = m_b1.addVars(2, T, name = 'edge_flows', lb = -10000.0, ub = 10000.0)\n",
    "\n",
    "    ## Add constraints to Model \n",
    "\n",
    "    # Total edge flow, express and general purpose lanes:\n",
    "    m_b1.addConstrs((edge_flows[0, t] == users_in[0, t] + users_el[0, t] + users_in[1, t] + users_el[1, t] for t in range(T)))\n",
    "    m_b1.addConstrs((edge_flows[1, t] == users_in[2, t] + users_el[2, t] for t in range(T)))\n",
    "\n",
    "    # Non-negativity of flows, and zero flow for \"eligible users in ineligible groups\":\n",
    "    m_b1.addConstrs((users_in[j, t] >= 0 for j in range(3) for t in range(T)))\n",
    "    m_b1.addConstrs((users_el[j, t] >= 0 for j in range(3) for t in range(T)))\n",
    "    m_b1.addConstrs((users_in[0, t] == 0 for t in range(T)))\n",
    "    \n",
    "    # Budget constraint satisfaction:\n",
    "    if toll != 0:\n",
    "        m_b1.addConstr((sum(toll*users_el[0, t] for t in range(T)) <= budget))\n",
    "    m_b1.addConstrs((users_in[0, t] == 0 for t in range(T)))\n",
    "\n",
    "    # Every eligible and ineligible user is assigned to one of three options: \\\n",
    "    # (express paying, express with credit, non-express)\n",
    "    m_b1.addConstrs((sum(users_in[j, t] for j in range(3)) == 1 for t in range(T)))\n",
    "    m_b1.addConstrs((sum(users_el[j, t] for j in range(3)) == 1 for t in range(T)))\n",
    "\n",
    "    ## To edit below:\n",
    "    # Set Objective\n",
    "    m_b1.setObjective(sum( a_1 * (edge_flows[0, t]) + b_1 * (edge_flows[0, t]**2)/2  \n",
    "                        + a_2 * (edge_flows[1, t]) + b_2 * (edge_flows[1, t]**2)/2 \n",
    "                        + toll * users_in[1,t]/vot_ineligible\n",
    "                        + toll * users_el[1,t]/vot_eligible\n",
    "        for t in range(T)), GRB.MINIMIZE)\n",
    "    \n",
    "    m_b1.update()\n",
    "\n",
    "    m_b1.optimize()\n",
    "    \n",
    "    solution_set_b1 = _extract_solution_discount_b1(m_b1)\n",
    "\n",
    "    return solution_set_b1"
   ]
  },
  {
   "cell_type": "code",
   "execution_count": null,
   "id": "d15236cc",
   "metadata": {},
   "outputs": [],
   "source": []
  },
  {
   "cell_type": "code",
   "execution_count": null,
   "id": "11904a71",
   "metadata": {},
   "outputs": [],
   "source": [
    "time_1 = time.time()\n",
    "\n",
    "# Affine lane functions:\n",
    "a_1 = 1.0\n",
    "b_1 = 1.0\n",
    "a_2 = 1.0\n",
    "b_2 = 1.0\n",
    "\n",
    "# a_1 = 0.5\n",
    "# b_1 = 0.5\n",
    "# a_2 = 0.5\n",
    "# b_2 = 0.5\n",
    "\n",
    "# a_1 = 4.0\n",
    "# b_1 = 2.0\n",
    "# a_2 = 5.0\n",
    "# b_2 = 1.5\n",
    "\n",
    "theta = np.array([[a_1, b_1], [a_2, b_2]])\n",
    "T = 5\n",
    "# toll = 1.0\n",
    "# budget = 0.25\n",
    "toll_array = (np.arange(20) + 1)/20\n",
    "budget_array = (np.arange(20) + 1)*T/20\n",
    "\n",
    "vot_ineligible = 1\n",
    "vot_eligible = 1\n",
    "\n",
    "solution_set_array_d1 = {}\n",
    "solution_set_array_bpure_1 = {}\n",
    "solution_set_array_b1 = {}\n",
    "\n",
    "# Return solution:\n",
    "\n",
    "for toll_idx, toll in enumerate(toll_array):\n",
    "    \n",
    "    solution_set_array_at_toll_d1 = {}\n",
    "    solution_set_array_at_toll_bpure_1 = {}\n",
    "    solution_set_array_at_toll_b1 = {}\n",
    "    \n",
    "    for budget_idx, budget in enumerate(budget_array):\n",
    "        \n",
    "        if budget > toll * T:\n",
    "            continue\n",
    "        \n",
    "        discount_ratio = budget / (toll * T)\n",
    "        \n",
    "        print()\n",
    "        print(\"Toll:\", toll)\n",
    "        print(\"Budget:\", budget)\n",
    "        print(\"Discount Ratio:\", discount_ratio)\n",
    "        print()\n",
    "        \n",
    "        solution_set_d1 = m_d1_solve(theta, T, toll, vot_ineligible, vot_eligible, discount_ratio)\n",
    "        solution_set_bpure_1 = m_bpure_1_solve(theta, T, toll, vot_ineligible, vot_eligible, budget)\n",
    "        solution_set_b1 = m_b1_solve(theta, T, toll, vot_ineligible, vot_eligible, budget)\n",
    "        \n",
    "        solution_set_array_at_toll_d1[budget] = solution_set_d1\n",
    "        solution_set_array_at_toll_bpure_1[budget] = solution_set_bpure_1\n",
    "        solution_set_array_at_toll_b1[budget] = solution_set_b1\n",
    "    \n",
    "    solution_set_array_d1[toll] = solution_set_array_at_toll_d1\n",
    "    solution_set_array_bpure_1[toll] = solution_set_array_at_toll_bpure_1\n",
    "    solution_set_array_b1[toll] = solution_set_array_at_toll_b1\n",
    "\n",
    "time_2 = time.time()\n",
    "print(\"Time: \", time_2 - time_1)"
   ]
  },
  {
   "cell_type": "code",
   "execution_count": null,
   "id": "60310c11",
   "metadata": {
    "scrolled": true
   },
   "outputs": [],
   "source": [
    "# Average travel times, discount minus budget:\n",
    "\n",
    "avg_travel_time_discount_minus_budget = np.zeros((toll_array.shape[0], budget_array.shape[0], 6))\n",
    "# 0: in\n",
    "# 1: el\n",
    "# 2: all\n",
    "# 3: in (pure)\n",
    "# 4: el (pure)\n",
    "# 5: all (pure)\n",
    "\n",
    "for toll_idx, toll in enumerate(toll_array):    \n",
    "    for budget_idx, budget in enumerate(budget_array):        \n",
    "        if budget > toll * T:\n",
    "            continue\n",
    "            \n",
    "#         print(\"toll:\", toll)\n",
    "#         print(\"budget:\", budget)\n",
    "#         print()\n",
    "\n",
    "#         diff_in = avg_travel_times_1(solution_set_array_d1[toll][budget], theta)[\"users_in\"] \\\n",
    "#             - avg_travel_times_1(solution_set_array_bpure_1[toll][budget], theta)[\"users_in\"]\n",
    "#         diff_el = avg_travel_times_1(solution_set_array_d1[toll][budget], theta)[\"users_el\"] \\\n",
    "#             - avg_travel_times_1(solution_set_array_bpure_1[toll][budget], theta)[\"users_el\"]\n",
    "#         diff_all = avg_travel_times_1(solution_set_array_d1[toll][budget], theta)[\"users_all\"] \\\n",
    "#             - avg_travel_times_1(solution_set_array_bpure_1[toll][budget], theta)[\"users_all\"]\n",
    "\n",
    "        diff_in = avg_travel_times_1(solution_set_array_d1[toll][budget], theta)[\"users_in\"] \\\n",
    "            - avg_travel_times_1(solution_set_array_b1[toll][budget], theta)[\"users_in\"]\n",
    "        diff_el = avg_travel_times_1(solution_set_array_d1[toll][budget], theta)[\"users_el\"] \\\n",
    "            - avg_travel_times_1(solution_set_array_b1[toll][budget], theta)[\"users_el\"]\n",
    "        diff_all = avg_travel_times_1(solution_set_array_d1[toll][budget], theta)[\"users_all\"] \\\n",
    "            - avg_travel_times_1(solution_set_array_b1[toll][budget], theta)[\"users_all\"]\n",
    "        \n",
    "        diff_in_pure = avg_travel_times_1(solution_set_array_d1[toll][budget], theta)[\"users_in\"] \\\n",
    "            - avg_travel_times_1(solution_set_array_bpure_1[toll][budget], theta)[\"users_in\"]\n",
    "        diff_el_pure = avg_travel_times_1(solution_set_array_d1[toll][budget], theta)[\"users_el\"] \\\n",
    "            - avg_travel_times_1(solution_set_array_bpure_1[toll][budget], theta)[\"users_el\"]\n",
    "        diff_all_pure = avg_travel_times_1(solution_set_array_d1[toll][budget], theta)[\"users_all\"] \\\n",
    "            - avg_travel_times_1(solution_set_array_bpure_1[toll][budget], theta)[\"users_all\"]\n",
    "    \n",
    "        avg_travel_time_discount_minus_budget[toll_idx][budget_idx][0] = diff_in\n",
    "        avg_travel_time_discount_minus_budget[toll_idx][budget_idx][1] = diff_el\n",
    "        avg_travel_time_discount_minus_budget[toll_idx][budget_idx][2] = diff_all\n",
    "        \n",
    "        avg_travel_time_discount_minus_budget[toll_idx][budget_idx][3] = diff_in_pure\n",
    "        avg_travel_time_discount_minus_budget[toll_idx][budget_idx][4] = diff_el_pure\n",
    "        avg_travel_time_discount_minus_budget[toll_idx][budget_idx][5] = diff_all_pure\n",
    "\n",
    "# avg_travel_time_discount_minus_budget"
   ]
  },
  {
   "cell_type": "code",
   "execution_count": null,
   "id": "6300ba39",
   "metadata": {},
   "outputs": [],
   "source": [
    "print(\"Users_in:\")\n",
    "print(\"Max average time difference, discount minus budget, value:\", \\\n",
    "          np.max(avg_travel_time_discount_minus_budget[:, :, 0]))\n",
    "print(\"Min average time difference, discount minus budget, value:\", \\\n",
    "          np.min(avg_travel_time_discount_minus_budget[:, :, 0]))\n",
    "print()\n",
    "\n",
    "print(\"Users_el:\")\n",
    "print(\"Max average time difference, discount minus budget, value:\", \\\n",
    "          np.max(avg_travel_time_discount_minus_budget[:, :, 1]))\n",
    "print(\"Min average time difference, discount minus budget, value:\", \\\n",
    "          np.min(avg_travel_time_discount_minus_budget[:, :, 1]))\n",
    "print()\n",
    "\n",
    "print(\"Users_all:\")\n",
    "print(\"Max average time difference, discount minus budget, value:\", \\\n",
    "          np.max(avg_travel_time_discount_minus_budget[:, :, 2]))\n",
    "print(\"Min average time difference, discount minus budget, value:\", \\\n",
    "          np.min(avg_travel_time_discount_minus_budget[:, :, 2]))\n",
    "print()\n",
    "print()\n",
    "\n",
    "print(\"Users_in (pure):\")\n",
    "print(\"Max average time difference, discount minus budget, value:\", \\\n",
    "          np.max(avg_travel_time_discount_minus_budget[:, :, 3]))\n",
    "print(\"Min average time difference, discount minus budget, value:\", \\\n",
    "          np.min(avg_travel_time_discount_minus_budget[:, :, 3]))\n",
    "print()\n",
    "\n",
    "print(\"Users_el (pure):\")\n",
    "print(\"Max average time difference, discount minus budget, value:\", \\\n",
    "          np.max(avg_travel_time_discount_minus_budget[:, :, 4]))\n",
    "print(\"Min average time difference, discount minus budget, value:\", \\\n",
    "          np.min(avg_travel_time_discount_minus_budget[:, :, 4]))\n",
    "print()\n",
    "\n",
    "print(\"Users_all (pure):\")\n",
    "print(\"Max average time difference, discount minus budget, value:\", \\\n",
    "          np.max(avg_travel_time_discount_minus_budget[:, :, 5]))\n",
    "print(\"Min average time difference, discount minus budget, value:\", \\\n",
    "          np.min(avg_travel_time_discount_minus_budget[:, :, 5]))"
   ]
  },
  {
   "cell_type": "code",
   "execution_count": null,
   "id": "f88ed34f",
   "metadata": {
    "scrolled": true
   },
   "outputs": [],
   "source": [
    "# avg_travel_time_discount_minus_budget[:, :, 2]"
   ]
  },
  {
   "cell_type": "code",
   "execution_count": null,
   "id": "b9dc03b2",
   "metadata": {},
   "outputs": [],
   "source": []
  },
  {
   "cell_type": "code",
   "execution_count": null,
   "id": "0f5e98ab",
   "metadata": {},
   "outputs": [],
   "source": [
    "# edge_flows_d1 = solution_set_d1[\"edge_flows\"]\n",
    "# users_el_d1 = solution_set_d1[\"users_el\"]\n",
    "# users_in_d1 = solution_set_d1[\"users_in\"]\n",
    "\n",
    "# edge_flows_bpure_1 = solution_set_bpure_1[\"edge_flows\"]\n",
    "# users_el_bpure_1 = solution_set_bpure_1[\"users_el\"]\n",
    "# users_in_bpure_1 = solution_set_bpure_1[\"users_in\"]\n",
    "\n",
    "# print(\"edge_flows_d1:\\n\", edge_flows_d1)\n",
    "# print()\n",
    "# print(\"users_el_d1:\\n\", users_el_d1)\n",
    "# print()\n",
    "# print(\"users_in_d1:\\n\", users_in_d1)\n",
    "# print()\n",
    "\n",
    "# print()\n",
    "# print(\"edge_flows_bpure_1:\\n\", edge_flows_bpure_1)\n",
    "# print()\n",
    "# print(\"users_el_bpure_1:\\n\", users_el_bpure_1)\n",
    "# print()\n",
    "# print(\"users_in_bpure_1:\\n\", users_in_bpure_1)\n",
    "# print()\n",
    "\n",
    "# avg_travel_times_d1 = avg_travel_times_1(solution_set_d1, theta)\n",
    "# avg_travel_times_bpure_1 = avg_travel_times_1(solution_set_bpure_1, theta)\n",
    "\n",
    "# print()\n",
    "# print(\"avg_travel_times_d1:\\n\", avg_travel_times_d1)\n",
    "# print()\n",
    "# print(\"avg_travel_times_bpure_1:\\n\", avg_travel_times_bpure_1)\n",
    "# print()"
   ]
  },
  {
   "cell_type": "code",
   "execution_count": null,
   "id": "3e217de7",
   "metadata": {},
   "outputs": [],
   "source": []
  },
  {
   "cell_type": "code",
   "execution_count": null,
   "id": "9742f049",
   "metadata": {},
   "outputs": [],
   "source": []
  },
  {
   "cell_type": "code",
   "execution_count": null,
   "id": "19fb361b",
   "metadata": {},
   "outputs": [],
   "source": []
  },
  {
   "cell_type": "markdown",
   "id": "0e73e806",
   "metadata": {},
   "source": [
    "# From other files:"
   ]
  },
  {
   "cell_type": "code",
   "execution_count": null,
   "id": "d5179a3a",
   "metadata": {},
   "outputs": [],
   "source": [
    "# # Solver 2, Discount:\n",
    "\n",
    "# def OptPL_discount(toll, discount_ratio, T = T, num_eligible = num_eligible, num_ineligible = num_ineligible, \n",
    "#             vot_ineligible = vot_ineligible, alpha = bpr_true_alpha, fftt_1 = bpr_true_fftt, \n",
    "#               fftt_2 = bpr_true_fftt, c_1 = bpr_true_capacity, c_2 = bpr_true_capacity, \n",
    "#              a = const_multiplier, cap_thresh = cap_thresh_multiplier, b_1 = apx_slope, b_2 = apx_slope):\n",
    "#     \"\"\"\n",
    "#     Function to solve convex optimization problem given a particular toll and budget value\n",
    "#     \"\"\"\n",
    "    \n",
    "#     # Initialize model\n",
    "#     m1 = gp.Model()\n",
    "#     # Add variables to model\n",
    "# #     users_in = m1.addVars(num_ineligible, 3, T, name = 'ineligible_val', lb = 0.0, ub = 2.0)\n",
    "# #     edge_flows = m1.addVars(2, T, name = 'edge_flows', lb = 0.0, ub = num_ineligible * 2.0)\n",
    "# #     users_el = m1.addVars(3, T, name = 'eligible_allocation', lb = 0.0, ub = 2.0)\n",
    "#     # Add variables for piecewise affine approximation\n",
    "# #     eps_flows = m1.addVars(2, T, name = 'eps_flows', lb = 0.0, ub = num_ineligible * 2.0)\n",
    "    \n",
    "# #     # Add variables for piecewise affine approximation\n",
    "# #     eps_flows = m1.addVars(2, T, name = 'eps_flows', lb = 0.0, ub = num_ineligible * 2.0)\n",
    "#     users_in = m1.addVars(num_ineligible, 2, T, name = 'ineligible_val', lb = -10000.0, ub = 10000.0)\n",
    "#     edge_flows = m1.addVars(2, T, name = 'edge_flows', lb = -10000.0, ub = 10000.0)\n",
    "#     users_el = m1.addVars(2, T, name = 'eligible_allocation', lb = -10000.0, ub = 10000.0)\n",
    "#     eps_flows = m1.addVars(2, T, name = 'eps_flows', lb = -10000.0, ub = 10000.0)   \n",
    "\n",
    "#     ## Add constraints to Model \n",
    "    \n",
    "#     # Total edge flow, express and general purpose lanes:\n",
    "#     m1.addConstrs((edge_flows[j, t] == sum(users_in[i, j, t] for i in range(num_ineligible)) + \\\n",
    "#                   users_el[j, t] for j in range(2) for t in range(T)))\n",
    "    \n",
    "#     # Non-negativity of flows, and zero flow for \"eligible users in ineligible groups\":\n",
    "#     m1.addConstrs((users_in[i, j, t]>=0 for i in range(num_ineligible) for j in range(2) for t in range(T)))\n",
    "#     m1.addConstrs((users_el[j, t]>=0 for j in range(2) for t in range(T)))\n",
    "    \n",
    "#     # Every eligible and ineligible user is assigned to one of three options: \\\n",
    "#     # (express paying, express with credit, non-express)\n",
    "#     m1.addConstrs((sum(users_in[i, j, t] for j in range(2)) == 1 for i in range(num_ineligible) for t in range(T)))\n",
    "#     m1.addConstrs((sum(users_el[j, t] for j in range(2)) == num_eligible for t in range(T)))\n",
    "        \n",
    "#     # Piecewise affine approximation:\n",
    "#     m1.addConstrs((eps_flows[j, t] >= 0 for j in range(2) for t in range(T))) # Must be at least 0\n",
    "#     m1.addConstrs((eps_flows[0, t] >= edge_flows[0, t] - cap_thresh*c_1 for t in range(T))) # Must be at least flow - capacity\n",
    "#     m1.addConstrs((eps_flows[1, t] >= edge_flows[1, t] - cap_thresh*c_2 for t in range(T))) # Must be at least flow - capacity\n",
    "    \n",
    "    \n",
    "#     ## To edit below:\n",
    "#     # Set Objective\n",
    "#     m1.setObjective(sum( a*fftt_1*(edge_flows[0, t]) + b_1*(eps_flows[0, t]**2)/2  \n",
    "#                         + a*fftt_2*(edge_flows[1, t]) + b_2*(eps_flows[1, t]**2)/2 \n",
    "#                         + sum( toll*users_in[i,0,t]/vot_ineligible[i,t] for i in range(num_ineligible))\n",
    "#                         + sum( (1 - discount_ratio)*toll*users_el[0,t]/vot_eligible[i,t] for i in range(num_eligible))\n",
    "#         for t in range(T)), GRB.MINIMIZE)\n",
    "    \n",
    "#     m1.update()\n",
    "    \n",
    "#     return m1"
   ]
  },
  {
   "cell_type": "code",
   "execution_count": null,
   "id": "f8fba853",
   "metadata": {},
   "outputs": [],
   "source": []
  },
  {
   "cell_type": "markdown",
   "id": "4aa1131a",
   "metadata": {},
   "source": [
    "# Scratch Work:"
   ]
  },
  {
   "cell_type": "code",
   "execution_count": null,
   "id": "7af86ca8",
   "metadata": {},
   "outputs": [],
   "source": [
    "# m_sample = gp.Model()\n"
   ]
  },
  {
   "cell_type": "code",
   "execution_count": null,
   "id": "b9d80be3",
   "metadata": {},
   "outputs": [],
   "source": []
  },
  {
   "cell_type": "markdown",
   "id": "364bcb75",
   "metadata": {},
   "source": [
    "# Plotting code (Old, fill_between):"
   ]
  },
  {
   "cell_type": "code",
   "execution_count": null,
   "id": "9efcfa92",
   "metadata": {},
   "outputs": [],
   "source": [
    "# x = np.arange(0.0, 2, 0.01)\n",
    "# y1 = np.sin(2 * np.pi * x)\n",
    "# y2 = 0.8 * np.sin(4 * np.pi * x)\n",
    "\n",
    "# fig, (ax1, ax2, ax3) = plt.subplots(3, 1, sharex=True, figsize=(6, 6))\n",
    "\n",
    "# ax1.fill_between(x, y1)\n",
    "# ax1.set_title('fill between y1 and 0')"
   ]
  },
  {
   "cell_type": "code",
   "execution_count": null,
   "id": "d93e772e",
   "metadata": {},
   "outputs": [],
   "source": [
    "# _, ax = plt.subplots()\n",
    "\n",
    "# plt.plot(alpha_vals, y_star_vals_discount, 'r')\n",
    "# plt.plot(alpha_vals, y_star_vals_budget, 'k')\n",
    "# plt.plot(alpha_vals, alpha_vals, 'k')\n",
    "# plt.xlim([0, 1])\n",
    "# plt.ylim([0, 1.2])\n",
    "# # axe.Axes.fill_between(alpha_vals, y_star_vals_budget, y_star_vals_discount)\n",
    "# # axe.Axes.fill_between(alpha_vals, y_star_vals_budget, 1)\n",
    "# ax.fill_between(alpha_vals, y_star_vals_budget, alpha_vals, color = 'k')"
   ]
  }
 ],
 "metadata": {
  "kernelspec": {
   "display_name": "Python 3 (ipykernel)",
   "language": "python",
   "name": "python3"
  },
  "language_info": {
   "codemirror_mode": {
    "name": "ipython",
    "version": 3
   },
   "file_extension": ".py",
   "mimetype": "text/x-python",
   "name": "python",
   "nbconvert_exporter": "python",
   "pygments_lexer": "ipython3",
   "version": "3.8.13"
  }
 },
 "nbformat": 4,
 "nbformat_minor": 5
}
