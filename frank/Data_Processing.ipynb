{
 "cells": [
  {
   "cell_type": "code",
   "execution_count": 1,
   "id": "1561e58c",
   "metadata": {},
   "outputs": [],
   "source": [
    "import numpy as np\n",
    "import scipy as sp\n",
    "\n",
    "import matplotlib.pyplot as plt\n",
    "import matplotlib.axes as axe\n",
    "import pandas as pd\n",
    "import datetime as dt\n",
    "import gurobipy as gp\n",
    "from gurobipy import GRB\n",
    "import cvxpy as cp\n",
    "import yaml\n",
    "\n",
    "import random\n",
    "from itertools import chain, combinations, tee\n",
    "import time\n"
   ]
  },
  {
   "cell_type": "markdown",
   "id": "60719deb",
   "metadata": {},
   "source": [
    "# Functions"
   ]
  },
  {
   "cell_type": "code",
   "execution_count": null,
   "id": "5208eab8",
   "metadata": {},
   "outputs": [],
   "source": []
  },
  {
   "cell_type": "code",
   "execution_count": null,
   "id": "5f15e75d",
   "metadata": {},
   "outputs": [],
   "source": []
  },
  {
   "cell_type": "code",
   "execution_count": null,
   "id": "2c314e17",
   "metadata": {},
   "outputs": [],
   "source": []
  },
  {
   "cell_type": "markdown",
   "id": "a35961a8",
   "metadata": {},
   "source": [
    "# Scratch Work"
   ]
  },
  {
   "cell_type": "code",
   "execution_count": 2,
   "id": "aa02770f",
   "metadata": {},
   "outputs": [
    {
     "data": {
      "text/plain": [
       "{0: '9/3/2024 8:00',\n",
       " 1: '9/4/2024 8:00',\n",
       " 2: '9/5/2024 8:00',\n",
       " 3: '9/6/2024 8:00',\n",
       " 4: '9/9/2024 8:00',\n",
       " 5: '9/10/2024 8:00',\n",
       " 6: '9/11/2024 8:00',\n",
       " 7: '9/12/2024 8:00',\n",
       " 8: '9/13/2024 8:00',\n",
       " 9: '9/16/2024 8:00',\n",
       " 10: '9/17/2024 8:00',\n",
       " 11: '9/18/2024 8:00',\n",
       " 12: '9/19/2024 8:00',\n",
       " 13: '9/20/2024 8:00',\n",
       " 14: '9/23/2024 8:00',\n",
       " 15: '9/24/2024 8:00',\n",
       " 16: '9/25/2024 8:00',\n",
       " 17: '9/26/2024 8:00',\n",
       " 18: '9/27/2024 8:00',\n",
       " 19: '9/30/2024 8:00'}"
      ]
     },
     "execution_count": 2,
     "metadata": {},
     "output_type": "execute_result"
    }
   ],
   "source": [
    "date_number_list = [3, 4, 5, 6, 9, 10, 11, 12, 13, 16, 17, 18, 19, 20, 23, 24, 25, 26, 27, 30]\n",
    "\n",
    "dates_list = {}\n",
    "for date_count, date_number in enumerate(date_number_list):\n",
    "    dates_list[date_count] = '9/' + str(date_number_list[date_count]) + '/2024 8:00'\n",
    "\n",
    "dates_list"
   ]
  },
  {
   "cell_type": "code",
   "execution_count": 25,
   "id": "04b24cb1",
   "metadata": {
    "scrolled": false
   },
   "outputs": [
    {
     "name": "stdout",
     "output_type": "stream",
     "text": [
      "\n",
      "4958.0\n",
      "4520.0\n"
     ]
    }
   ],
   "source": [
    "directory_name = '../data/pems___101_N/'\n",
    "filename = '001___402376_Palo_Alto___main.xlsx'\n",
    "\n",
    "# df = pd.read_excel(directory_name + filename)\n",
    "df = pd.read_excel(directory_name + filename, index_col=0)\n",
    "\n",
    "# print(df.to_string())\n",
    "print()\n",
    "\n",
    "print(df.loc['2024-09-03 08:00:00', 'Flow (Veh/Hour)'])\n",
    "print(df.loc['9/3/2024 8:00', 'Flow (Veh/Hour)'])\n"
   ]
  },
  {
   "cell_type": "code",
   "execution_count": null,
   "id": "48302bee",
   "metadata": {},
   "outputs": [],
   "source": []
  }
 ],
 "metadata": {
  "kernelspec": {
   "display_name": "Python 3 (ipykernel)",
   "language": "python",
   "name": "python3"
  },
  "language_info": {
   "codemirror_mode": {
    "name": "ipython",
    "version": 3
   },
   "file_extension": ".py",
   "mimetype": "text/x-python",
   "name": "python",
   "nbconvert_exporter": "python",
   "pygments_lexer": "ipython3",
   "version": "3.8.13"
  }
 },
 "nbformat": 4,
 "nbformat_minor": 5
}
