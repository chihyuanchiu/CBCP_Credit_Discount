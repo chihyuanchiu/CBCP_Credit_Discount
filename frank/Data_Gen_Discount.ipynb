{
 "cells": [
  {
   "cell_type": "code",
   "execution_count": 1,
   "id": "fe572f23",
   "metadata": {},
   "outputs": [],
   "source": [
    "import numpy as np\n",
    "import scipy as sp\n",
    "\n",
    "import matplotlib.pyplot as plt\n",
    "import pandas as pd\n",
    "import datetime as dt\n",
    "import gurobipy as gp\n",
    "from gurobipy import GRB\n",
    "import cvxpy as cp\n",
    "\n",
    "import random\n",
    "from itertools import chain, combinations, tee\n",
    "import time\n"
   ]
  },
  {
   "cell_type": "markdown",
   "id": "b77bf849",
   "metadata": {},
   "source": [
    "# Load Input Data:"
   ]
  },
  {
   "cell_type": "code",
   "execution_count": 2,
   "id": "9e506724",
   "metadata": {},
   "outputs": [
    {
     "name": "stdout",
     "output_type": "stream",
     "text": [
      "[0.01, 0.02, 0.01, 0.02, 0.02, 0.02, 0.02, 0.04, 0.02, 0.07, 0.02, 0.07, 0.16, 0.13, 0.05, 0.25, 0.03, 0.05]\n",
      "\n",
      "[0.00990099 0.01980198 0.00990099 0.01980198 0.01980198 0.01980198\n",
      " 0.01980198 0.03960396 0.01980198 0.06930693 0.01980198 0.06930693\n",
      " 0.15841584 0.12871287 0.04950495 0.24752475 0.02970297 0.04950495]\n"
     ]
    }
   ],
   "source": [
    "vot_pdf = np.genfromtxt('../original_code/VOT_distr.csv', delimiter=',')[1:]\n",
    "vots = []\n",
    "vot_p = []\n",
    "for row in vot_pdf:\n",
    "    vots.append(row[0])\n",
    "    vot_p.append(row[1])\n",
    "print(vot_p)\n",
    "print()\n",
    "vot_p=vot_p/np.sum(vot_p)\n",
    "print(vot_p)"
   ]
  },
  {
   "cell_type": "code",
   "execution_count": null,
   "id": "17ee2a7d",
   "metadata": {},
   "outputs": [],
   "source": []
  },
  {
   "cell_type": "markdown",
   "id": "21778d8d",
   "metadata": {},
   "source": [
    "# Travel time functions:"
   ]
  },
  {
   "cell_type": "code",
   "execution_count": 3,
   "id": "13af7e0a",
   "metadata": {},
   "outputs": [],
   "source": [
    "###### BPR Parameters ###### \n",
    "bpr_true_capacity = 66\n",
    "bpr_true_fftt = 60*22/67\n",
    "bpr_true_alpha = 0.2\n",
    "\n",
    "def true_bpr_cost(flow_val, fftt = bpr_true_fftt, capacity = bpr_true_capacity, alpha = bpr_true_alpha):\n",
    "    \"\"\"\n",
    "    Find the (exact) travel time on an edge given an edge flow\n",
    "    \"\"\"\n",
    "\n",
    "    return fftt * (1+alpha*(flow_val/capacity)**6)\n",
    "\n",
    "###### Approximation Parameters ###### \n",
    "const_multiplier = 1\n",
    "cap_thresh_multiplier = 0.7835\n",
    "apx_slope = 0.314\n",
    "\n",
    "def apx_bpr_cost(flow_val, fftt = bpr_true_fftt, capacity = bpr_true_capacity, \n",
    "                a = const_multiplier, cap_thresh = cap_thresh_multiplier, b = apx_slope):\n",
    "    \"\"\"\n",
    "    Find the (approximate) travel time on an edge given an edge flow\n",
    "    \"\"\"\n",
    "    \n",
    "    if flow_val <= cap_thresh*capacity:\n",
    "        return a*fftt\n",
    "    else:\n",
    "        return a*fftt + b*(flow_val - cap_thresh*capacity)"
   ]
  },
  {
   "cell_type": "code",
   "execution_count": 4,
   "id": "59ec1b27",
   "metadata": {},
   "outputs": [
    {
     "data": {
      "text/plain": [
       "<matplotlib.legend.Legend at 0x7fc8fc178cd0>"
      ]
     },
     "execution_count": 4,
     "metadata": {},
     "output_type": "execute_result"
    },
    {
     "data": {
      "image/png": "[encoded data removed]",
      "text/plain": [
       "<Figure size 432x288 with 1 Axes>"
      ]
     },
     "metadata": {
      "needs_background": "light"
     },
     "output_type": "display_data"
    }
   ],
   "source": [
    "###### Check plots of BPR and approximation ###### \n",
    "multiplier = 100/4 # converts from 100 vehicles/hour --> vehicle/hour per lane\n",
    "\n",
    "x =  np.linspace(0,int(np.round(88*multiplier,0)),int(np.round(89*2*multiplier,0)))\n",
    "y = [true_bpr_cost(i, capacity = bpr_true_capacity*multiplier) for i in x]\n",
    "\n",
    "plt.plot(x, y,label='BPR')\n",
    "\n",
    "y_apx = [apx_bpr_cost(i,capacity = bpr_true_capacity*multiplier, b = apx_slope/multiplier) for i in x]\n",
    "\n",
    "plt.plot(x, y_apx,label='Piecewise Linear Approximation')\n",
    "plt.xlabel(\"Flow/lane (100 vehicles/hour)\")\n",
    "plt.ylabel(\"Travel time (minutes)\")\n",
    "plt.legend(loc='upper left')"
   ]
  },
  {
   "cell_type": "code",
   "execution_count": null,
   "id": "9e0d6a55",
   "metadata": {},
   "outputs": [],
   "source": []
  },
  {
   "cell_type": "markdown",
   "id": "4e4aa9bb",
   "metadata": {},
   "source": [
    "# Generate Demand Profile:"
   ]
  },
  {
   "cell_type": "code",
   "execution_count": 5,
   "id": "7151fa89",
   "metadata": {},
   "outputs": [
    {
     "name": "stdout",
     "output_type": "stream",
     "text": [
      "Tau:\n",
      " [ 0.  1.  2.  3.  4.  5.  6.  7.  8.  9. 10. 11. 12. 13. 14. 15. 16. 17.\n",
      " 18. 19. 20.]\n",
      "\n",
      "B:\n",
      " [ 0.  5. 10. 15. 20. 25. 30. 35. 40. 45. 50. 55. 60. 65. 70. 75. 80. 85.\n",
      " 90.]\n",
      "\n",
      "Eligible vot range:\n",
      " 0.02 (1.2 $/hr), 0.24 (14.399999999999999 $/hr)\n",
      "\n",
      "Ineligible vot range:\n",
      " 0.21(12.6 $/hr), 2.7 (162.0 $/hr)\n",
      "\n",
      "Mean vot:\n",
      " 45.0 $/hr; median: 37.8 $/hr\n"
     ]
    }
   ],
   "source": [
    "###### Specify parameters for problem ###### \n",
    "T = 5 # Time Horizon\n",
    "tau_arr = 20*np.linspace(0, 1, 21)[0:] # Toll discretization\n",
    "print('Tau:\\n {}'.format(tau_arr))\n",
    "print()\n",
    "\n",
    "B_arr = np.linspace(tau_arr[0], tau_arr[-3]*T,19) # Budget discretization \n",
    "print('B:\\n {}'.format(B_arr))\n",
    "print()\n",
    "\n",
    "num_total = 8000 # number of users\n",
    "num_eligible =int( num_total*.17) # number of eligible users\n",
    "num_ineligible = num_total-num_eligible # number of ineligible users\n",
    "\n",
    "###### VoT information ###### \n",
    "vot_all = np.sort(np.round(np.random.choice(vots, size = num_total, p=vot_p),2)/60) # generate baseline VoT for all users\n",
    "vot_all_days = np.empty(shape=(num_total,T)) \n",
    "count=0\n",
    "for v in vot_all:\n",
    "    if count < num_eligible:\n",
    "        vot_all_days[count,:]=[v for t in range(T)] # VoT of eligible users does not vary over time periods\n",
    "    else:\n",
    "        vot_all_days[count,:]=list((1+0.25*(np.random.random_sample(size=T)-0.5))*v) # VoT of ineligible users varies over time periods\n",
    "    count+=1\n",
    "    \n",
    "vot_eligible = vot_all_days[:num_eligible,:]\n",
    "vot_ineligible= vot_all_days[num_eligible:,:]\n",
    "\n",
    "print('Eligible vot range:\\n {} ({} $/hr), {} ({} $/hr)'.format(np.min(vot_eligible),60*np.min(np.round(vot_eligible,2)),np.max(np.round(vot_eligible,2)),60*np.max(np.round(vot_eligible,2))))\n",
    "print()\n",
    "print('Ineligible vot range:\\n {}({} $/hr), {} ({} $/hr)'.format(np.min(np.round(vot_ineligible,2)),60*np.min(np.round(vot_ineligible,2)),np.max(np.round(vot_ineligible,2)),60*np.max(np.round(vot_ineligible,2))))\n",
    "print()\n",
    "print('Mean vot:\\n {} $/hr; median: {} $/hr'.format(60*np.round(np.mean(vot_all_days),2),60*np.round(np.median(vot_all_days),2)))"
   ]
  },
  {
   "cell_type": "code",
   "execution_count": 6,
   "id": "55fa8d82",
   "metadata": {},
   "outputs": [
    {
     "data": {
      "text/plain": [
       "Text(0, 0.5, '% of population')"
      ]
     },
     "execution_count": 6,
     "metadata": {},
     "output_type": "execute_result"
    },
    {
     "data": {
      "image/png": "[encoded data removed]",
      "text/plain": [
       "<Figure size 432x288 with 1 Axes>"
      ]
     },
     "metadata": {
      "needs_background": "light"
     },
     "output_type": "display_data"
    }
   ],
   "source": [
    "###### Check VoT distribution ###### \n",
    "plt.hist(vot_all_days.flatten()*60,bins=41,density=True)\n",
    "plt.xlabel(\"Value of time ($/hour)\")\n",
    "plt.ylabel(\"% of population\")"
   ]
  },
  {
   "cell_type": "markdown",
   "id": "dc603396",
   "metadata": {},
   "source": [
    "# Define Social Objectives of Interest:"
   ]
  },
  {
   "cell_type": "code",
   "execution_count": 7,
   "id": "96a04a57",
   "metadata": {
    "scrolled": true
   },
   "outputs": [
    {
     "name": "stdout",
     "output_type": "stream",
     "text": [
      "12.62\n",
      "18.03\n",
      "23.43\n",
      "30.25\n",
      "37.75\n",
      "44.51\n",
      "63.84\n",
      "68.86\n",
      "74.86\n",
      "80.45\n",
      "162.26\n"
     ]
    }
   ],
   "source": [
    "###### Estimate VoT percentiles for ineligible group ###### \n",
    "percentiles = {}\n",
    "thresh = 10\n",
    "for p in range(11):\n",
    "    print(np.round(np.percentile(vot_ineligible,p*10)*60,2))\n",
    "    percentiles[p*10]=np.percentile(vot_ineligible,p*10)"
   ]
  },
  {
   "cell_type": "code",
   "execution_count": null,
   "id": "63565e39",
   "metadata": {},
   "outputs": [],
   "source": []
  },
  {
   "cell_type": "markdown",
   "id": "9892fd23",
   "metadata": {},
   "source": [
    "# Solver 2, Discount:"
   ]
  },
  {
   "cell_type": "code",
   "execution_count": 9,
   "id": "b0a5c490",
   "metadata": {},
   "outputs": [],
   "source": [
    "# Solver 2, Discount:\n",
    "\n",
    "def OptPL_discount(toll, discount_ratio, T = T, num_eligible = num_eligible, num_ineligible = num_ineligible, \n",
    "            vot_ineligible = vot_ineligible, alpha = bpr_true_alpha, fftt_1 = bpr_true_fftt, \n",
    "              fftt_2 = bpr_true_fftt, c_1 = bpr_true_capacity, c_2 = bpr_true_capacity, \n",
    "             a = const_multiplier, cap_thresh = cap_thresh_multiplier, b_1 = apx_slope, b_2 = apx_slope):\n",
    "    \"\"\"\n",
    "    Function to solve convex optimization problem given a particular toll and budget value\n",
    "    \"\"\"\n",
    "    \n",
    "    # Initialize model\n",
    "    m1 = gp.Model()\n",
    "    # Add variables to model\n",
    "#     users_in = m1.addVars(num_ineligible, 3, T, name = 'ineligible_val', lb = 0.0, ub = 2.0)\n",
    "#     edge_flows = m1.addVars(2, T, name = 'edge_flows', lb = 0.0, ub = num_ineligible * 2.0)\n",
    "#     users_el = m1.addVars(3, T, name = 'eligible_allocation', lb = 0.0, ub = 2.0)\n",
    "    # Add variables for piecewise affine approximation\n",
    "#     eps_flows = m1.addVars(2, T, name = 'eps_flows', lb = 0.0, ub = num_ineligible * 2.0)\n",
    "    \n",
    "#     # Add variables for piecewise affine approximation\n",
    "#     eps_flows = m1.addVars(2, T, name = 'eps_flows', lb = 0.0, ub = num_ineligible * 2.0)\n",
    "    users_in = m1.addVars(num_ineligible, 2, T, name = 'ineligible_val', lb = -10000.0, ub = 10000.0)\n",
    "    edge_flows = m1.addVars(2, T, name = 'edge_flows', lb = -10000.0, ub = 10000.0)\n",
    "    users_el = m1.addVars(2, T, name = 'eligible_allocation', lb = -10000.0, ub = 10000.0)\n",
    "    eps_flows = m1.addVars(2, T, name = 'eps_flows', lb = -10000.0, ub = 10000.0)   \n",
    "\n",
    "    ## Add constraints to Model \n",
    "    \n",
    "    # Total edge flow, express and general purpose lanes:\n",
    "    m1.addConstrs((edge_flows[j, t] == sum(users_in[i, j, t] for i in range(num_ineligible)) + \\\n",
    "                  users_el[j, t] for j in range(2) for t in range(T)))\n",
    "    \n",
    "    # Non-negativity of flows, and zero flow for \"eligible users in ineligible groups\":\n",
    "    m1.addConstrs((users_in[i, j, t]>=0 for i in range(num_ineligible) for j in range(2) for t in range(T)))\n",
    "    m1.addConstrs((users_el[j, t]>=0 for j in range(2) for t in range(T)))\n",
    "    \n",
    "    # Every eligible and ineligible user is assigned to one of three options: \\\n",
    "    # (express paying, express with credit, non-express)\n",
    "    m1.addConstrs((sum(users_in[i, j, t] for j in range(2)) == 1 for i in range(num_ineligible) for t in range(T)))\n",
    "    m1.addConstrs((sum(users_el[j, t] for j in range(2)) == num_eligible for t in range(T)))\n",
    "        \n",
    "    # Piecewise affine approximation:\n",
    "    m1.addConstrs((eps_flows[j, t] >= 0 for j in range(2) for t in range(T))) # Must be at least 0\n",
    "    m1.addConstrs((eps_flows[0, t] >= edge_flows[0, t] - cap_thresh*c_1 for t in range(T))) # Must be at least flow - capacity\n",
    "    m1.addConstrs((eps_flows[1, t] >= edge_flows[1, t] - cap_thresh*c_2 for t in range(T))) # Must be at least flow - capacity\n",
    "    \n",
    "    \n",
    "    ## To edit below:\n",
    "    # Set Objective\n",
    "    m1.setObjective(sum( a*fftt_1*(edge_flows[0, t]) + b_1*(eps_flows[0, t]**2)/2  \n",
    "                        + a*fftt_2*(edge_flows[1, t]) + b_2*(eps_flows[1, t]**2)/2 \n",
    "                        + sum( toll*users_in[i,0,t]/vot_ineligible[i,t] for i in range(num_ineligible))\n",
    "                        + sum( (1 - discount_ratio)*toll*users_el[0,t]/vot_eligible[i,t] for i in range(num_eligible))\n",
    "        for t in range(T)), GRB.MINIMIZE)\n",
    "    \n",
    "    m1.update()\n",
    "    \n",
    "    return m1"
   ]
  },
  {
   "cell_type": "code",
   "execution_count": 10,
   "id": "91c88ac5",
   "metadata": {},
   "outputs": [],
   "source": [
    "def _extract_solution_discount(m, num_ineligible = num_ineligible):\n",
    "    \"\"\"\n",
    "    Get solution from optimization model\n",
    "    \"\"\"\n",
    "    users_in = [v.x for v in m.getVars() if v.VarName.find(\"ineligible_val\") != -1]\n",
    "    users_el = [v.x for v in m.getVars() if v.VarName.find(\"eligible_allocation\") != -1]\n",
    "    edge_flows = [v.x for v in m.getVars() if v.VarName.find(\"edge_flows\") != -1]\n",
    "    eps_flows = [v.x for v in m.getVars() if v.VarName.find(\"eps_flows\") != -1]\n",
    "    \n",
    "    users_in = np.reshape(users_in, (num_ineligible, 2, T))\n",
    "    users_el = np.reshape(users_el, (2, T))\n",
    "    edge_flows = np.reshape(edge_flows, (2, T))\n",
    "    eps_flows = np.reshape(eps_flows, (2, T))\n",
    "\n",
    "    solution = {\n",
    "        \"users_in\": users_in,\n",
    "        \"users_el\": users_el,\n",
    "        \"edge_flows\": edge_flows,\n",
    "        \"eps_flows\": eps_flows\n",
    "    }\n",
    "    return solution"
   ]
  },
  {
   "cell_type": "code",
   "execution_count": 15,
   "id": "05e74136",
   "metadata": {},
   "outputs": [],
   "source": [
    "def to_str(num):\n",
    "    num = int(num)\n",
    "    \n",
    "    # For any number < 100:\n",
    "    if num < 10:\n",
    "        return str(0) + str(num)\n",
    "    else:\n",
    "        return str(num)"
   ]
  },
  {
   "cell_type": "code",
   "execution_count": null,
   "id": "8ffb5ccd",
   "metadata": {},
   "outputs": [],
   "source": []
  },
  {
   "cell_type": "markdown",
   "id": "94991667",
   "metadata": {},
   "source": [
    "# Solve Optimization Problem for Discretized Grid:"
   ]
  },
  {
   "cell_type": "markdown",
   "id": "01a4c4a8",
   "metadata": {},
   "source": [
    "## Case 2 - Discount:"
   ]
  },
  {
   "cell_type": "code",
   "execution_count": 16,
   "id": "fce95aa3",
   "metadata": {},
   "outputs": [],
   "source": [
    "# tau_arr = 20 * np.linspace(0, 1, 21)[0:] # Toll discretization\n",
    "# B_arr = np.linspace(tau_arr[0], tau_arr[-3]*T,19) # Budget discretization \n",
    "# print(tau_arr)\n",
    "# print()\n",
    "# print(B_arr)\n",
    "# print()"
   ]
  },
  {
   "cell_type": "code",
   "execution_count": null,
   "id": "53da97f3",
   "metadata": {},
   "outputs": [],
   "source": []
  },
  {
   "cell_type": "code",
   "execution_count": 17,
   "id": "d9123c11",
   "metadata": {
    "scrolled": true
   },
   "outputs": [
    {
     "name": "stdout",
     "output_type": "stream",
     "text": [
      "\n",
      "Toll: 0.0\n",
      "Budget: 0.0\n",
      "Discount Ratio: 1\n",
      "\n",
      "Gurobi Optimizer version 11.0.0 build v11.0.0rc2 (mac64[x86] - Darwin 23.2.0 23C71)\n",
      "\n",
      "CPU model: Intel(R) Core(TM) i7-8750H CPU @ 2.20GHz\n",
      "Thread count: 6 physical cores, 12 logical processors, using up to 12 threads\n",
      "\n",
      "Optimize a model with 99645 rows, 66430 columns and 199270 nonzeros\n",
      "Model fingerprint: 0x4f369e61\n",
      "Model has 10 quadratic objective terms\n",
      "Coefficient statistics:\n",
      "  Matrix range     [1e+00, 1e+00]\n",
      "  Objective range  [2e+01, 2e+01]\n",
      "  QObjective range [4e-03, 1e-02]\n",
      "  Bounds range     [1e+04, 1e+04]\n",
      "  RHS range        [1e+00, 4e+03]\n",
      "Presolve removed 99630 rows and 66410 columns\n",
      "Presolve time: 0.13s\n",
      "Presolved: 15 rows, 20 columns, 30 nonzeros\n",
      "Presolved model has 10 quadratic objective terms\n",
      "Ordering time: 0.00s\n",
      "\n",
      "Barrier statistics:\n",
      " AA' NZ     : 1.000e+01\n",
      " Factor NZ  : 3.000e+01\n",
      " Factor Ops : 7.000e+01 (less than 1 second per iteration)\n",
      " Threads    : 1\n",
      "\n",
      "                  Objective                Residual\n",
      "Iter       Primal          Dual         Primal    Dual     Compl     Time\n",
      "   0   7.38120843e+06 -2.17735323e+07  3.98e+02 8.04e+02  1.33e+06     0s\n",
      "   1   2.02148139e+06 -7.24030726e+06  2.27e-13 8.04e-04  1.85e+05     0s\n",
      "   2   1.22672981e+06  3.60901377e+05  6.82e-13 1.35e-05  1.73e+04     0s\n",
      "   3   8.86371925e+05  7.76264517e+05  1.59e-12 1.34e-11  2.20e+03     0s\n",
      "   4   8.50996400e+05  8.48068733e+05  5.46e-12 5.68e-14  5.86e+01     0s\n",
      "   5   8.50880829e+05  8.50866231e+05  1.16e-10 1.42e-14  2.92e-01     0s\n",
      "   6   8.50880702e+05  8.50880687e+05  2.52e-10 5.68e-14  2.92e-04     0s\n",
      "   7   8.50880702e+05  8.50880702e+05  1.14e-10 0.00e+00  2.92e-07     0s\n",
      "   8   8.50880702e+05  8.50880702e+05  8.61e-13 2.13e-14  2.92e-10     0s\n",
      "\n",
      "Barrier solved model in 8 iterations and 0.15 seconds (0.11 work units)\n",
      "Optimal objective 8.50880702e+05\n",
      "\n",
      "\n",
      "Edge flows: [[2000. 2000. 2000. 2000. 2000.]\n",
      " [6000. 6000. 6000. 6000. 6000.]]\n",
      "\n",
      "\n",
      "Toll: 0.0\n",
      "Budget: 10.0\n",
      "Discount Ratio: 1\n",
      "\n",
      "Gurobi Optimizer version 11.0.0 build v11.0.0rc2 (mac64[x86] - Darwin 23.2.0 23C71)\n",
      "\n",
      "CPU model: Intel(R) Core(TM) i7-8750H CPU @ 2.20GHz\n",
      "Thread count: 6 physical cores, 12 logical processors, using up to 12 threads\n",
      "\n",
      "Optimize a model with 99645 rows, 66430 columns and 199270 nonzeros\n",
      "Model fingerprint: 0x4f369e61\n",
      "Model has 10 quadratic objective terms\n",
      "Coefficient statistics:\n",
      "  Matrix range     [1e+00, 1e+00]\n",
      "  Objective range  [2e+01, 2e+01]\n",
      "  QObjective range [4e-03, 1e-02]\n",
      "  Bounds range     [1e+04, 1e+04]\n",
      "  RHS range        [1e+00, 4e+03]\n",
      "Presolve removed 99630 rows and 66410 columns\n",
      "Presolve time: 0.12s\n",
      "Presolved: 15 rows, 20 columns, 30 nonzeros\n",
      "Presolved model has 10 quadratic objective terms\n",
      "Ordering time: 0.00s\n",
      "\n",
      "Barrier statistics:\n",
      " AA' NZ     : 1.000e+01\n",
      " Factor NZ  : 3.000e+01\n",
      " Factor Ops : 7.000e+01 (less than 1 second per iteration)\n",
      " Threads    : 1\n",
      "\n",
      "                  Objective                Residual\n",
      "Iter       Primal          Dual         Primal    Dual     Compl     Time\n",
      "   0   7.38120843e+06 -2.17735323e+07  3.98e+02 8.04e+02  1.33e+06     0s\n",
      "   1   2.02148139e+06 -7.24030726e+06  2.27e-13 8.04e-04  1.85e+05     0s\n",
      "   2   1.22672981e+06  3.60901377e+05  6.82e-13 1.35e-05  1.73e+04     0s\n",
      "   3   8.86371925e+05  7.76264517e+05  1.59e-12 1.34e-11  2.20e+03     0s\n",
      "   4   8.50996400e+05  8.48068733e+05  5.46e-12 5.68e-14  5.86e+01     0s\n",
      "   5   8.50880829e+05  8.50866231e+05  1.16e-10 1.42e-14  2.92e-01     0s\n",
      "   6   8.50880702e+05  8.50880687e+05  2.52e-10 5.68e-14  2.92e-04     0s\n",
      "   7   8.50880702e+05  8.50880702e+05  1.14e-10 0.00e+00  2.92e-07     0s\n",
      "   8   8.50880702e+05  8.50880702e+05  8.61e-13 2.13e-14  2.92e-10     0s\n",
      "\n",
      "Barrier solved model in 8 iterations and 0.14 seconds (0.11 work units)\n",
      "Optimal objective 8.50880702e+05\n",
      "\n"
     ]
    },
    {
     "ename": "KeyboardInterrupt",
     "evalue": "",
     "output_type": "error",
     "traceback": [
      "\u001b[0;31m---------------------------------------------------------------------------\u001b[0m",
      "\u001b[0;31mKeyboardInterrupt\u001b[0m                         Traceback (most recent call last)",
      "Input \u001b[0;32mIn [17]\u001b[0m, in \u001b[0;36m<cell line: 36>\u001b[0;34m()\u001b[0m\n\u001b[1;32m     51\u001b[0m m_discount\u001b[38;5;241m.\u001b[39moptimize()\n\u001b[1;32m     53\u001b[0m \u001b[38;5;66;03m# Extract Solution:\u001b[39;00m\n\u001b[0;32m---> 54\u001b[0m solution_set \u001b[38;5;241m=\u001b[39m \u001b[43m_extract_solution_discount\u001b[49m\u001b[43m(\u001b[49m\u001b[43mm_discount\u001b[49m\u001b[43m)\u001b[49m\n\u001b[1;32m     56\u001b[0m \u001b[38;5;28;01mif\u001b[39;00m toll \u001b[38;5;241m==\u001b[39m tau_arr[\u001b[38;5;241m0\u001b[39m]:\n\u001b[1;32m     57\u001b[0m     \u001b[38;5;28mprint\u001b[39m()\n",
      "Input \u001b[0;32mIn [10]\u001b[0m, in \u001b[0;36m_extract_solution_discount\u001b[0;34m(m, num_ineligible)\u001b[0m\n\u001b[1;32m      1\u001b[0m \u001b[38;5;28;01mdef\u001b[39;00m \u001b[38;5;21m_extract_solution_discount\u001b[39m(m, num_ineligible \u001b[38;5;241m=\u001b[39m num_ineligible):\n\u001b[1;32m      2\u001b[0m     \u001b[38;5;124;03m\"\"\"\u001b[39;00m\n\u001b[1;32m      3\u001b[0m \u001b[38;5;124;03m    Get solution from optimization model\u001b[39;00m\n\u001b[1;32m      4\u001b[0m \u001b[38;5;124;03m    \"\"\"\u001b[39;00m\n\u001b[0;32m----> 5\u001b[0m     users_in \u001b[38;5;241m=\u001b[39m [v\u001b[38;5;241m.\u001b[39mx \u001b[38;5;28;01mfor\u001b[39;00m v \u001b[38;5;129;01min\u001b[39;00m m\u001b[38;5;241m.\u001b[39mgetVars() \u001b[38;5;28;01mif\u001b[39;00m v\u001b[38;5;241m.\u001b[39mVarName\u001b[38;5;241m.\u001b[39mfind(\u001b[38;5;124m\"\u001b[39m\u001b[38;5;124mineligible_val\u001b[39m\u001b[38;5;124m\"\u001b[39m) \u001b[38;5;241m!=\u001b[39m \u001b[38;5;241m-\u001b[39m\u001b[38;5;241m1\u001b[39m]\n\u001b[1;32m      6\u001b[0m     users_el \u001b[38;5;241m=\u001b[39m [v\u001b[38;5;241m.\u001b[39mx \u001b[38;5;28;01mfor\u001b[39;00m v \u001b[38;5;129;01min\u001b[39;00m m\u001b[38;5;241m.\u001b[39mgetVars() \u001b[38;5;28;01mif\u001b[39;00m v\u001b[38;5;241m.\u001b[39mVarName\u001b[38;5;241m.\u001b[39mfind(\u001b[38;5;124m\"\u001b[39m\u001b[38;5;124meligible_allocation\u001b[39m\u001b[38;5;124m\"\u001b[39m) \u001b[38;5;241m!=\u001b[39m \u001b[38;5;241m-\u001b[39m\u001b[38;5;241m1\u001b[39m]\n\u001b[1;32m      7\u001b[0m     edge_flows \u001b[38;5;241m=\u001b[39m [v\u001b[38;5;241m.\u001b[39mx \u001b[38;5;28;01mfor\u001b[39;00m v \u001b[38;5;129;01min\u001b[39;00m m\u001b[38;5;241m.\u001b[39mgetVars() \u001b[38;5;28;01mif\u001b[39;00m v\u001b[38;5;241m.\u001b[39mVarName\u001b[38;5;241m.\u001b[39mfind(\u001b[38;5;124m\"\u001b[39m\u001b[38;5;124medge_flows\u001b[39m\u001b[38;5;124m\"\u001b[39m) \u001b[38;5;241m!=\u001b[39m \u001b[38;5;241m-\u001b[39m\u001b[38;5;241m1\u001b[39m]\n",
      "Input \u001b[0;32mIn [10]\u001b[0m, in \u001b[0;36m<listcomp>\u001b[0;34m(.0)\u001b[0m\n\u001b[1;32m      1\u001b[0m \u001b[38;5;28;01mdef\u001b[39;00m \u001b[38;5;21m_extract_solution_discount\u001b[39m(m, num_ineligible \u001b[38;5;241m=\u001b[39m num_ineligible):\n\u001b[1;32m      2\u001b[0m     \u001b[38;5;124;03m\"\"\"\u001b[39;00m\n\u001b[1;32m      3\u001b[0m \u001b[38;5;124;03m    Get solution from optimization model\u001b[39;00m\n\u001b[1;32m      4\u001b[0m \u001b[38;5;124;03m    \"\"\"\u001b[39;00m\n\u001b[0;32m----> 5\u001b[0m     users_in \u001b[38;5;241m=\u001b[39m [v\u001b[38;5;241m.\u001b[39mx \u001b[38;5;28;01mfor\u001b[39;00m v \u001b[38;5;129;01min\u001b[39;00m m\u001b[38;5;241m.\u001b[39mgetVars() \u001b[38;5;28;01mif\u001b[39;00m \u001b[43mv\u001b[49m\u001b[38;5;241;43m.\u001b[39;49m\u001b[43mVarName\u001b[49m\u001b[38;5;241m.\u001b[39mfind(\u001b[38;5;124m\"\u001b[39m\u001b[38;5;124mineligible_val\u001b[39m\u001b[38;5;124m\"\u001b[39m) \u001b[38;5;241m!=\u001b[39m \u001b[38;5;241m-\u001b[39m\u001b[38;5;241m1\u001b[39m]\n\u001b[1;32m      6\u001b[0m     users_el \u001b[38;5;241m=\u001b[39m [v\u001b[38;5;241m.\u001b[39mx \u001b[38;5;28;01mfor\u001b[39;00m v \u001b[38;5;129;01min\u001b[39;00m m\u001b[38;5;241m.\u001b[39mgetVars() \u001b[38;5;28;01mif\u001b[39;00m v\u001b[38;5;241m.\u001b[39mVarName\u001b[38;5;241m.\u001b[39mfind(\u001b[38;5;124m\"\u001b[39m\u001b[38;5;124meligible_allocation\u001b[39m\u001b[38;5;124m\"\u001b[39m) \u001b[38;5;241m!=\u001b[39m \u001b[38;5;241m-\u001b[39m\u001b[38;5;241m1\u001b[39m]\n\u001b[1;32m      7\u001b[0m     edge_flows \u001b[38;5;241m=\u001b[39m [v\u001b[38;5;241m.\u001b[39mx \u001b[38;5;28;01mfor\u001b[39;00m v \u001b[38;5;129;01min\u001b[39;00m m\u001b[38;5;241m.\u001b[39mgetVars() \u001b[38;5;28;01mif\u001b[39;00m v\u001b[38;5;241m.\u001b[39mVarName\u001b[38;5;241m.\u001b[39mfind(\u001b[38;5;124m\"\u001b[39m\u001b[38;5;124medge_flows\u001b[39m\u001b[38;5;124m\"\u001b[39m) \u001b[38;5;241m!=\u001b[39m \u001b[38;5;241m-\u001b[39m\u001b[38;5;241m1\u001b[39m]\n",
      "\u001b[0;31mKeyboardInterrupt\u001b[0m: "
     ]
    }
   ],
   "source": [
    "t_1 = time.time()\n",
    "\n",
    "demand_multiplier = [25,75]\n",
    "\n",
    "# For saving data:\n",
    "path_directory = \"/Users/chih-yuanchiu/Desktop/Code/CBCP_Credit_Discount/data_discount/\"\n",
    "\n",
    "row_names = [\"Edge flows\", \"Eps flows\", \"Eligible User Flows\"]\n",
    "row_names += [\"Ineligible User Flow, \" + str(k) for k in list(range(num_ineligible + 1))[1:]]\n",
    "\n",
    "column_names = []\n",
    "workday_names = [\"Monday\", \"Tuesday\", \"Wednesday\", \"Thursday\", \"Friday\"]\n",
    "lane_names = [\"Express\", \"General Purpose\"]\n",
    "for workday_index, workday in enumerate(workday_names):\n",
    "    for lane_index, lane in enumerate(lane_names):\n",
    "        column_names.append(workday + \", \" + lane)\n",
    "\n",
    "# Copied from above:\n",
    "# tau_arr = 20 * np.linspace(0, 1, 21)[0:] # Toll discretization\n",
    "# B_arr = np.linspace(tau_arr[0], tau_arr[-3]*T,19) # Budget discretization \n",
    "\n",
    "## For debugging purposes, truncate tau_arr and B_arr:\n",
    "# tau_arr = [0.0, 5.0, 10.0, 15.0, 20.0]\n",
    "# B_arr = [0.0, 5.0, 10.0, 15.0, 20.0]\n",
    "# tau_arr = [20]\n",
    "tau_arr = 20 * np.linspace(0, 1, 11)[0:] \n",
    "B_arr = np.linspace(0, tau_arr[-1]*4, 9)\n",
    "# tau_arr = [2.0]\n",
    "# B_arr = [0.0]\n",
    "\n",
    "\n",
    "\n",
    "total_count = len(tau_arr) * len(B_arr)\n",
    "\n",
    "\n",
    "for toll_idx, toll in enumerate(tau_arr):\n",
    "    for budget_idx, budget in enumerate(B_arr):\n",
    "        \n",
    "        discount_ratio = budget/(toll*T) if (toll != 0 and budget < toll*T) else 1\n",
    "        print()\n",
    "        print(\"Toll:\", toll)\n",
    "        print(\"Budget:\", budget)\n",
    "        print(\"Discount Ratio:\", discount_ratio)\n",
    "        print()\n",
    "        \n",
    "        m_discount = OptPL_discount(toll, discount_ratio, T = T, num_eligible = num_eligible, num_ineligible = num_ineligible, \n",
    "                    vot_ineligible = vot_ineligible, alpha = bpr_true_alpha, fftt_1 = bpr_true_fftt, \n",
    "                      fftt_2 = bpr_true_fftt, c_1 = bpr_true_capacity*demand_multiplier[0], c_2 = bpr_true_capacity*demand_multiplier[1], \n",
    "                     a = const_multiplier, cap_thresh = cap_thresh_multiplier, b_1 = apx_slope/demand_multiplier[0], b_2 = apx_slope/(demand_multiplier[1]))\n",
    "\n",
    "        m_discount.optimize()\n",
    "        \n",
    "        # Extract Solution:\n",
    "        solution_set = _extract_solution_discount(m_discount)\n",
    "        \n",
    "        if toll == tau_arr[0]:\n",
    "            print()\n",
    "            print(\"Edge flows:\", solution_set[\"edge_flows\"])\n",
    "            print()\n",
    "            \n",
    "        ### Frank - To modify below:\n",
    "        # Storing data:\n",
    "        data_edge_flows = solution_set[\"edge_flows\"].T.reshape(10)\n",
    "        data_eps_flow = solution_set[\"eps_flows\"].T.reshape(10)\n",
    "        data_users_el = solution_set[\"users_el\"].T.reshape(10)\n",
    "        data_users_in = solution_set[\"users_in\"].transpose(0, 2, 1).reshape((num_ineligible, 5*2))\n",
    "        data = np.vstack((data_edge_flows, data_eps_flow, data_users_el, data_users_in))\n",
    "        \n",
    "        file_name = path_directory + \"toll_\" + to_str(toll) + \"_budget_\" + to_str(budget) + \".csv\"\n",
    "        df = pd.DataFrame(data, columns = column_names, index = row_names)        \n",
    "        df.to_csv(file_name)\n",
    "        \n",
    "                \n",
    "\n",
    "t_2 = time.time()\n",
    "print(\"Run time:\", t_2 - t_1)"
   ]
  },
  {
   "cell_type": "code",
   "execution_count": null,
   "id": "5bd7ac50",
   "metadata": {},
   "outputs": [],
   "source": [
    "# print(\"num_total:\", num_total)\n",
    "# print(\"num_eligible:\", num_eligible)\n",
    "# print(\"num_ineligible:\", num_ineligible)\n",
    "# print(\"toll:\", toll)\n",
    "# print(\"budget:\", budget)\n",
    "# print(\"num_eligible:\", num_eligible)\n",
    "# print(\"num_ineligible_trunc:\", num_ineligible_trunc)\n",
    "# print(\"vot_ineligible:\", vot_ineligible)\n",
    "# print(\"alpha:\", bpr_true_alpha)\n",
    "# print(\"fftt_1:\", bpr_true_fftt)\n",
    "# print(\"fftt_2:\", bpr_true_fftt)\n",
    "# print(\"c_1:\", bpr_true_capacity*demand_multiplier[0])\n",
    "# print(\"c_2:\", bpr_true_capacity*demand_multiplier[1])\n",
    "# print(\"a:\", const_multiplier)\n",
    "# print(\"cap_thresh:\", cap_thresh_multiplier)\n",
    "# print(\"b_1:\", apx_slope/demand_multiplier[0])\n",
    "# print(\"b_2:\", apx_slope/demand_multiplier[1])\n",
    "# print()"
   ]
  },
  {
   "cell_type": "code",
   "execution_count": null,
   "id": "b2f6ea8e",
   "metadata": {},
   "outputs": [],
   "source": [
    "solution_gurobi.keys()"
   ]
  },
  {
   "cell_type": "code",
   "execution_count": null,
   "id": "04f65ba7",
   "metadata": {},
   "outputs": [],
   "source": [
    "solution_gurobi = _extract_solution_discount(m_discount)\n",
    "\n",
    "print(solution_gurobi[\"edge_flows\"].shape)\n",
    "print()\n",
    "print(solution_gurobi[\"eps_flows\"].shape)\n",
    "print()\n",
    "print(solution_gurobi[\"users_in\"].shape)\n",
    "print()\n",
    "print(solution_gurobi[\"users_el\"].shape)\n",
    "\n"
   ]
  },
  {
   "cell_type": "code",
   "execution_count": null,
   "id": "f103ec08",
   "metadata": {},
   "outputs": [],
   "source": [
    "# print(\"num_total:\", num_total)\n",
    "# print(\"num_eligible:\", num_eligible)\n",
    "# print(\"num_ineligible:\", num_ineligible)\n",
    "\n"
   ]
  },
  {
   "cell_type": "code",
   "execution_count": null,
   "id": "30b00d7d",
   "metadata": {},
   "outputs": [],
   "source": []
  },
  {
   "cell_type": "markdown",
   "id": "5159a0a6",
   "metadata": {},
   "source": [
    "## Discount, Test:"
   ]
  },
  {
   "cell_type": "code",
   "execution_count": null,
   "id": "c82e441f",
   "metadata": {},
   "outputs": [],
   "source": [
    "time_1 = time.time()\n",
    "\n",
    "\n",
    "demand_multiplier = [25,75]\n",
    "\n",
    "# num_ineligible_trunc = num_ineligible\n",
    "\n",
    "# Truncating num_ineligible to enable comparison with CVXPY (which is very, very slow):\n",
    "# num_ineligible_trunc = 200\n",
    "# num_ineligible_trunc = int(num_ineligible/3)\n",
    "num_ineligible_trunc = num_ineligible\n",
    "discount_ratio = budget/(toll*T)\n",
    "\n",
    "# toll = 1.0\n",
    "# budget = 3.0\n",
    "\n",
    "# print(\"num_total:\", num_total)\n",
    "# print(\"num_eligible:\", num_eligible)\n",
    "# print(\"num_ineligible:\", num_ineligible)\n",
    "# print(\"toll:\", toll)\n",
    "# print(\"budget:\", budget)\n",
    "# print(\"num_eligible:\", num_eligible)\n",
    "# print(\"num_ineligible_trunc:\", num_ineligible_trunc)\n",
    "# print(\"vot_ineligible:\", vot_ineligible)\n",
    "# print(\"alpha:\", bpr_true_alpha)\n",
    "# print(\"fftt_1:\", bpr_true_fftt)\n",
    "# print(\"fftt_2:\", bpr_true_fftt)\n",
    "# print(\"c_1:\", bpr_true_capacity*demand_multiplier[0])\n",
    "# print(\"c_2:\", bpr_true_capacity*demand_multiplier[1])\n",
    "# print(\"a:\", const_multiplier)\n",
    "# print(\"cap_thresh:\", cap_thresh_multiplier)\n",
    "# print(\"b_1:\", apx_slope/demand_multiplier[0])\n",
    "# print(\"b_2:\", apx_slope/demand_multiplier[1])\n",
    "# print()\n",
    "\n",
    "\n",
    "m_discount = OptPL_discount(toll, discount_ratio, T = T, num_eligible = num_eligible, num_ineligible = num_ineligible_trunc, \n",
    "            vot_ineligible = vot_ineligible, alpha = bpr_true_alpha, fftt_1 = bpr_true_fftt, \n",
    "              fftt_2 = bpr_true_fftt, c_1 = bpr_true_capacity*demand_multiplier[0], c_2 = bpr_true_capacity*demand_multiplier[1], \n",
    "             a = const_multiplier, cap_thresh = cap_thresh_multiplier, b_1 = apx_slope/demand_multiplier[0], b_2 = apx_slope/(demand_multiplier[1]))\n",
    "\n",
    "m_discount.optimize()\n",
    "\n",
    "time_2 = time.time()\n",
    "print(\"Run time:\", time_2 - time_1)"
   ]
  },
  {
   "cell_type": "code",
   "execution_count": null,
   "id": "0a63305a",
   "metadata": {},
   "outputs": [],
   "source": [
    "solution_discount = _extract_solution_discount(m_discount)"
   ]
  },
  {
   "cell_type": "code",
   "execution_count": null,
   "id": "c4f76877",
   "metadata": {},
   "outputs": [],
   "source": [
    "print(solution_discount[\"edge_flows\"])\n",
    "print()\n",
    "print(solution_discount[\"eps_flows\"])\n",
    "\n"
   ]
  },
  {
   "cell_type": "code",
   "execution_count": null,
   "id": "72381258",
   "metadata": {},
   "outputs": [],
   "source": []
  },
  {
   "cell_type": "code",
   "execution_count": null,
   "id": "735bfe52",
   "metadata": {},
   "outputs": [],
   "source": []
  },
  {
   "cell_type": "markdown",
   "id": "d6e4fe9c",
   "metadata": {},
   "source": [
    "# Scratch Work:"
   ]
  },
  {
   "cell_type": "code",
   "execution_count": null,
   "id": "b22eb9db",
   "metadata": {},
   "outputs": [],
   "source": [
    "# 20*np.linspace(0, 1, 21)[0:]\n",
    "# np.linspace(toll_arr[0], toll_arr[-3]*T,19)"
   ]
  },
  {
   "cell_type": "code",
   "execution_count": null,
   "id": "7ee1e92e",
   "metadata": {},
   "outputs": [],
   "source": []
  },
  {
   "cell_type": "code",
   "execution_count": null,
   "id": "233bd7d6",
   "metadata": {},
   "outputs": [],
   "source": []
  }
 ],
 "metadata": {
  "kernelspec": {
   "display_name": "Python 3 (ipykernel)",
   "language": "python",
   "name": "python3"
  },
  "language_info": {
   "codemirror_mode": {
    "name": "ipython",
    "version": 3
   },
   "file_extension": ".py",
   "mimetype": "text/x-python",
   "name": "python",
   "nbconvert_exporter": "python",
   "pygments_lexer": "ipython3",
   "version": "3.8.13"
  }
 },
 "nbformat": 4,
 "nbformat_minor": 5
}
