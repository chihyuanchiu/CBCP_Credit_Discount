{
 "cells": [
  {
   "cell_type": "code",
   "execution_count": 1,
   "id": "1a2d4b50",
   "metadata": {},
   "outputs": [],
   "source": [
    "import numpy as np\n",
    "import scipy as sp\n",
    "\n",
    "import matplotlib.pyplot as plt\n",
    "import matplotlib.axes as axe\n",
    "import pandas as pd\n",
    "import datetime as dt\n",
    "import gurobipy as gp\n",
    "from gurobipy import GRB\n",
    "import cvxpy as cp\n",
    "\n",
    "import random\n",
    "from itertools import chain, combinations, tee\n",
    "import time\n"
   ]
  },
  {
   "cell_type": "markdown",
   "id": "0ab073dd",
   "metadata": {},
   "source": [
    "# General CBCP Equilibrium Solver"
   ]
  },
  {
   "cell_type": "markdown",
   "id": "cdf3540f",
   "metadata": {},
   "source": [
    "## Quartic Polynomial Latency Functions"
   ]
  },
  {
   "cell_type": "code",
   "execution_count": 6,
   "id": "5a8a120c",
   "metadata": {},
   "outputs": [
    {
     "data": {
      "text/plain": [
       "array([3, 4])"
      ]
     },
     "execution_count": 6,
     "metadata": {},
     "output_type": "execute_result"
    }
   ],
   "source": [
    "x_temp = np.array([0, 1, 2, 3, 4])\n",
    "x_temp[-2:]"
   ]
  },
  {
   "cell_type": "code",
   "execution_count": 1,
   "id": "0ca073dd",
   "metadata": {},
   "outputs": [],
   "source": [
    "# Latency Function: a_4 x^4 + a_3 x^3 + a_2 x^2 + a_1 x + a_0\n",
    "\n",
    "# def solve_CBCP_iter(v_ineligible_list, v_eligible_list, a = , num_iters = 1000, alpha_0 = ):\n",
    "    \n",
    "#     # TODO\n",
    "    \n",
    "#     return y_opt\n",
    "\n",
    "\n",
    "def solve_CBCP_iter_11(tau, B, v_I, v_E, a = np.array([0, 1]), input_flow = 1, \\\n",
    "                       num_iters_max = 5000, error_bound = 1E-3, diffs_range = 10, \\\n",
    "                       y_init = np.array([0.0, 0.0, 1.0, 1.0, 0.0]) ):\n",
    "    \n",
    "    # Order of y_init: \\hat y_1 E, \\tilde y_1 E\n",
    "    \n",
    "    # Initialize y_el_fixed, y_in_fixed:\n",
    "    y_el_fixed = y_init[0:3]\n",
    "    y_in_fixed = y_init[-2:]\n",
    "    \n",
    "    for k in range(num_iters_max):\n",
    "        \n",
    "        # y_el: \\hat y_1 E, \\tilde y_1 E, y_2 E\n",
    "        y_el_var = cp.Variable(3)\n",
    "        # y_in: y_1 I, y_2 I\n",
    "        y_in_var = cp.Variable(2)\n",
    "        \n",
    "        # Compute gradient:\n",
    "        \n",
    "        grad = np.zeros(5)\n",
    "        grad[0] = a[1] * (y_el_var[0] + y_el_var[1] + y_in_var[0]) + a[0] + tau / v_E\n",
    "        grad[1] = a[1] * (y_el_var[0] + y_el_var[1] + y_in_var[0]) + a[0]\n",
    "        grad[2] = a[1] * (y_el_var[2] + y_in_var[1]) + a[0]\n",
    "        grad[3] = a[1] * (y_el_var[0] + y_el_var[1] + y_in_var[0]) + a[0] + tau / v_I\n",
    "        grad[4] = a[1] * (y_el_var[2] + y_in_var[1]) + a[0]\n",
    "        \n",
    "        constraints = []\n",
    "        constraints += [y_el >= 0, y_in >= 0]\n",
    "        constraints += [cp.sum(y_el) == 1, cp.sum(y_in) == 1]\n",
    "        constraints += [y_el[1] * tau <= B]\n",
    "\n",
    "        prob = cp.Problem(objective, constraints)\n",
    "\n",
    "        # The optimal objective value is returned by `prob.solve()`.\n",
    "        result = prob.solve()\n",
    "        # The optimal value for x is stored in `x.value`.\n",
    "        print(\"y_el.value:\", y_el.value)\n",
    "        print(\"y_in.value:\", y_in.value)\n",
    "        \n",
    "        if max([-diffs_range:]) - min(-diffs_range:) <= error_bound: \n",
    "            break\n",
    "    \n",
    "    return y_opt\n",
    "\n",
    "def solve_CBCP_direct_11(tau, B, v_I, v_E, a = np.array([1, 0]), input_flow = 1):\n",
    "\n",
    "    # y_el: \\hat y_1, \\tilde y_1, y_2\n",
    "    y_el = cp.Variable(3)\n",
    "    # y_in: y_1, y_2\n",
    "    y_in = cp.Variable(2)\n",
    "    \n",
    "    objective = cp.Minimize(0.5 * a[1] * (y_el[0] + y_el[1] + y_in[0])**2 \\\n",
    "                            + a[0] * (y_el[0] + y_el[1] + y_in[0]) \\\n",
    "                            + y_in[0] * tau / v_I + y_el[0] * tau / v_E \\\n",
    "                            + 0.5 * a[1] * (y_el[2] + y_in[1])**2 \\\n",
    "                            + a[0] * (y_el[2] + y_in[1]) )\n",
    "    \n",
    "    constraints = []\n",
    "    constraints += [y_el >= 0, y_in >= 0]\n",
    "    constraints += [cp.sum(y_el) == 1, cp.sum(y_in) == 1]\n",
    "    constraints += [y_el[1] * tau <= B]\n",
    "    \n",
    "    prob = cp.Problem(objective, constraints)\n",
    "    \n",
    "    # The optimal objective value is returned by `prob.solve()`.\n",
    "    result = prob.solve()\n",
    "    # The optimal value for x is stored in `x.value`.\n",
    "    print(\"y_el.value:\", y_el.value)\n",
    "    print(\"y_in.value:\", y_in.value)\n",
    "\n",
    "    return y_el.value, y_in.value\n"
   ]
  },
  {
   "cell_type": "code",
   "execution_count": null,
   "id": "1ce1c78f",
   "metadata": {},
   "outputs": [],
   "source": []
  },
  {
   "cell_type": "code",
   "execution_count": null,
   "id": "53215b33",
   "metadata": {},
   "outputs": [],
   "source": []
  },
  {
   "cell_type": "code",
   "execution_count": null,
   "id": "41644ba7",
   "metadata": {},
   "outputs": [],
   "source": []
  },
  {
   "cell_type": "code",
   "execution_count": null,
   "id": "e377dbf0",
   "metadata": {},
   "outputs": [],
   "source": []
  },
  {
   "cell_type": "markdown",
   "id": "0dc84df4",
   "metadata": {},
   "source": [
    "# Scratch Work:"
   ]
  },
  {
   "cell_type": "code",
   "execution_count": 4,
   "id": "b8e9a19c",
   "metadata": {},
   "outputs": [
    {
     "name": "stdout",
     "output_type": "stream",
     "text": [
      "x.value: [-0.  1.]\n",
      "y.value: [-0.  1.]\n",
      "\n"
     ]
    }
   ],
   "source": [
    "x = cp.Variable(2)\n",
    "y = cp.Variable(2)\n",
    "v_fixed = np.array([0, 1])\n",
    "objective = cp.Minimize(cp.sum_squares(x - y) + cp.sum_squares(x - v_fixed))\n",
    "constraints = []\n",
    "# for i in range(2):\n",
    "#     constraints += [x[i] >= 2]\n",
    "# constraints += [x[i] >=2 for i in range(2)]\n",
    "prob = cp.Problem(objective, constraints)\n",
    "\n",
    "# The optimal objective value is returned by `prob.solve()`.\n",
    "result = prob.solve()\n",
    "# The optimal value for x is stored in `x.value`.\n",
    "print(\"x.value:\", x.value)\n",
    "print(\"y.value:\", y.value)\n",
    "print()\n"
   ]
  },
  {
   "cell_type": "code",
   "execution_count": null,
   "id": "eab870f2",
   "metadata": {},
   "outputs": [],
   "source": []
  },
  {
   "cell_type": "code",
   "execution_count": null,
   "id": "882b7989",
   "metadata": {},
   "outputs": [],
   "source": []
  },
  {
   "cell_type": "markdown",
   "id": "96c49a58",
   "metadata": {},
   "source": [
    "# Old Code Below:"
   ]
  },
  {
   "cell_type": "markdown",
   "id": "3265e621",
   "metadata": {},
   "source": [
    "# Budget vs Discount - Theory"
   ]
  },
  {
   "cell_type": "markdown",
   "id": "1bf8e7e5",
   "metadata": {},
   "source": [
    "## 1 Eligible group, 1 Ineligible group (Theory)"
   ]
  },
  {
   "cell_type": "code",
   "execution_count": 2,
   "id": "5f254b2f",
   "metadata": {},
   "outputs": [],
   "source": [
    "def F_11(val, ell, tau, alpha):\n",
    "    return ell(val) + (1 - alpha) * tau - ell(2 - val)\n",
    "\n",
    "def y_star_11(ell, tau, alpha, lb_init = 0.0, ub_init = 2.0, num_iters = 20):\n",
    "    # Searches for y^\\star satisfying ell(y^\\star) + (1 - \\alpha) \\tau = ell(2 - y^\\star)\n",
    "    \n",
    "    assert tau < ell(ub_init) - ell(lb_init), \"We must have tau < ell(2.0) - ell(0.0), else is trivial.\"\n",
    "    assert 0.0 <= alpha <= 1.0, \"We must have 0.0 <= alpha <= 1.0\"\n",
    "    assert ell(lb_init) + (1.0 - alpha) * tau < ell(ub_init)\n",
    "    \n",
    "    lb = lb_init\n",
    "    ub = ub_init\n",
    "    mid_val = (lb + ub)/2\n",
    "    \n",
    "    for k in range(num_iters):\n",
    "#         print(\"F:\", F_11(mid_val, ell, tau, alpha))\n",
    "#         print(\"lb:\", lb)\n",
    "#         print(\"ub:\", ub)\n",
    "#         print(\"mid_val:\", mid_val)\n",
    "#         print()\n",
    "        \n",
    "        if F_11(mid_val, ell, tau, alpha) < 0:\n",
    "            lb = mid_val\n",
    "        else:\n",
    "            ub = mid_val\n",
    "        mid_val = (lb + ub)/2\n",
    "    \n",
    "    return (lb + ub)/2\n",
    "\n",
    "# def fixed_point_eqn():\n",
    "    \n"
   ]
  },
  {
   "cell_type": "code",
   "execution_count": 3,
   "id": "8c5931fe",
   "metadata": {
    "scrolled": false
   },
   "outputs": [
    {
     "name": "stdout",
     "output_type": "stream",
     "text": [
      "Time: 0.005392313003540039\n"
     ]
    }
   ],
   "source": [
    "t_1 = time.time()\n",
    "\n",
    "ell = lambda x: x**4 / 16\n",
    "# ell = lambda x: np.log(1 + np.exp(x))\n",
    "# alpha = 0.0\n",
    "\n",
    "# # Case 1: \n",
    "# tau = 0.4\n",
    "# v_E = 1\n",
    "# v_I = 1.25\n",
    "\n",
    "# # Case 2: \n",
    "# tau = 0.7\n",
    "# v_E = 1\n",
    "# v_I = 1.25\n",
    "\n",
    "# Case 3: \n",
    "tau = 0.7\n",
    "v_E = 1\n",
    "v_I = 2.5\n",
    "\n",
    "num_alpha_grid_points = 100 # Should be even\n",
    "alpha_vals = np.linspace(0, 1.0, num = num_alpha_grid_points + 1)\n",
    "\n",
    "y_star_zero = y_star_11(ell, tau, alpha = 0.0, lb_init = 0.0, ub_init = 2.0)\n",
    "# print(\"y_star_zero:\", y_star_zero)\n",
    "\n",
    "y_star_vals = np.array([y_star_11(ell, tau, alpha, lb_init = 0.0, ub_init = 2.0) for alpha in alpha_vals])\n",
    "y_star_vals_budget = alpha_vals\n",
    "index_max = max([k for k in list(range(num_alpha_grid_points)) if alpha_vals[k] <= 1 - v_E/v_I])\n",
    "# print(\"index_min:\", index_min)\n",
    "# print(\"alpha_vals[index_min]:\", alpha_vals[index_min])\n",
    "# print(\"y_star_vals_budget:\", y_star_vals_budget)\n",
    "# print()\n",
    "\n",
    "# print(\"y_star_vals:\", y_star_vals)\n",
    "# print()\n",
    "\n",
    "y_star_vals_discount = np.copy(y_star_vals)\n",
    "for k in range(y_star_vals_discount.shape[0]):\n",
    "    if k <= index_max:\n",
    "        y_star_vals_discount[k] = 0.0\n",
    "\n",
    "tau_thresh_for_alpha_3 = 2 * v_E * (ell(1) - ell(1 - 1E-6)) / 1E-6\n",
    "index_for_alpha_3 = max([k for k in list(range(num_alpha_grid_points)) if y_star_vals[k] >= alpha_vals[k] ])\n",
    "alpha_3 = (y_star_vals[index_for_alpha_3] + y_star_vals[index_for_alpha_3 + 1])/2\n",
    "\n",
    "# print(\"y_star_vals_budget:\", y_star_vals_budget)\n",
    "\n",
    "# print(\"y_star_vals_budget:\", y_star_vals_budget)\n",
    "\n",
    "\n",
    "t_2 = time.time()\n",
    "print(\"Time:\", t_2 - t_1)"
   ]
  },
  {
   "cell_type": "code",
   "execution_count": 4,
   "id": "ce866ed3",
   "metadata": {},
   "outputs": [
    {
     "name": "stdout",
     "output_type": "stream",
     "text": [
      "1 - v^E / v^I: 0.6\n",
      "alpha_3: 0.365936279296875\n"
     ]
    }
   ],
   "source": [
    "print(\"1 - v^E / v^I:\", 1 - v_E/v_I)\n",
    "print(\"alpha_3:\", alpha_3)"
   ]
  },
  {
   "cell_type": "code",
   "execution_count": 6,
   "id": "b52bdc72",
   "metadata": {},
   "outputs": [
    {
     "data": {
      "text/plain": [
       "Text(0, 0.5, '$\\\\displaystyle y^C, y^D$')"
      ]
     },
     "execution_count": 6,
     "metadata": {},
     "output_type": "execute_result"
    },
    {
     "data": {
      "image/png": "[encoded data removed]",
      "text/plain": [
       "<Figure size 432x288 with 1 Axes>"
      ]
     },
     "metadata": {
      "needs_background": "light"
     },
     "output_type": "display_data"
    }
   ],
   "source": [
    "plt.rcParams['text.usetex'] = True\n",
    "# plt.rcParams['text.usetex'] = False\n",
    "\n",
    "plt.plot(alpha_vals, y_star_vals_discount, 'red')\n",
    "plt.plot(alpha_vals, y_star_vals_budget, 'blue')\n",
    "# plt.scatter(alpha_vals, y_star_vals_discount, marker = 'o', s = 0.5, color = 'purple')\n",
    "# plt.scatter(alpha_vals, y_star_vals_budget, marker = 'o', s = 0.5, color = 'black')\n",
    "plt.xlim([0, 1.0])\n",
    "plt.ylim([-0.2, 1.2])\n",
    "\n",
    "plt.xticks(fontsize = 16)\n",
    "plt.yticks(fontsize = 16)\n",
    "plt.xlabel(r'$\\displaystyle \\alpha$', fontsize=24)\n",
    "plt.ylabel(r'$\\displaystyle y^C, y^D$', fontsize=24)\n",
    "# plt.ylabel(r'$\\displaystyle \\ln(L^t - L^\\star)$', fontsize=16)"
   ]
  },
  {
   "cell_type": "code",
   "execution_count": null,
   "id": "de84684b",
   "metadata": {},
   "outputs": [],
   "source": []
  },
  {
   "cell_type": "code",
   "execution_count": null,
   "id": "f8fba853",
   "metadata": {},
   "outputs": [],
   "source": []
  },
  {
   "cell_type": "markdown",
   "id": "4aa1131a",
   "metadata": {},
   "source": [
    "# Scratch Work:"
   ]
  },
  {
   "cell_type": "code",
   "execution_count": null,
   "id": "7af86ca8",
   "metadata": {},
   "outputs": [],
   "source": [
    "# m_sample = gp.Model()\n"
   ]
  },
  {
   "cell_type": "code",
   "execution_count": null,
   "id": "b9d80be3",
   "metadata": {},
   "outputs": [],
   "source": []
  }
 ],
 "metadata": {
  "kernelspec": {
   "display_name": "Python 3 (ipykernel)",
   "language": "python",
   "name": "python3"
  },
  "language_info": {
   "codemirror_mode": {
    "name": "ipython",
    "version": 3
   },
   "file_extension": ".py",
   "mimetype": "text/x-python",
   "name": "python",
   "nbconvert_exporter": "python",
   "pygments_lexer": "ipython3",
   "version": "3.8.13"
  }
 },
 "nbformat": 4,
 "nbformat_minor": 5
}
