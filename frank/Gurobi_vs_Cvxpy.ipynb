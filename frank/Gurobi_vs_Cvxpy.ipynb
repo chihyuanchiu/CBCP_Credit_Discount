{
 "cells": [
  {
   "cell_type": "code",
   "execution_count": 2,
   "id": "fe572f23",
   "metadata": {},
   "outputs": [],
   "source": [
    "import numpy as np\n",
    "import scipy as sp\n",
    "\n",
    "import matplotlib.pyplot as plt\n",
    "import pandas as pd\n",
    "import datetime as dt\n",
    "import gurobipy as gp\n",
    "from gurobipy import GRB\n",
    "import cvxpy as cp\n",
    "\n",
    "import random\n",
    "from itertools import chain, combinations, tee\n",
    "import time"
   ]
  },
  {
   "cell_type": "markdown",
   "id": "7c887f08",
   "metadata": {},
   "source": [
    "# Sample CVXPY code:"
   ]
  },
  {
   "cell_type": "code",
   "execution_count": null,
   "id": "9ac59fc6",
   "metadata": {},
   "outputs": [],
   "source": [
    "x = cp.Variable(2)\n",
    "y = cp.Variable(2)\n",
    "v_fixed = np.array([0, 1])\n",
    "objective = cp.Minimize(cp.sum_squares(x - y) + cp.sum_squares(x - v_fixed))\n",
    "constraints = []\n",
    "# for i in range(2):\n",
    "#     constraints += [x[i] >= 2]\n",
    "# constraints += [x[i] >=2 for i in range(2)]\n",
    "prob = cp.Problem(objective, constraints)\n",
    "\n",
    "# The optimal objective value is returned by `prob.solve()`.\n",
    "result = prob.solve()\n",
    "# The optimal value for x is stored in `x.value`.\n",
    "print(\"x.value:\", x.value)\n",
    "print(\"y.value:\", y.value)\n",
    "print()\n",
    "\n"
   ]
  },
  {
   "cell_type": "code",
   "execution_count": null,
   "id": "705a6f52",
   "metadata": {},
   "outputs": [],
   "source": []
  },
  {
   "cell_type": "code",
   "execution_count": null,
   "id": "0b2e4417",
   "metadata": {},
   "outputs": [],
   "source": [
    "# Problem data.\n",
    "m = 30\n",
    "n = 20\n",
    "np.random.seed(1)\n",
    "A = np.random.randn(m, n)\n",
    "b = np.random.randn(m)\n",
    "\n",
    "# Construct the problem.\n",
    "x = cp.Variable(n)\n",
    "objective = cp.Minimize(cp.sum_squares(A @ x - b))\n",
    "constraints = [0 <= x, x <= 1]\n",
    "prob = cp.Problem(objective, constraints)\n",
    "\n",
    "# The optimal objective value is returned by `prob.solve()`.\n",
    "result = prob.solve()\n",
    "# The optimal value for x is stored in `x.value`.\n",
    "print(\"x.value:\", x.value)\n",
    "print()\n",
    "# The optimal Lagrange multiplier for a constraint is stored in\n",
    "# `constraint.dual_value`.\n",
    "print(\"constraints[0].dual_value:\", constraints[0].dual_value)"
   ]
  },
  {
   "cell_type": "code",
   "execution_count": null,
   "id": "62f19d37",
   "metadata": {},
   "outputs": [],
   "source": []
  },
  {
   "cell_type": "markdown",
   "id": "574e70bf",
   "metadata": {},
   "source": [
    "# LP, Comparison between CVXPY and Gurobi:"
   ]
  },
  {
   "cell_type": "code",
   "execution_count": 135,
   "id": "9873a4af",
   "metadata": {},
   "outputs": [],
   "source": [
    "c_1 = np.array([-1, 1])\n",
    "c_2 = np.array([-1, -1])"
   ]
  },
  {
   "cell_type": "code",
   "execution_count": 153,
   "id": "20e4c32e",
   "metadata": {},
   "outputs": [
    {
     "data": {
      "text/plain": [
       "array([ 3.00000000e+00, -5.09761577e-17])"
      ]
     },
     "execution_count": 153,
     "metadata": {},
     "output_type": "execute_result"
    }
   ],
   "source": [
    "x_cvxpy = cp.Variable(2)\n",
    "prob = cp.Problem(cp.Minimize(x_cvxpy[0]), [c_1 @ x_cvxpy <= -3, c_2 @ x_cvxpy <= -3])\n",
    "prob.solve()\n",
    "x_cvxpy.value"
   ]
  },
  {
   "cell_type": "code",
   "execution_count": 151,
   "id": "2eb9a8dc",
   "metadata": {},
   "outputs": [
    {
     "name": "stdout",
     "output_type": "stream",
     "text": [
      "Gurobi Optimizer version 11.0.0 build v11.0.0rc2 (mac64[x86] - Darwin 23.2.0 23C71)\n",
      "\n",
      "CPU model: Intel(R) Core(TM) i7-8750H CPU @ 2.20GHz\n",
      "Thread count: 6 physical cores, 12 logical processors, using up to 12 threads\n",
      "\n",
      "Optimize a model with 2 rows, 2 columns and 4 nonzeros\n",
      "Model fingerprint: 0x6534bd8a\n",
      "Coefficient statistics:\n",
      "  Matrix range     [1e+00, 1e+00]\n",
      "  Objective range  [1e+00, 1e+00]\n",
      "  Bounds range     [0e+00, 0e+00]\n",
      "  RHS range        [3e+00, 3e+00]\n",
      "Presolve removed 2 rows and 2 columns\n",
      "Presolve time: 0.01s\n",
      "Presolve: All rows and columns removed\n",
      "Iteration    Objective       Primal Inf.    Dual Inf.      Time\n",
      "       0    3.0000000e+00   0.000000e+00   0.000000e+00      0s\n",
      "\n",
      "Solved in 0 iterations and 0.01 seconds (0.00 work units)\n",
      "Optimal objective  3.000000000e+00\n",
      "\n",
      "[3. 0.]\n"
     ]
    }
   ],
   "source": [
    "m_QP = gp.Model()\n",
    "x_gurobi = m_QP.addMVar(shape = 2, name = 'x_gurobi')\n",
    "m_QP.addConstr((- x_gurobi[0] + x_gurobi[1] <= -3 ))\n",
    "m_QP.addConstr((- x_gurobi[0] - x_gurobi[1] <= -3 ))\n",
    "\n",
    "m_QP.setObjective(x_gurobi[0], GRB.MINIMIZE)\n",
    "m_QP.update()\n",
    "m_QP.optimize()\n",
    "print()\n",
    "print(x_gurobi.x)\n"
   ]
  },
  {
   "cell_type": "code",
   "execution_count": null,
   "id": "94c27b56",
   "metadata": {},
   "outputs": [],
   "source": []
  },
  {
   "cell_type": "markdown",
   "id": "fab72811",
   "metadata": {},
   "source": [
    "# QP, Comparison between CVXPY and Gurobi:"
   ]
  },
  {
   "cell_type": "code",
   "execution_count": 3,
   "id": "937ea63e",
   "metadata": {},
   "outputs": [],
   "source": [
    "# Generate a random non-trivial quadratic program.\n",
    "m = 15\n",
    "n = 10\n",
    "p = 5\n",
    "np.random.seed(1)\n",
    "P_gen = np.random.randn(n, n)\n",
    "P = P_gen.T @ P_gen + np.eye(n)\n",
    "q = np.random.randn(n)\n",
    "G = np.random.randn(m, n)\n",
    "h = G @ np.random.randn(n)\n",
    "A = np.random.randn(p, n)\n",
    "b = np.random.randn(p)"
   ]
  },
  {
   "cell_type": "code",
   "execution_count": 4,
   "id": "daba3ffb",
   "metadata": {},
   "outputs": [],
   "source": [
    "# P = np.array([[2, 1], [1, 2]])\n",
    "# q = np.array([3, 4])\n",
    "# n = 2"
   ]
  },
  {
   "cell_type": "code",
   "execution_count": 5,
   "id": "5d43f346",
   "metadata": {},
   "outputs": [
    {
     "name": "stdout",
     "output_type": "stream",
     "text": [
      "\n",
      "The optimal value is 110.89146278608585\n",
      "A solution x is\n",
      "[-1.75612738  0.09726873 -1.57082808 -2.10310111  1.27660026  0.60664563\n",
      " -3.22096183  3.30465178  0.55753984 -1.92167322]\n"
     ]
    }
   ],
   "source": [
    "# Via CVXPY:\n",
    "\n",
    "# Define and solve the CVXPY problem.\n",
    "x_cvxpy = cp.Variable(n)\n",
    "prob = cp.Problem(cp.Minimize((1/2)*cp.quad_form(x_cvxpy, P) + q.T @ x_cvxpy),\n",
    "                 [G @ x_cvxpy <= h,\n",
    "                  A @ x_cvxpy == b])\n",
    "# prob = cp.Problem(cp.Minimize((1/2)*cp.quad_form(x_cvxpy, P) + q.T @ x_cvxpy))\n",
    "prob.solve()\n",
    "\n",
    "# Print result.\n",
    "print(\"\\nThe optimal value is\", prob.value)\n",
    "print(\"A solution x is\")\n",
    "print(x_cvxpy.value)\n",
    "# print(\"A dual solution corresponding to the inequality constraints is\")\n",
    "# print(prob.constraints[0].dual_value)"
   ]
  },
  {
   "cell_type": "code",
   "execution_count": 6,
   "id": "9375ae10",
   "metadata": {},
   "outputs": [
    {
     "name": "stdout",
     "output_type": "stream",
     "text": [
      "Set parameter Username\n",
      "Academic license - for non-commercial use only - expires 2025-02-03\n",
      "Gurobi Optimizer version 11.0.0 build v11.0.0rc2 (mac64[x86] - Darwin 23.2.0 23C71)\n",
      "\n",
      "CPU model: Intel(R) Core(TM) i7-8750H CPU @ 2.20GHz\n",
      "Thread count: 6 physical cores, 12 logical processors, using up to 12 threads\n",
      "\n",
      "Optimize a model with 20 rows, 10 columns and 200 nonzeros\n",
      "Model fingerprint: 0x5fe21bfb\n",
      "Model has 55 quadratic objective terms\n",
      "Coefficient statistics:\n",
      "  Matrix range     [2e-03, 3e+00]\n",
      "  Objective range  [3e-02, 1e+00]\n",
      "  QObjective range [7e-02, 1e+01]\n",
      "  Bounds range     [1e+04, 1e+04]\n",
      "  RHS range        [1e-01, 7e+00]\n",
      "Presolve time: 0.01s\n",
      "Presolved: 20 rows, 10 columns, 200 nonzeros\n",
      "Presolved model has 55 quadratic objective terms\n",
      "Ordering time: 0.00s\n",
      "\n",
      "Barrier statistics:\n",
      " Free vars  : 9\n",
      " AA' NZ     : 4.060e+02\n",
      " Factor NZ  : 4.350e+02\n",
      " Factor Ops : 8.555e+03 (less than 1 second per iteration)\n",
      " Threads    : 1\n",
      "\n",
      "                  Objective                Residual\n",
      "Iter       Primal          Dual         Primal    Dual     Compl     Time\n",
      "   0   6.88885080e+05 -7.53188063e+07  4.50e+03 3.09e+02  3.14e+06     0s\n",
      "   1   3.84723922e+05 -7.05133255e+06  4.41e+01 6.84e+00  2.21e+05     0s\n",
      "   2   1.40962603e+05 -3.49435804e+05  4.41e-05 6.84e-06  1.40e+04     0s\n",
      "   3   2.00332249e+04 -2.07776664e+04  3.32e-10 7.28e-12  1.17e+03     0s\n",
      "   4   2.94122125e+03 -3.08929350e+03  1.36e-12 2.06e-13  1.72e+02     0s\n",
      "   5   4.83702552e+02 -3.64784386e+02  9.09e-13 6.04e-14  2.42e+01     0s\n",
      "   6   1.33216082e+02  3.74472771e+01  9.09e-13 7.08e-14  2.74e+00     0s\n",
      "   7   1.13137316e+02  9.79626886e+01  2.84e-12 3.64e-12  4.34e-01     0s\n",
      "   8   1.10896205e+02  1.10598625e+02  6.93e-10 6.84e-14  8.50e-03     0s\n",
      "   9   1.10891464e+02  1.10891157e+02  2.05e-09 1.38e-13  8.80e-06     0s\n",
      "  10   1.10891442e+02  1.10891168e+02  3.30e-08 1.08e-13  8.49e-06     0s\n",
      "  11   1.10891423e+02  1.10891177e+02  7.47e-08 1.14e-13  8.21e-06     0s\n",
      "  12   1.10891366e+02  1.10891197e+02  1.74e-07 3.64e-12  7.66e-06     0s\n",
      "  13   1.10891267e+02  1.10891240e+02  3.77e-07 9.41e-14  6.41e-06     0s\n",
      "  14   1.10891106e+02  1.10891274e+02  5.60e-07 6.84e-14  5.43e-06     0s\n",
      "  15   1.10890907e+02  1.10891388e+02  1.20e-06 7.08e-14  2.14e-06     0s\n",
      "  16   1.10890597e+02  1.10891414e+02  1.80e-06 9.63e-14  1.41e-06     0s\n",
      "  17   1.10890094e+02  1.10891456e+02  1.82e-06 1.04e-13  2.07e-07     0s\n",
      "  18   1.10889548e+02  1.10891461e+02  1.43e-06 3.42e-12  4.96e-08     0s\n",
      "  19   1.10888353e+02  1.10891462e+02  4.15e-06 8.29e-14  3.00e-08     0s\n",
      "  20   1.10886325e+02  1.10891462e+02  5.18e-06 7.85e-14  2.06e-08     0s\n",
      "  21   1.10884508e+02  1.10891462e+02  9.30e-06 5.73e-14  1.11e-08     0s\n",
      "  22   1.10881166e+02  1.10891462e+02  1.54e-05 1.87e-14  4.99e-09     0s\n",
      "  23   1.10874302e+02  1.10891462e+02  2.48e-05 7.69e-14  2.88e-09     0s\n",
      "  24   1.10873850e+02  1.10891462e+02  4.07e-05 3.64e-12  2.88e-12     0s\n",
      "  25   1.10872384e+02  1.10891460e+02  3.08e-05 3.64e-12  3.81e-13     0s\n",
      "  26   1.10870496e+02  1.10891461e+02  4.81e-05 3.64e-12  1.95e-14     0s\n",
      "  27   1.10847754e+02  1.10891457e+02  6.59e-05 1.07e-13  4.28e-15     0s\n",
      "  28   1.10830335e+02  1.10891449e+02  9.63e-05 1.39e-13  2.57e-15     0s\n",
      "  29   1.10789966e+02  1.10891421e+02  1.57e-04 3.64e-12  1.30e-15     0s\n",
      "  30   1.10731681e+02  1.10891358e+02  1.83e-04 3.64e-12  7.95e-16     0s\n",
      "  31   1.10594551e+02  1.10891099e+02  3.16e-04 3.64e-12  3.34e-16     0s\n",
      "  32   1.10391466e+02  1.10890427e+02  4.90e-04 6.75e-14  1.80e-16     0s\n",
      "  33   1.10139105e+02  1.10889107e+02  7.89e-04 3.64e-12  1.18e-16     0s\n",
      "  34   1.09738517e+02  1.10885920e+02  1.72e-03 9.19e-14  7.57e-17     0s\n",
      "\n",
      "Barrier performed 34 iterations in 0.05 seconds (0.00 work units)\n",
      "Sub-optimal termination - objective 1.10891464e+02\n",
      "\n"
     ]
    }
   ],
   "source": [
    "# Via Gurobi:\n",
    "\n",
    "# Initialize model\n",
    "m_QP = gp.Model()\n",
    "# Add variables to model\n",
    "x_gurobi = m_QP.addMVar((n), name = \"x\", lb = -10000.0, ub = 10000.0)\n",
    "m_QP.addConstr((G @ x_gurobi <= h))\n",
    "m_QP.addConstr((A @ x_gurobi == b))\n",
    "\n",
    "m_QP.setObjective((0.5* x_gurobi.T @ P @ x_gurobi) + (q.T @ x_gurobi), gp.GRB.MINIMIZE)\n",
    "\n",
    "# m_QP.update()\n",
    "m_QP.optimize()\n"
   ]
  },
  {
   "cell_type": "code",
   "execution_count": 7,
   "id": "5dcc6485",
   "metadata": {},
   "outputs": [
    {
     "data": {
      "text/plain": [
       "array([-1.75612607,  0.09727235, -1.57084287, -2.10311373,  1.27659858,\n",
       "        0.60663089, -3.22098518,  3.30466016,  0.5575215 , -1.92170692])"
      ]
     },
     "execution_count": 7,
     "metadata": {},
     "output_type": "execute_result"
    }
   ],
   "source": [
    "np.array([m_QP.getVars()[i].X for i in range(n)])"
   ]
  },
  {
   "cell_type": "code",
   "execution_count": 8,
   "id": "fc310400",
   "metadata": {},
   "outputs": [
    {
     "data": {
      "text/plain": [
       "array([-1.75612738,  0.09726873, -1.57082808, -2.10310111,  1.27660026,\n",
       "        0.60664563, -3.22096183,  3.30465178,  0.55753984, -1.92167322])"
      ]
     },
     "execution_count": 8,
     "metadata": {},
     "output_type": "execute_result"
    }
   ],
   "source": [
    "x_cvxpy.value"
   ]
  },
  {
   "cell_type": "code",
   "execution_count": 48,
   "id": "ab10529a",
   "metadata": {},
   "outputs": [],
   "source": [
    "# np.linalg.solve(P, -q)"
   ]
  },
  {
   "cell_type": "code",
   "execution_count": null,
   "id": "004566d8",
   "metadata": {},
   "outputs": [],
   "source": []
  },
  {
   "cell_type": "code",
   "execution_count": null,
   "id": "c005c82d",
   "metadata": {},
   "outputs": [],
   "source": []
  },
  {
   "cell_type": "code",
   "execution_count": null,
   "id": "d6a28b91",
   "metadata": {},
   "outputs": [],
   "source": []
  },
  {
   "cell_type": "markdown",
   "id": "d6e4fe9c",
   "metadata": {},
   "source": [
    "# Scratch Work:"
   ]
  },
  {
   "cell_type": "code",
   "execution_count": null,
   "id": "b22eb9db",
   "metadata": {},
   "outputs": [],
   "source": [
    "# 20*np.linspace(0, 1, 21)[0:]\n",
    "# np.linspace(toll_arr[0], toll_arr[-3]*T,19)"
   ]
  },
  {
   "cell_type": "code",
   "execution_count": null,
   "id": "9fc1960e",
   "metadata": {},
   "outputs": [],
   "source": []
  },
  {
   "cell_type": "code",
   "execution_count": null,
   "id": "d0a9e5a4",
   "metadata": {},
   "outputs": [],
   "source": []
  },
  {
   "cell_type": "code",
   "execution_count": null,
   "id": "7ee1e92e",
   "metadata": {},
   "outputs": [],
   "source": []
  },
  {
   "cell_type": "code",
   "execution_count": null,
   "id": "233bd7d6",
   "metadata": {},
   "outputs": [],
   "source": []
  }
 ],
 "metadata": {
  "kernelspec": {
   "display_name": "Python 3 (ipykernel)",
   "language": "python",
   "name": "python3"
  },
  "language_info": {
   "codemirror_mode": {
    "name": "ipython",
    "version": 3
   },
   "file_extension": ".py",
   "mimetype": "text/x-python",
   "name": "python",
   "nbconvert_exporter": "python",
   "pygments_lexer": "ipython3",
   "version": "3.8.13"
  }
 },
 "nbformat": 4,
 "nbformat_minor": 5
}
