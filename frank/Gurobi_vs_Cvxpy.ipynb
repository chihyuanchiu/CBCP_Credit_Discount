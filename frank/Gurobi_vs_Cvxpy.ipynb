{
 "cells": [
  {
   "cell_type": "code",
   "execution_count": 54,
   "id": "fe572f23",
   "metadata": {},
   "outputs": [],
   "source": [
    "import numpy as np\n",
    "import scipy as sp\n",
    "\n",
    "import matplotlib.pyplot as plt\n",
    "import pandas as pd\n",
    "import datetime as dt\n",
    "import gurobipy as gp\n",
    "from gurobipy import GRB\n",
    "import cvxpy as cp\n",
    "\n",
    "import random\n",
    "from itertools import chain, combinations, tee\n",
    "import time"
   ]
  },
  {
   "cell_type": "markdown",
   "id": "3f8ada43",
   "metadata": {},
   "source": [
    "# Test Implementations (Naive):"
   ]
  },
  {
   "cell_type": "code",
   "execution_count": 55,
   "id": "b5d2857e",
   "metadata": {},
   "outputs": [
    {
     "name": "stdout",
     "output_type": "stream",
     "text": [
      "Toll:\n",
      " [ 0.  1.  2.  3.  4.  5.  6.  7.  8.  9. 10. 11. 12. 13. 14. 15. 16. 17.\n",
      " 18. 19. 20.]\n",
      "\n",
      "B:\n",
      " [ 0.  5. 10. 15. 20. 25. 30. 35. 40. 45. 50. 55. 60. 65. 70. 75. 80. 85.\n",
      " 90.]\n",
      "\n"
     ]
    },
    {
     "ename": "NameError",
     "evalue": "name 'vots' is not defined",
     "output_type": "error",
     "traceback": [
      "\u001b[0;31m---------------------------------------------------------------------------\u001b[0m",
      "\u001b[0;31mNameError\u001b[0m                                 Traceback (most recent call last)",
      "Input \u001b[0;32mIn [55]\u001b[0m, in \u001b[0;36m<cell line: 16>\u001b[0;34m()\u001b[0m\n\u001b[1;32m     13\u001b[0m num_ineligible \u001b[38;5;241m=\u001b[39m num_total\u001b[38;5;241m-\u001b[39mnum_eligible \u001b[38;5;66;03m# number of ineligible users\u001b[39;00m\n\u001b[1;32m     15\u001b[0m \u001b[38;5;66;03m###### VoT information ###### \u001b[39;00m\n\u001b[0;32m---> 16\u001b[0m vot_all \u001b[38;5;241m=\u001b[39m np\u001b[38;5;241m.\u001b[39msort(np\u001b[38;5;241m.\u001b[39mround(np\u001b[38;5;241m.\u001b[39mrandom\u001b[38;5;241m.\u001b[39mchoice(\u001b[43mvots\u001b[49m, size \u001b[38;5;241m=\u001b[39m num_total, p\u001b[38;5;241m=\u001b[39mvot_p),\u001b[38;5;241m2\u001b[39m)\u001b[38;5;241m/\u001b[39m\u001b[38;5;241m60\u001b[39m) \u001b[38;5;66;03m# generate baseline VoT for all users\u001b[39;00m\n\u001b[1;32m     17\u001b[0m vot_all_days \u001b[38;5;241m=\u001b[39m np\u001b[38;5;241m.\u001b[39mempty(shape\u001b[38;5;241m=\u001b[39m(num_total,T)) \n\u001b[1;32m     18\u001b[0m count\u001b[38;5;241m=\u001b[39m\u001b[38;5;241m0\u001b[39m\n",
      "\u001b[0;31mNameError\u001b[0m: name 'vots' is not defined"
     ]
    }
   ],
   "source": [
    "###### Specify parameters for problem ###### \n",
    "T = 5 # Time Horizon\n",
    "toll_arr = 20*np.linspace(0, 1, 21)[0:] # Toll discretization\n",
    "print('Toll:\\n {}'.format(toll_arr))\n",
    "print()\n",
    "\n",
    "B_arr = np.linspace(toll_arr[0], toll_arr[-3]*T,19) # Budget discretization \n",
    "print('B:\\n {}'.format(B_arr))\n",
    "print()\n",
    "\n",
    "num_total = 8000 # number of users\n",
    "num_eligible = int( num_total*.17) # number of eligible users\n",
    "num_ineligible = num_total-num_eligible # number of ineligible users\n",
    "\n",
    "###### VoT information ###### \n",
    "vot_all = np.sort(np.round(np.random.choice(vots, size = num_total, p=vot_p),2)/60) # generate baseline VoT for all users\n",
    "vot_all_days = np.empty(shape=(num_total,T)) \n",
    "count=0\n",
    "for v in vot_all:\n",
    "    if count < num_eligible:\n",
    "        vot_all_days[count,:]=[v for t in range(T)] # VoT of eligible users does not vary over time periods\n",
    "    else:\n",
    "        vot_all_days[count,:]=list((1+0.25*(np.random.random_sample(size=T)-0.5))*v) # VoT of ineligible users varies over time periods\n",
    "    count+=1\n",
    "    \n",
    "vot_eligible = vot_all_days[:num_eligible,:]\n",
    "vot_ineligible= vot_all_days[num_eligible:,:]\n",
    "\n",
    "print('Eligible vot range:\\n {} ({} $/hr), {} ({} $/hr)'.format(np.min(vot_eligible),60*np.min(np.round(vot_eligible,2)),np.max(np.round(vot_eligible,2)),60*np.max(np.round(vot_eligible,2))))\n",
    "print()\n",
    "print('Ineligible vot range:\\n {}({} $/hr), {} ({} $/hr)'.format(np.min(np.round(vot_ineligible,2)),60*np.min(np.round(vot_ineligible,2)),np.max(np.round(vot_ineligible,2)),60*np.max(np.round(vot_ineligible,2))))\n",
    "print()\n",
    "print('Mean vot:\\n {} $/hr; median: {} $/hr'.format(60*np.round(np.mean(vot_all_days),2),60*np.round(np.median(vot_all_days),2)))"
   ]
  },
  {
   "cell_type": "code",
   "execution_count": 56,
   "id": "b364d94c",
   "metadata": {},
   "outputs": [
    {
     "ename": "SyntaxError",
     "evalue": "unexpected character after line continuation character (4170757482.py, line 51)",
     "output_type": "error",
     "traceback": [
      "\u001b[0;36m  Input \u001b[0;32mIn [56]\u001b[0;36m\u001b[0m\n\u001b[0;31m    m1.setObjective(sum( a*fftt_1*(edge_flows[0, t]) + b_1*(eps_flows[0, t]**2)/2 \\\u001b[0m\n\u001b[0m                                                                                    ^\u001b[0m\n\u001b[0;31mSyntaxError\u001b[0m\u001b[0;31m:\u001b[0m unexpected character after line continuation character\n"
     ]
    }
   ],
   "source": [
    "def OptPL_budget(toll, B, T = T, num_eligible = num_eligible, num_ineligible = num_ineligible, \n",
    "            vot_ineligible = vot_ineligible, alpha = bpr_true_alpha, fftt_1 = bpr_true_fftt, \n",
    "              fftt_2 = bpr_true_fftt, c_1 = bpr_true_capacity, c_2 = bpr_true_capacity, \n",
    "             a = const_multiplier, cap_thresh = cap_thresh_multiplier, b_1 = apx_slope, b_2 = apx_slope):\n",
    "    \"\"\"\n",
    "    Function to solve convex optimization problem given a particular toll and budget value\n",
    "    \"\"\"\n",
    "    \n",
    "    # Initialize model\n",
    "    m1 = gp.Model()\n",
    "    # Add variables to model\n",
    "    users_in = m1.addVars(num_ineligible, 3, T, name = 'ineligible_val')\n",
    "    edge_flows = m1.addVars(2, T, name = 'edge_flows')\n",
    "    users_el = m1.addVars(3, T, name = 'eligible_allocation')\n",
    "    \n",
    "    # Add variables for piecewise affine approximation\n",
    "    eps_flows = m1.addVars(2, T, name = 'eps_flows')\n",
    "\n",
    "    ## Add constraints to Model \n",
    "    \n",
    "    # Total edge flow, express lane:\n",
    "    m1.addConstrs((edge_flows[0, t] == sum(users_in[i, 0, t] for i in range(num_ineligible)) + \\\n",
    "                  users_el[0, t] + sum(users_in[i, 1, t] for i in range(num_ineligible)) + \\\n",
    "                  users_el[1, t] for t in range(T)))\n",
    "    # Total edge flow, general purpose lane:\n",
    "    m1.addConstrs((edge_flows[1, t] == sum(users_in[i, 2, t] for i in range(num_ineligible)) + \\\n",
    "                  users_el[2, t] for t in range(T)))\n",
    "    \n",
    "    # Non-negativity of flows, and zero flow for \"eligible users in ineligible groups\":\n",
    "    m1.addConstrs((users_in[i, j, t]>=0 for i in range(num_ineligible) for j in range(3) for t in range(T)))\n",
    "    m1.addConstrs((users_in[i, 0, t]==0 for i in range(num_ineligible) for t in range(T)))\n",
    "    m1.addConstrs((users_el[j, t]>=0 for j in range(3) for t in range(T)))\n",
    "    \n",
    "    # Every eligible and ineligible user is assigned to one of three options: \\\n",
    "    # (express paying, express with credit, non-express)\n",
    "    m1.addConstrs((sum(users_in[i, j, t] for j in range(3)) == 1 for i in range(num_ineligible) for t in range(T)))\n",
    "    m1.addConstrs((sum(users_el[j, t] for j in range(3)) == 1 for t in range(T)))\n",
    "     \n",
    "    # Budget constraint satisfaction:\n",
    "    if toll != 0:\n",
    "        m1.addConstr((sum(toll*users_el[0, t] for t in range(T)) <= B*num_eligible))\n",
    "        \n",
    "    # Piecewise affine approximation:\n",
    "    m1.addConstrs((eps_flows[j, t] >= 0 for j in range(2) for t in range(T))) # Must be at least 0\n",
    "    m1.addConstrs((eps_flows[0, t] >= edge_flows[0, t] - cap_thresh*c_1 for t in range(T))) # Must be at least flow - capacity\n",
    "    m1.addConstrs((eps_flows[1, t] >= edge_flows[1, t] - cap_thresh*c_2 for t in range(T))) # Must be at least flow - capacity\n",
    "\n",
    "    ### Frank: Unmodified below:\n",
    "    \n",
    "    # Set Objective\n",
    "    m1.setObjective(sum( a*fftt_1*(edge_flows[0, t]) + b_1*(eps_flows[0, t]**2)/2 \\ \n",
    "                        + a*fftt_2*(edge_flows[1, t]) + b_2*(eps_flows[1, t]**2)/2 \\\n",
    "                        + sum( toll*users_in[i,1,t]/vot_ineligible[i,t] for i in range(num_ineligible)) \\\n",
    "        for t in range(T)), GRB.MINIMIZE)\n",
    "    \n",
    "    m1.update()\n",
    "    \n",
    "    return m1"
   ]
  },
  {
   "cell_type": "code",
   "execution_count": 11,
   "id": "91c88ac5",
   "metadata": {},
   "outputs": [],
   "source": [
    "### Frank: Unmodified below:\n",
    "\n",
    "def _extract_solution(m, num_ineligible = num_ineligible):\n",
    "    \"\"\"\n",
    "    Get solution from optimization model\n",
    "    \"\"\"\n",
    "    users_in = [v.x for v in m.getVars() if v.VarName.find(\"ineligible_val\") != -1]\n",
    "    users_el = [v.x for v in m.getVars() if v.VarName.find(\"eligible_allocation\") != -1]\n",
    "    edge_flows = [v.x for v in m.getVars() if v.VarName.find(\"edge_flows\") != -1]\n",
    "    eps_flows = [v.x for v in m.getVars() if v.VarName.find(\"eps_flows\") != -1]\n",
    "    \n",
    "    users_in = np.reshape(users_in, (num_ineligible, 3, T))\n",
    "    users_el = np.reshape(users_el, (3, T))\n",
    "    edge_flows = np.reshape(edge_flows, (2, T))\n",
    "    eps_flows = np.reshape(eps_flows, (2, T))\n",
    "\n",
    "    solution = {\n",
    "        \"users_in\": users_in,\n",
    "        \"users_el\": users_el,\n",
    "        \"edge_flows\": edge_flows,\n",
    "        \"eps_flows\": eps_flows\n",
    "    }\n",
    "    return solution"
   ]
  },
  {
   "cell_type": "code",
   "execution_count": null,
   "id": "8ffb5ccd",
   "metadata": {},
   "outputs": [],
   "source": []
  },
  {
   "cell_type": "markdown",
   "id": "94991667",
   "metadata": {},
   "source": [
    "# Sample Optimization Problem:"
   ]
  },
  {
   "cell_type": "markdown",
   "id": "e51695e1",
   "metadata": {},
   "source": [
    "## Gurobi:"
   ]
  },
  {
   "cell_type": "code",
   "execution_count": 12,
   "id": "6fdfbf45",
   "metadata": {},
   "outputs": [],
   "source": [
    "# # Trying to minimize f(x) = (x-2)^2 + 1 = x^2 - 4x + 5\n",
    "\n",
    "# m_test = gp.Model()\n",
    "# x = m_test.addVars(1, name = 'x')\n",
    "# m_test.setObjective( x[0]**2 - 4*x[0] + 5, GRB.MINIMIZE)\n",
    "# # m_test.update()\n",
    "# m_test.optimize()\n"
   ]
  },
  {
   "cell_type": "code",
   "execution_count": 13,
   "id": "bd7471ce",
   "metadata": {},
   "outputs": [],
   "source": [
    "# m_test.getVars()[0].x"
   ]
  },
  {
   "cell_type": "code",
   "execution_count": 50,
   "id": "d9123c11",
   "metadata": {},
   "outputs": [
    {
     "name": "stdout",
     "output_type": "stream",
     "text": [
      "Gurobi Optimizer version 11.0.0 build v11.0.0rc2 (mac64[x86] - Darwin 23.2.0 23C71)\n",
      "\n",
      "CPU model: Intel(R) Core(TM) i7-8750H CPU @ 2.20GHz\n",
      "Thread count: 6 physical cores, 12 logical processors, using up to 12 threads\n",
      "\n",
      "Optimize a model with 22531 rows, 7535 columns and 40060 nonzeros\n",
      "Model fingerprint: 0xab24e3be\n",
      "Model has 10 quadratic objective terms\n",
      "Coefficient statistics:\n",
      "  Matrix range     [1e+00, 1e+00]\n",
      "  Objective range  [4e+00, 2e+01]\n",
      "  QObjective range [4e-03, 1e-02]\n",
      "  Bounds range     [0e+00, 0e+00]\n",
      "  RHS range        [1e+00, 4e+03]\n",
      "Presolve removed 22531 rows and 7535 columns\n",
      "Presolve time: 0.02s\n",
      "Presolve: All rows and columns removed\n",
      "\n",
      "Barrier solved model in 0 iterations and 0.02 seconds (0.01 work units)\n",
      "Optimal objective 4.93522388e+04\n",
      "Run time: 0.5195481777191162\n"
     ]
    }
   ],
   "source": [
    "time_1 = time.time()\n",
    "\n",
    "toll = 1.0\n",
    "budget = 3.0\n",
    "demand_multiplier = [25,75]\n",
    "\n",
    "# num_ineligible_trunc = num_ineligible\n",
    "\n",
    "# Truncating num_ineligible to enable comparison with CVXPY (which is very, very slow):\n",
    "num_ineligible_trunc = 500\n",
    "\n",
    "m_budget = OptPL_budget(toll, budget, T = T, num_eligible = num_eligible, num_ineligible = num_ineligible_trunc, \n",
    "            vot_ineligible = vot_ineligible, alpha = bpr_true_alpha, fftt_1 = bpr_true_fftt, \n",
    "              fftt_2 = bpr_true_fftt, c_1 = bpr_true_capacity*demand_multiplier[0], c_2 = bpr_true_capacity*demand_multiplier[1], \n",
    "             a = const_multiplier, cap_thresh = cap_thresh_multiplier, b_1 = apx_slope/demand_multiplier[0], b_2 = apx_slope/(demand_multiplier[1]))\n",
    "\n",
    "m_budget.optimize()\n",
    "\n",
    "time_2 = time.time()\n",
    "print(\"Run time:\", time_2 - time_1)"
   ]
  },
  {
   "cell_type": "code",
   "execution_count": 51,
   "id": "bdfb36f0",
   "metadata": {},
   "outputs": [],
   "source": [
    "# m_budget.getVars()\n",
    "# solution_set = _extract_solution(m_budget, num_ineligible_trunc)\n",
    "\n",
    "m_budget.getVars()\n",
    "\n",
    "# list_from_gurobi = [v.x for v in m_budget.getVars()]\n",
    "# list_from_gurobi\n",
    "\n",
    "users_in = [v.x for v in m_budget.getVars() if v.VarName.find(\"ineligible_val\") != -1]\n",
    "users_el = [v.x for v in m_budget.getVars() if v.VarName.find(\"eligible_allocation\") != -1]\n",
    "edge_flows = [v.x for v in m_budget.getVars() if v.VarName.find(\"edge_flows\") != -1]\n",
    "eps_flows = [v.x for v in m_budget.getVars() if v.VarName.find(\"eps_flows\") != -1]\n",
    "    \n",
    "users_in = np.reshape(users_in, (num_ineligible_trunc, 3, T))\n",
    "users_el = np.reshape(users_el, (3, T))\n",
    "edge_flows = np.reshape(edge_flows, (2, T))\n",
    "eps_flows = np.reshape(eps_flows, (2, T))\n",
    "\n",
    "# solution = {\n",
    "#     \"users_in\": users_in,\n",
    "#     \"users_el\": users_el,\n",
    "#     \"edge_flows\": edge_flows,\n",
    "#     \"eps_flows\": eps_flows\n",
    "# }\n",
    "\n",
    "solution_gurobi = {\n",
    "    \"users_in\": users_in,\n",
    "    \"users_el\": users_el,\n",
    "    \"edge_flows\": edge_flows,\n",
    "    \"eps_flows\": eps_flows\n",
    "}\n"
   ]
  },
  {
   "cell_type": "markdown",
   "id": "77c12ddd",
   "metadata": {},
   "source": [
    "## CVXPY:"
   ]
  },
  {
   "cell_type": "markdown",
   "id": "f3eb8a55",
   "metadata": {},
   "source": [
    "## Case 1, Budget:"
   ]
  },
  {
   "cell_type": "code",
   "execution_count": null,
   "id": "5b8640af",
   "metadata": {},
   "outputs": [],
   "source": []
  },
  {
   "cell_type": "code",
   "execution_count": 53,
   "id": "a367783a",
   "metadata": {},
   "outputs": [
    {
     "ename": "NameError",
     "evalue": "name 'bpr_true_alpha' is not defined",
     "output_type": "error",
     "traceback": [
      "\u001b[0;31m---------------------------------------------------------------------------\u001b[0m",
      "\u001b[0;31mNameError\u001b[0m                                 Traceback (most recent call last)",
      "Input \u001b[0;32mIn [53]\u001b[0m, in \u001b[0;36m<cell line: 1>\u001b[0;34m()\u001b[0m\n\u001b[0;32m----> 1\u001b[0m alpha \u001b[38;5;241m=\u001b[39m \u001b[43mbpr_true_alpha\u001b[49m\n\u001b[1;32m      2\u001b[0m fftt_1 \u001b[38;5;241m=\u001b[39m bpr_true_fftt\n\u001b[1;32m      3\u001b[0m fftt_2 \u001b[38;5;241m=\u001b[39m bpr_true_fftt\n",
      "\u001b[0;31mNameError\u001b[0m: name 'bpr_true_alpha' is not defined"
     ]
    }
   ],
   "source": [
    "alpha = bpr_true_alpha\n",
    "fftt_1 = bpr_true_fftt\n",
    "fftt_2 = bpr_true_fftt\n",
    "c_1 = bpr_true_capacity\n",
    "c_2 = bpr_true_capacity\n",
    "a = const_multiplier\n",
    "cap_thresh = cap_thresh_multiplier\n",
    "b_1 = apx_slope\n",
    "b_2 = apx_slope\n",
    "\n",
    "# num_ineligible_trunc = 10\n",
    "\n",
    "time_1 = time.time()\n",
    "\n",
    "users_in = []\n",
    "for i in range(num_ineligible_trunc):\n",
    "    users_in += [cp.Variable((3, T))]\n",
    "edge_flows = cp.Variable((2, T))\n",
    "users_el = cp.Variable((3, T))\n",
    "eps_flows = cp.Variable((2, T))\n",
    "\n",
    "constraints = []\n",
    "\n",
    "# Total edge flow, express lane:\n",
    "print(\"Adding total edge flow, express lane constraints.\")\n",
    "constraints += [(edge_flows[0, t] == sum(users_in[i][0, t] for i in range(num_ineligible_trunc)) + \\\n",
    "              users_el[0, t] + sum(users_in[i][1, t] for i in range(num_ineligible_trunc)) + \\\n",
    "              users_el[1, t]) for t in range(T)]\n",
    "\n",
    "# Total edge flow, general purpose lane:\n",
    "print(\"Adding total edge flow, general purpose lane constraints.\")\n",
    "constraints += [(edge_flows[1, t] == sum(users_in[i][2, t] for i in range(num_ineligible_trunc)) + \\\n",
    "              users_el[2, t]) for t in range(T)]\n",
    "\n",
    "# Non-negativity of flows, and zero flow for \"eligible users in ineligible groups:\n",
    "print(\"Adding non-negativity of flows constraints.\")\n",
    "constraints += [(users_in[i][j, t] >= 0) for i in range(num_ineligible_trunc) for j in range(3) for t in range(T)]\n",
    "constraints += [(users_in[i][0, t] == 0) for i in range(num_ineligible_trunc) for t in range(T)]\n",
    "constraints += [(users_el[j, t] >= 0) for j in range(3) for t in range(T)]\n",
    "\n",
    "# Every eligible and ineligible user is assigned to one of three options: \\\n",
    "# (express paying, express with credit, non-express)\n",
    "print(\"Adding user assignment constraints.\")\n",
    "constraints += [(sum(users_in[i][j, t] for j in range(3)) == 1) for i in range(num_ineligible_trunc) for t in range(T)]\n",
    "constraints += [(sum(users_el[j, t] for j in range(3)) == 1) for t in range(T)]\n",
    "\n",
    "# Budget constraint satisfaction:\n",
    "print(\"Adding budget satisfaction constraints.\")\n",
    "if toll != 0:\n",
    "    constraints += [sum(toll*users_el[0, t] for t in range(T)) <= budget * num_eligible] \n",
    "\n",
    "# Piecewise affine approximation:\n",
    "print(\"Adding piecewise affine approximation constraints.\")\n",
    "constraints += [(eps_flows[j, t] >= 0) for j in range(2) for t in range(T)]\n",
    "constraints += [(eps_flows[0, t] >= edge_flows[0, t] - cap_thresh*c_1) for t in range(T)]\n",
    "constraints += [(eps_flows[1, t] >= edge_flows[1, t] - cap_thresh*c_2) for t in range(T)]\n",
    "\n",
    "# Set Objective\n",
    "print(\"Setting objective.\")\n",
    "objective = cp.Minimize(sum( a*fftt_1*(edge_flows[0, t]) + b_1*(eps_flows[0, t]**2)/2 \\\n",
    "                    + a*fftt_2*(edge_flows[1, t]) + b_2*(eps_flows[1, t]**2)/2 \\\n",
    "                    + sum( toll*users_in[i][1,t]/vot_ineligible[i,t] for i in range(num_ineligible_trunc)) \\\n",
    "    for t in range(T)))\n",
    "\n",
    "\n",
    "# Solve problem\n",
    "print(\"Forming problem.\")\n",
    "prob = cp.Problem(objective, constraints)\n",
    "\n",
    "print(\"Solving problem.\")\n",
    "result = prob.solve()\n",
    "\n",
    "time_2 = time.time()\n",
    "print()\n",
    "print(\"Run time:\", time_2 - time_1)"
   ]
  },
  {
   "cell_type": "code",
   "execution_count": 53,
   "id": "48707590",
   "metadata": {},
   "outputs": [],
   "source": [
    "\n",
    "users_in_values_cvxpy = np.zeros((num_ineligible_trunc, 3, T))\n",
    "for i in range(num_ineligible_trunc):\n",
    "    users_in_values_cvxpy[i, :, :] = users_in[i].value\n",
    "\n",
    "solution_cvxpy = {\n",
    "    \"users_in\": users_in_values_cvxpy,\n",
    "    \"users_el\": users_el.value,\n",
    "    \"edge_flows\": edge_flows.value,\n",
    "    \"eps_flows\": eps_flows.value\n",
    "}\n"
   ]
  },
  {
   "cell_type": "code",
   "execution_count": 54,
   "id": "8b1e4710",
   "metadata": {},
   "outputs": [
    {
     "name": "stdout",
     "output_type": "stream",
     "text": [
      "[[  1.   1.   1.   1.   1.]\n",
      " [500. 500. 500. 500. 500.]]\n",
      "\n",
      "[[244.0233496  244.12728384 244.23866486 244.19237969 244.19254432]\n",
      " [256.97664829 256.87270872 256.7613343  256.80762163 256.80745451]]\n",
      "\n",
      "\n",
      "[[0. 0. 0. 0. 0.]\n",
      " [0. 0. 0. 0. 0.]]\n",
      "\n",
      "[[192.31250948 192.41678911 192.52772812 192.48128388 192.48160163]\n",
      " [205.26548894 205.16120415 205.05027097 205.09671735 205.09639722]]\n"
     ]
    }
   ],
   "source": [
    "print(solution_gurobi[\"edge_flows\"])\n",
    "print()\n",
    "print(solution_cvxpy[\"edge_flows\"])\n",
    "print(\"\\n\")\n",
    "\n",
    "print(solution_gurobi[\"eps_flows\"])\n",
    "print()\n",
    "print(solution_cvxpy[\"eps_flows\"])"
   ]
  },
  {
   "cell_type": "code",
   "execution_count": null,
   "id": "b4fb7dfa",
   "metadata": {},
   "outputs": [],
   "source": []
  },
  {
   "cell_type": "markdown",
   "id": "83adaca9",
   "metadata": {},
   "source": [
    "## Case 2, Discount:"
   ]
  },
  {
   "cell_type": "code",
   "execution_count": null,
   "id": "66b4a79d",
   "metadata": {},
   "outputs": [],
   "source": []
  },
  {
   "cell_type": "code",
   "execution_count": null,
   "id": "7765f661",
   "metadata": {},
   "outputs": [],
   "source": []
  },
  {
   "cell_type": "markdown",
   "id": "7c887f08",
   "metadata": {},
   "source": [
    "## Sample CVXPY code:"
   ]
  },
  {
   "cell_type": "code",
   "execution_count": null,
   "id": "9ac59fc6",
   "metadata": {},
   "outputs": [],
   "source": [
    "x = cp.Variable(2)\n",
    "y = cp.Variable(2)\n",
    "v_fixed = np.array([0, 1])\n",
    "objective = cp.Minimize(cp.sum_squares(x - y) + cp.sum_squares(x - v_fixed))\n",
    "constraints = []\n",
    "# for i in range(2):\n",
    "#     constraints += [x[i] >= 2]\n",
    "# constraints += [x[i] >=2 for i in range(2)]\n",
    "prob = cp.Problem(objective, constraints)\n",
    "\n",
    "# The optimal objective value is returned by `prob.solve()`.\n",
    "result = prob.solve()\n",
    "# The optimal value for x is stored in `x.value`.\n",
    "print(\"x.value:\", x.value)\n",
    "print(\"y.value:\", y.value)\n",
    "print()\n",
    "\n"
   ]
  },
  {
   "cell_type": "code",
   "execution_count": null,
   "id": "705a6f52",
   "metadata": {},
   "outputs": [],
   "source": []
  },
  {
   "cell_type": "code",
   "execution_count": null,
   "id": "0b2e4417",
   "metadata": {},
   "outputs": [],
   "source": [
    "# Problem data.\n",
    "m = 30\n",
    "n = 20\n",
    "np.random.seed(1)\n",
    "A = np.random.randn(m, n)\n",
    "b = np.random.randn(m)\n",
    "\n",
    "# Construct the problem.\n",
    "x = cp.Variable(n)\n",
    "objective = cp.Minimize(cp.sum_squares(A @ x - b))\n",
    "constraints = [0 <= x, x <= 1]\n",
    "prob = cp.Problem(objective, constraints)\n",
    "\n",
    "# The optimal objective value is returned by `prob.solve()`.\n",
    "result = prob.solve()\n",
    "# The optimal value for x is stored in `x.value`.\n",
    "print(\"x.value:\", x.value)\n",
    "print()\n",
    "# The optimal Lagrange multiplier for a constraint is stored in\n",
    "# `constraint.dual_value`.\n",
    "print(\"constraints[0].dual_value:\", constraints[0].dual_value)"
   ]
  },
  {
   "cell_type": "code",
   "execution_count": null,
   "id": "62f19d37",
   "metadata": {},
   "outputs": [],
   "source": []
  },
  {
   "cell_type": "markdown",
   "id": "574e70bf",
   "metadata": {},
   "source": [
    "# LP, Comparison between CVXPY and Gurobi:"
   ]
  },
  {
   "cell_type": "code",
   "execution_count": 135,
   "id": "9873a4af",
   "metadata": {},
   "outputs": [],
   "source": [
    "c_1 = np.array([-1, 1])\n",
    "c_2 = np.array([-1, -1])"
   ]
  },
  {
   "cell_type": "code",
   "execution_count": 153,
   "id": "20e4c32e",
   "metadata": {},
   "outputs": [
    {
     "data": {
      "text/plain": [
       "array([ 3.00000000e+00, -5.09761577e-17])"
      ]
     },
     "execution_count": 153,
     "metadata": {},
     "output_type": "execute_result"
    }
   ],
   "source": [
    "x_cvxpy = cp.Variable(2)\n",
    "prob = cp.Problem(cp.Minimize(x_cvxpy[0]), [c_1 @ x_cvxpy <= -3, c_2 @ x_cvxpy <= -3])\n",
    "prob.solve()\n",
    "x_cvxpy.value"
   ]
  },
  {
   "cell_type": "code",
   "execution_count": 151,
   "id": "2eb9a8dc",
   "metadata": {},
   "outputs": [
    {
     "name": "stdout",
     "output_type": "stream",
     "text": [
      "Gurobi Optimizer version 11.0.0 build v11.0.0rc2 (mac64[x86] - Darwin 23.2.0 23C71)\n",
      "\n",
      "CPU model: Intel(R) Core(TM) i7-8750H CPU @ 2.20GHz\n",
      "Thread count: 6 physical cores, 12 logical processors, using up to 12 threads\n",
      "\n",
      "Optimize a model with 2 rows, 2 columns and 4 nonzeros\n",
      "Model fingerprint: 0x6534bd8a\n",
      "Coefficient statistics:\n",
      "  Matrix range     [1e+00, 1e+00]\n",
      "  Objective range  [1e+00, 1e+00]\n",
      "  Bounds range     [0e+00, 0e+00]\n",
      "  RHS range        [3e+00, 3e+00]\n",
      "Presolve removed 2 rows and 2 columns\n",
      "Presolve time: 0.01s\n",
      "Presolve: All rows and columns removed\n",
      "Iteration    Objective       Primal Inf.    Dual Inf.      Time\n",
      "       0    3.0000000e+00   0.000000e+00   0.000000e+00      0s\n",
      "\n",
      "Solved in 0 iterations and 0.01 seconds (0.00 work units)\n",
      "Optimal objective  3.000000000e+00\n",
      "\n",
      "[3. 0.]\n"
     ]
    }
   ],
   "source": [
    "m_QP = gp.Model()\n",
    "x_gurobi = m_QP.addMVar(shape = 2, name = 'x_gurobi')\n",
    "m_QP.addConstr((- x_gurobi[0] + x_gurobi[1] <= -3 ))\n",
    "m_QP.addConstr((- x_gurobi[0] - x_gurobi[1] <= -3 ))\n",
    "\n",
    "m_QP.setObjective(x_gurobi[0], GRB.MINIMIZE)\n",
    "m_QP.update()\n",
    "m_QP.optimize()\n",
    "print()\n",
    "print(x_gurobi.x)\n"
   ]
  },
  {
   "cell_type": "code",
   "execution_count": null,
   "id": "94c27b56",
   "metadata": {},
   "outputs": [],
   "source": []
  },
  {
   "cell_type": "markdown",
   "id": "fab72811",
   "metadata": {},
   "source": [
    "## QP, Comparison between CVXPY and Gurobi:"
   ]
  },
  {
   "cell_type": "code",
   "execution_count": 39,
   "id": "937ea63e",
   "metadata": {},
   "outputs": [],
   "source": [
    "# Generate a random non-trivial quadratic program.\n",
    "m = 15\n",
    "n = 10\n",
    "p = 5\n",
    "np.random.seed(1)\n",
    "P_gen = np.random.randn(n, n)\n",
    "P = P_gen.T @ P_gen + np.eye(n)\n",
    "q = np.random.randn(n)\n",
    "G = np.random.randn(m, n)\n",
    "h = G @ np.random.randn(n)\n",
    "A = np.random.randn(p, n)\n",
    "b = np.random.randn(p)"
   ]
  },
  {
   "cell_type": "code",
   "execution_count": 40,
   "id": "daba3ffb",
   "metadata": {},
   "outputs": [],
   "source": [
    "# P = np.array([[2, 1], [1, 2]])\n",
    "# q = np.array([3, 4])\n",
    "# n = 2"
   ]
  },
  {
   "cell_type": "code",
   "execution_count": 43,
   "id": "5d43f346",
   "metadata": {},
   "outputs": [
    {
     "name": "stdout",
     "output_type": "stream",
     "text": [
      "\n",
      "The optimal value is 110.89146278608585\n",
      "A solution x is\n",
      "[-1.75612738  0.09726873 -1.57082808 -2.10310111  1.27660026  0.60664563\n",
      " -3.22096183  3.30465178  0.55753984 -1.92167322]\n"
     ]
    }
   ],
   "source": [
    "# Via CVXPY:\n",
    "\n",
    "# Define and solve the CVXPY problem.\n",
    "x_cvxpy = cp.Variable(n)\n",
    "prob = cp.Problem(cp.Minimize((1/2)*cp.quad_form(x_cvxpy, P) + q.T @ x_cvxpy),\n",
    "                 [G @ x_cvxpy <= h,\n",
    "                  A @ x_cvxpy == b])\n",
    "# prob = cp.Problem(cp.Minimize((1/2)*cp.quad_form(x_cvxpy, P) + q.T @ x_cvxpy))\n",
    "prob.solve()\n",
    "\n",
    "# Print result.\n",
    "print(\"\\nThe optimal value is\", prob.value)\n",
    "print(\"A solution x is\")\n",
    "print(x_cvxpy.value)\n",
    "# print(\"A dual solution corresponding to the inequality constraints is\")\n",
    "# print(prob.constraints[0].dual_value)"
   ]
  },
  {
   "cell_type": "code",
   "execution_count": 49,
   "id": "9375ae10",
   "metadata": {},
   "outputs": [
    {
     "name": "stdout",
     "output_type": "stream",
     "text": [
      "Gurobi Optimizer version 11.0.0 build v11.0.0rc2 (mac64[x86] - Darwin 23.2.0 23C71)\n",
      "\n",
      "CPU model: Intel(R) Core(TM) i7-8750H CPU @ 2.20GHz\n",
      "Thread count: 6 physical cores, 12 logical processors, using up to 12 threads\n",
      "\n",
      "Optimize a model with 20 rows, 10 columns and 200 nonzeros\n",
      "Model fingerprint: 0xa58073db\n",
      "Model has 55 quadratic objective terms\n",
      "Coefficient statistics:\n",
      "  Matrix range     [2e-03, 3e+00]\n",
      "  Objective range  [3e-02, 1e+00]\n",
      "  QObjective range [7e-02, 1e+01]\n",
      "  Bounds range     [1e+03, 1e+03]\n",
      "  RHS range        [1e-01, 7e+00]\n",
      "Presolve time: 0.01s\n",
      "Presolved: 20 rows, 10 columns, 200 nonzeros\n",
      "Presolved model has 55 quadratic objective terms\n",
      "Ordering time: 0.00s\n",
      "\n",
      "Barrier statistics:\n",
      " Free vars  : 9\n",
      " AA' NZ     : 4.060e+02\n",
      " Factor NZ  : 4.350e+02\n",
      " Factor Ops : 8.555e+03 (less than 1 second per iteration)\n",
      " Threads    : 1\n",
      "\n",
      "                  Objective                Residual\n",
      "Iter       Primal          Dual         Primal    Dual     Compl     Time\n",
      "   0   4.65444228e+05 -8.49750212e+06  3.70e+03 3.49e+02  1.19e+06     0s\n",
      "   1   3.04574033e+05 -3.61419412e+06  3.86e+01 8.25e+00  1.29e+05     0s\n",
      "   2   1.68797492e+05 -7.42405675e+05  1.42e+00 3.03e-01  2.65e+04     0s\n",
      "   3   2.36936215e+04 -3.12878217e+04  4.80e-03 1.02e-03  1.57e+03     0s\n",
      "   4   3.47923666e+03 -3.64943858e+03  4.79e-09 1.02e-09  2.04e+02     0s\n",
      "   5   5.73184539e+02 -4.17070972e+02  2.36e-10 3.12e-13  2.83e+01     0s\n",
      "   6   1.58859767e+02  3.52738258e+01  8.76e-10 9.55e-14  3.53e+00     0s\n",
      "   7   1.15596941e+02  9.36564409e+01  1.38e-09 1.76e-13  6.27e-01     0s\n",
      "   8   1.10899739e+02  1.10504524e+02  5.73e-10 9.28e-14  1.13e-02     0s\n",
      "   9   1.10891467e+02  1.10890955e+02  5.06e-10 9.15e-14  1.46e-05     0s\n",
      "  10   1.10891462e+02  1.10891462e+02  1.21e-09 6.67e-14  1.46e-08     0s\n",
      "  11   1.10891460e+02  1.10891463e+02  3.21e-09 2.27e-13  1.46e-11     0s\n",
      "\n",
      "Barrier solved model in 11 iterations and 0.04 seconds (0.00 work units)\n",
      "Optimal objective 1.10891460e+02\n",
      "\n"
     ]
    }
   ],
   "source": [
    "# Via Gurobi:\n",
    "\n",
    "# Initialize model\n",
    "m_QP = gp.Model()\n",
    "# Add variables to model\n",
    "x_gurobi = m_QP.addMVar((n), name = \"x\", lb = -1000.0, ub = 1000.0)\n",
    "m_QP.addConstr((G @ x_gurobi <= h))\n",
    "m_QP.addConstr((A @ x_gurobi == b))\n",
    "\n",
    "m_QP.setObjective((0.5* x_gurobi.T @ P @ x_gurobi) + (q.T @ x_gurobi), gp.GRB.MINIMIZE)\n",
    "\n",
    "# m_QP.update()\n",
    "m_QP.optimize()\n"
   ]
  },
  {
   "cell_type": "code",
   "execution_count": 50,
   "id": "5dcc6485",
   "metadata": {},
   "outputs": [
    {
     "data": {
      "text/plain": [
       "array([-1.75612735,  0.09726874, -1.57082804, -2.10310108,  1.27660024,\n",
       "        0.60664563, -3.22096178,  3.30465175,  0.55753985, -1.92167321])"
      ]
     },
     "execution_count": 50,
     "metadata": {},
     "output_type": "execute_result"
    }
   ],
   "source": [
    "np.array([m_QP.getVars()[i].X for i in range(n)])"
   ]
  },
  {
   "cell_type": "code",
   "execution_count": 51,
   "id": "fc310400",
   "metadata": {},
   "outputs": [
    {
     "data": {
      "text/plain": [
       "array([-1.75612738,  0.09726873, -1.57082808, -2.10310111,  1.27660026,\n",
       "        0.60664563, -3.22096183,  3.30465178,  0.55753984, -1.92167322])"
      ]
     },
     "execution_count": 51,
     "metadata": {},
     "output_type": "execute_result"
    }
   ],
   "source": [
    "x_cvxpy.value"
   ]
  },
  {
   "cell_type": "code",
   "execution_count": 48,
   "id": "ab10529a",
   "metadata": {},
   "outputs": [],
   "source": [
    "# np.linalg.solve(P, -q)"
   ]
  },
  {
   "cell_type": "code",
   "execution_count": null,
   "id": "004566d8",
   "metadata": {},
   "outputs": [],
   "source": []
  },
  {
   "cell_type": "code",
   "execution_count": null,
   "id": "c005c82d",
   "metadata": {},
   "outputs": [],
   "source": []
  },
  {
   "cell_type": "code",
   "execution_count": null,
   "id": "d6a28b91",
   "metadata": {},
   "outputs": [],
   "source": []
  },
  {
   "cell_type": "markdown",
   "id": "d6e4fe9c",
   "metadata": {},
   "source": [
    "# Scratch Work:"
   ]
  },
  {
   "cell_type": "code",
   "execution_count": null,
   "id": "b22eb9db",
   "metadata": {},
   "outputs": [],
   "source": [
    "# 20*np.linspace(0, 1, 21)[0:]\n",
    "# np.linspace(toll_arr[0], toll_arr[-3]*T,19)"
   ]
  },
  {
   "cell_type": "code",
   "execution_count": null,
   "id": "9fc1960e",
   "metadata": {},
   "outputs": [],
   "source": []
  },
  {
   "cell_type": "code",
   "execution_count": null,
   "id": "d0a9e5a4",
   "metadata": {},
   "outputs": [],
   "source": []
  },
  {
   "cell_type": "code",
   "execution_count": null,
   "id": "7ee1e92e",
   "metadata": {},
   "outputs": [],
   "source": []
  },
  {
   "cell_type": "code",
   "execution_count": null,
   "id": "233bd7d6",
   "metadata": {},
   "outputs": [],
   "source": []
  }
 ],
 "metadata": {
  "kernelspec": {
   "display_name": "Python 3 (ipykernel)",
   "language": "python",
   "name": "python3"
  },
  "language_info": {
   "codemirror_mode": {
    "name": "ipython",
    "version": 3
   },
   "file_extension": ".py",
   "mimetype": "text/x-python",
   "name": "python",
   "nbconvert_exporter": "python",
   "pygments_lexer": "ipython3",
   "version": "3.8.13"
  }
 },
 "nbformat": 4,
 "nbformat_minor": 5
}
