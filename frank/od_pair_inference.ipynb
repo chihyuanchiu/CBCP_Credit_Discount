{
 "cells": [
  {
   "cell_type": "code",
   "execution_count": 3,
   "id": "847ef92f",
   "metadata": {},
   "outputs": [],
   "source": [
    "import numpy as np\n",
    "import scipy as sp\n",
    "\n",
    "import matplotlib.pyplot as plt\n",
    "import matplotlib.axes as axe\n",
    "import pandas as pd\n",
    "import datetime as dt\n",
    "import gurobipy as gp\n",
    "from gurobipy import GRB\n",
    "import cvxpy as cp\n",
    "import yaml\n",
    "\n",
    "import random\n",
    "from itertools import chain, combinations, tee\n",
    "import time\n"
   ]
  },
  {
   "cell_type": "markdown",
   "id": "e79bdd91",
   "metadata": {},
   "source": [
    "# Functions"
   ]
  },
  {
   "cell_type": "code",
   "execution_count": 6,
   "id": "eb0dc6fa",
   "metadata": {},
   "outputs": [],
   "source": [
    "def solve_od_single_freeway(num_nodes, origin_demands, destination_demands):\n",
    "    \n",
    "    assert num_nodes >= 3, \"We must have num_nodes >= 3.\"\n",
    "    assert origin_demands.shape[0] == num_nodes - 1, \\\n",
    "        \"We must have origin_demands.shape[0] == num_nodes - 1.\"\n",
    "    assert destination_demands.shape[0] >= num_nodes - 1, \\\n",
    "        \"We must have destination_demands.shape[0] == num_nodes - 1.\"\n",
    "    \n",
    "    # Variables:\n",
    "    for node in range(num_nodes - 1):\n",
    "        \n",
    "        objective += cvxpy.entr()\n",
    "#         constraints = \n",
    "    \n",
    "    # Problem\n",
    "    prob = cp.Problem(objective, constraints)\n",
    "    \n",
    "    # Solve:\n",
    "    result = prob.solve()\n",
    "\n",
    "    return\n",
    "\n",
    "\n",
    "\n",
    "def solve_od_general_network():\n",
    "\n",
    "    return\n"
   ]
  },
  {
   "cell_type": "code",
   "execution_count": null,
   "id": "fa7ee520",
   "metadata": {},
   "outputs": [],
   "source": []
  },
  {
   "cell_type": "code",
   "execution_count": null,
   "id": "794cc0fe",
   "metadata": {},
   "outputs": [],
   "source": []
  },
  {
   "cell_type": "markdown",
   "id": "008f2f79",
   "metadata": {},
   "source": [
    "# Main"
   ]
  },
  {
   "cell_type": "code",
   "execution_count": null,
   "id": "672861d6",
   "metadata": {},
   "outputs": [],
   "source": []
  },
  {
   "cell_type": "code",
   "execution_count": null,
   "id": "ec3ee133",
   "metadata": {},
   "outputs": [],
   "source": []
  },
  {
   "cell_type": "markdown",
   "id": "b11c0e81",
   "metadata": {},
   "source": [
    "# Scratch Work"
   ]
  },
  {
   "cell_type": "code",
   "execution_count": 15,
   "id": "dc5830a1",
   "metadata": {},
   "outputs": [
    {
     "data": {
      "text/plain": [
       "array([0.1, 0.1, 0.1, 0.1, 0.1, 0.1, 0.1, 0.1, 0.1, 0.1])"
      ]
     },
     "execution_count": 15,
     "metadata": {},
     "output_type": "execute_result"
    }
   ],
   "source": [
    "# Entropy function, test:\n",
    "\n",
    "x = cp.Variable(10)\n",
    "func = - cp.sum(cp.entr(x))\n",
    "objective = cp.Minimize(func)\n",
    "constraints = [x >= 0.0, cp.sum(x) == 1.0]\n",
    "prob = cp.Problem(objective, constraints)\n",
    "\n",
    "result = prob.solve()\n",
    "\n",
    "x.value\n"
   ]
  },
  {
   "cell_type": "code",
   "execution_count": null,
   "id": "d9a870b1",
   "metadata": {},
   "outputs": [],
   "source": []
  }
 ],
 "metadata": {
  "kernelspec": {
   "display_name": "Python 3 (ipykernel)",
   "language": "python",
   "name": "python3"
  },
  "language_info": {
   "codemirror_mode": {
    "name": "ipython",
    "version": 3
   },
   "file_extension": ".py",
   "mimetype": "text/x-python",
   "name": "python",
   "nbconvert_exporter": "python",
   "pygments_lexer": "ipython3",
   "version": "3.8.13"
  }
 },
 "nbformat": 4,
 "nbformat_minor": 5
}
