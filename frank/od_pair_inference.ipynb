{
 "cells": [
  {
   "cell_type": "code",
   "execution_count": 3,
   "id": "847ef92f",
   "metadata": {},
   "outputs": [],
   "source": [
    "import numpy as np\n",
    "import scipy as sp\n",
    "\n",
    "import matplotlib.pyplot as plt\n",
    "import matplotlib.axes as axe\n",
    "import pandas as pd\n",
    "import datetime as dt\n",
    "import gurobipy as gp\n",
    "from gurobipy import GRB\n",
    "import cvxpy as cp\n",
    "import yaml\n",
    "\n",
    "import random\n",
    "from itertools import chain, combinations, tee\n",
    "import time\n"
   ]
  },
  {
   "cell_type": "markdown",
   "id": "e79bdd91",
   "metadata": {},
   "source": [
    "# Functions"
   ]
  },
  {
   "cell_type": "code",
   "execution_count": 38,
   "id": "eb0dc6fa",
   "metadata": {},
   "outputs": [],
   "source": [
    "def solve_od_single_freeway(num_nodes, origin_demands, destination_demands):\n",
    "    \n",
    "    assert num_nodes >= 3, \"We must have num_nodes >= 3.\"\n",
    "    assert origin_demands.shape[0] == num_nodes - 1, \\\n",
    "        \"We must have origin_demands.shape[0] == num_nodes - 1.\"\n",
    "    assert destination_demands.shape[0] >= num_nodes - 1, \\\n",
    "        \"We must have destination_demands.shape[0] == num_nodes - 1.\"\n",
    "    assert np.sum(origin_demands) == np.sum(destination_demands), \\\n",
    "        \"We must have np.sum(origin_demands) == np.sum(destination_demands), to ensure flow continuity.\"\n",
    "    \n",
    "    ## TODO: Define T.\n",
    "    \n",
    "    T = {}\n",
    "    func = 0.0\n",
    "    \n",
    "    # Variables:\n",
    "    for i in range(num_nodes - 1):\n",
    "        for j in range(i + 1, num_nodes):\n",
    "            T[(i, j)] = cp.Variable(1)\n",
    "            func += - cp.entr(T[(i, j)]) - T[(i, j)]\n",
    "    \n",
    "    objective = cp.Minimize(func)\n",
    "    \n",
    "    # Constraints:\n",
    "    constraints = []\n",
    "    constraints += [T[(i, j)] >= 0 for i in range(num_nodes - 1) for j in range(i + 1, num_nodes)]\n",
    "    constraints += [sum(T[(i, j)] for j in range(i + 1, num_nodes)) == origin_demands[i] \\\n",
    "                    for i in range(num_nodes - 1)]\n",
    "    constraints += [sum(T[(i, j)] for i in range(j)) == destination_demands[j-1] \\\n",
    "                    for j in range(1, num_nodes)]\n",
    "    \n",
    "    # Problem\n",
    "    prob = cp.Problem(objective, constraints)\n",
    "    \n",
    "    # Solve:\n",
    "    result = prob.solve()\n",
    "    \n",
    "    T_values = {}\n",
    "    for i in range(num_nodes - 1):\n",
    "        for j in range(i + 1, num_nodes):\n",
    "            T_values[(i, j)] = max(T[(i, j)].value[0], 0.0)\n",
    "    \n",
    "    return T_values\n",
    "\n",
    "def solve_od_general_network():\n",
    "\n",
    "    return\n"
   ]
  },
  {
   "cell_type": "code",
   "execution_count": 39,
   "id": "fa7ee520",
   "metadata": {},
   "outputs": [],
   "source": [
    "# list(range(4, 5))"
   ]
  },
  {
   "cell_type": "markdown",
   "id": "008f2f79",
   "metadata": {},
   "source": [
    "# Main"
   ]
  },
  {
   "cell_type": "code",
   "execution_count": 40,
   "id": "672861d6",
   "metadata": {},
   "outputs": [
    {
     "data": {
      "text/plain": [
       "{(0, 1): 1.2, (0, 2): 0.8, (1, 2): 1.0}"
      ]
     },
     "execution_count": 40,
     "metadata": {},
     "output_type": "execute_result"
    }
   ],
   "source": [
    "num_nodes = 3\n",
    "origin_demands = np.array([2.0, 1.0])\n",
    "destination_demands = np.array([1.2, 1.8])\n",
    "\n",
    "solve_od_single_freeway(num_nodes, origin_demands, destination_demands)"
   ]
  },
  {
   "cell_type": "code",
   "execution_count": null,
   "id": "98a685e7",
   "metadata": {},
   "outputs": [],
   "source": []
  },
  {
   "cell_type": "markdown",
   "id": "b11c0e81",
   "metadata": {},
   "source": [
    "# Scratch Work"
   ]
  },
  {
   "cell_type": "code",
   "execution_count": 15,
   "id": "dc5830a1",
   "metadata": {},
   "outputs": [
    {
     "data": {
      "text/plain": [
       "array([0.1, 0.1, 0.1, 0.1, 0.1, 0.1, 0.1, 0.1, 0.1, 0.1])"
      ]
     },
     "execution_count": 15,
     "metadata": {},
     "output_type": "execute_result"
    }
   ],
   "source": [
    "# Entropy function, test:\n",
    "\n",
    "x = cp.Variable(10)\n",
    "func = - cp.sum(cp.entr(x))\n",
    "objective = cp.Minimize(func)\n",
    "constraints = [x >= 0.0, cp.sum(x) == 1.0]\n",
    "prob = cp.Problem(objective, constraints)\n",
    "\n",
    "result = prob.solve()\n",
    "\n",
    "x.value\n"
   ]
  },
  {
   "cell_type": "code",
   "execution_count": null,
   "id": "d9a870b1",
   "metadata": {},
   "outputs": [],
   "source": []
  }
 ],
 "metadata": {
  "kernelspec": {
   "display_name": "Python 3 (ipykernel)",
   "language": "python",
   "name": "python3"
  },
  "language_info": {
   "codemirror_mode": {
    "name": "ipython",
    "version": 3
   },
   "file_extension": ".py",
   "mimetype": "text/x-python",
   "name": "python",
   "nbconvert_exporter": "python",
   "pygments_lexer": "ipython3",
   "version": "3.8.13"
  }
 },
 "nbformat": 4,
 "nbformat_minor": 5
}
