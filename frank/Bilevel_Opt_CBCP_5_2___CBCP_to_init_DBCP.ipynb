{
 "cells": [
  {
   "cell_type": "code",
   "execution_count": null,
   "id": "1a2d4b50",
   "metadata": {},
   "outputs": [],
   "source": [
    "import numpy as np\n",
    "import scipy as sp\n",
    "\n",
    "import matplotlib.pyplot as plt\n",
    "import matplotlib.axes as axe\n",
    "import pandas as pd\n",
    "import datetime as dt\n",
    "import gurobipy as gp\n",
    "from gurobipy import GRB\n",
    "import cvxpy as cp\n",
    "\n",
    "import random\n",
    "from itertools import chain, combinations, tee\n",
    "import time\n",
    "\n",
    "plt.rcParams['text.usetex'] = True"
   ]
  },
  {
   "cell_type": "markdown",
   "id": "283fd5df",
   "metadata": {},
   "source": [
    "# Functions"
   ]
  },
  {
   "cell_type": "code",
   "execution_count": null,
   "id": "7b0c9e03",
   "metadata": {},
   "outputs": [],
   "source": [
    "def demand_name_by_group_index(index):\n",
    "    list_demand_names = [\"Demand (eligible group, 1)\", \"Demand (eligible group, 2)\", \\\n",
    "                         \"Demand (ineligible group, 1)\", \"Demand (ineligible group, 2)\", \\\n",
    "                         \"Demand (ineligible group, 3)\"]\n",
    "    return list_demand_names[index]\n",
    "\n",
    "def VoT_name_by_group_index(index):\n",
    "    list_demand_names = [\"VoT (eligible group, 1)\", \"VoT (eligible group, 2)\", \\\n",
    "                         \"VoT (ineligible group, 1)\", \"VoT (ineligible group, 2)\", \\\n",
    "                         \"VoT (ineligible group, 3)\"]\n",
    "    return list_demand_names[index]\n"
   ]
  },
  {
   "cell_type": "markdown",
   "id": "f610a20e",
   "metadata": {},
   "source": [
    "# Download Groups, Routes to Edges Data:"
   ]
  },
  {
   "cell_type": "code",
   "execution_count": null,
   "id": "2fcefd5c",
   "metadata": {},
   "outputs": [],
   "source": [
    "directory_path = '../data/data_income_percentage_VoT___101_N_Sep_to_Nov_2024/'\n",
    "df_data = pd.read_csv(directory_path + 'data_cities_od_VoTs_demands_1.csv')\n",
    "\n",
    "# df_od_flow_data\n",
    "# df_data"
   ]
  },
  {
   "cell_type": "code",
   "execution_count": null,
   "id": "15ee4f84",
   "metadata": {},
   "outputs": [],
   "source": [
    "dict_data = {}\n",
    "\n",
    "for column_name_full in list(df_data.columns):\n",
    "    if column_name_full == \"Data Category\":\n",
    "        categories_list = df_data[column_name_full].tolist()\n",
    "    else:\n",
    "        dict_data[int(column_name_full)] = {}\n",
    "        for category_index, category in enumerate(categories_list):\n",
    "            if category == \"Start City Index\" or category == \"End City Index\":\n",
    "                dict_data[int(column_name_full)][category] \\\n",
    "                    = int(df_data[column_name_full].tolist()[category_index])\n",
    "            elif category == \"Start City\" or category == \"End City\":\n",
    "                dict_data[int(column_name_full)][category] \\\n",
    "                    = df_data[column_name_full].tolist()[category_index]\n",
    "            else:\n",
    "#                 print(\"category:\", category)\n",
    "                dict_data[int(column_name_full)][category] \\\n",
    "                    = float(df_data[column_name_full].tolist()[category_index])\n",
    "\n",
    "# Test git"
   ]
  },
  {
   "cell_type": "code",
   "execution_count": null,
   "id": "c0da0a21",
   "metadata": {
    "scrolled": true
   },
   "outputs": [],
   "source": [
    "dict_data"
   ]
  },
  {
   "cell_type": "code",
   "execution_count": null,
   "id": "da5b9135",
   "metadata": {},
   "outputs": [],
   "source": [
    "cities_dict = {}\n",
    "for od_info in list(dict_data.values()):\n",
    "    if od_info[\"Start City Index\"] not in list(cities_dict.keys()):\n",
    "        cities_dict[od_info[\"Start City Index\"]] = od_info[\"Start City\"]\n",
    "    if od_info[\"End City Index\"] not in list(cities_dict.keys()):\n",
    "        cities_dict[od_info[\"End City Index\"]] = od_info[\"End City\"]\n",
    "\n",
    "cities_list = list(cities_dict.values())\n",
    "\n",
    "# cities_dict"
   ]
  },
  {
   "cell_type": "code",
   "execution_count": null,
   "id": "5b08b36d",
   "metadata": {
    "scrolled": false
   },
   "outputs": [],
   "source": [
    "od_to_edges_array = np.zeros((len(list(dict_data.keys())), 2))\n",
    "\n",
    "for od_index, od_info in dict_data.items():\n",
    "    od_to_edges_array[od_index, 0] = int(cities_list.index(od_info[\"Start City\"]))\n",
    "    od_to_edges_array[od_index, 1] = int(cities_list.index(od_info[\"End City\"]))\n",
    "\n",
    "edge_to_od_dict = {}\n",
    "num_edges = int(np.max(od_to_edges_array)) + 1\n",
    "# print(\"num_edges:\", num_edges)\n",
    "\n",
    "for e in range(num_edges):\n",
    "    edge_to_od_dict[e] = [k for k in list(range(int(od_to_edges_array.shape[0]) )) \\\n",
    "                           if od_to_edges_array[k, 0] <= e <= od_to_edges_array[k, 1]]\n",
    "    \n",
    "# od_to_edges_array\n",
    "# edge_to_od_dict"
   ]
  },
  {
   "cell_type": "code",
   "execution_count": null,
   "id": "804b87cb",
   "metadata": {},
   "outputs": [],
   "source": [
    "num_groups_per_od = 5\n",
    "\n",
    "demand_array = np.zeros((len(list(dict_data.keys())), num_groups_per_od))\n",
    "VoT_array_base = np.zeros((len(list(dict_data.keys())), num_groups_per_od))\n",
    "\n",
    "for od_index, od_value in dict_data.items():\n",
    "    for group_index in range(num_groups_per_od):\n",
    "        demand_name = demand_name_by_group_index(group_index)\n",
    "        VoT_name = VoT_name_by_group_index(group_index)\n",
    "        \n",
    "        demand_array[od_index, group_index] = od_value[demand_name]\n",
    "        VoT_array_base[od_index, group_index] = od_value[VoT_name]\n",
    "\n",
    "print(demand_array)\n",
    "# VoT_array_base"
   ]
  },
  {
   "cell_type": "code",
   "execution_count": null,
   "id": "2b0a3417",
   "metadata": {},
   "outputs": [],
   "source": [
    "directory_path = '../data/data_income_percentage_VoT___101_N_Sep_to_Nov_2024/'\n",
    "\n",
    "T = 5\n",
    "VoT_array = np.zeros((VoT_array_base.shape[0], VoT_array_base.shape[1], T))\n",
    "\n",
    "for t in range(T):\n",
    "    df_perturbation_data = pd.read_csv(directory_path + 'perturbations_1_' + str(t) + '.csv')\n",
    "    perturbation_array = df_perturbation_data.to_numpy()[:, 1:]\n",
    "    VoT_array[:, :, t] = VoT_array_base * perturbation_array\n",
    "    \n",
    "# VoT_array_base\n",
    "# perturbation_array"
   ]
  },
  {
   "cell_type": "code",
   "execution_count": null,
   "id": "e84ea18b",
   "metadata": {},
   "outputs": [],
   "source": []
  },
  {
   "cell_type": "markdown",
   "id": "622716c5",
   "metadata": {},
   "source": [
    "# Download Latency Parameters Data"
   ]
  },
  {
   "cell_type": "code",
   "execution_count": null,
   "id": "795f56c0",
   "metadata": {},
   "outputs": [],
   "source": [
    "directory_path_latency = '../data/pems_latency_inference___101_N_Sep_to_Nov_2024/'\n",
    "df_latency_params = pd.read_csv(directory_path_latency + 'latency_params.csv')\n",
    "\n",
    "# list(df_latency_params.loc[:, \"Palo Alto\"])"
   ]
  },
  {
   "cell_type": "code",
   "execution_count": null,
   "id": "9d3c09a7",
   "metadata": {},
   "outputs": [],
   "source": [
    "dict_latency_params = {}\n",
    "\n",
    "city_list = list(df_latency_params.columns)[1:]\n",
    "\n",
    "for city in city_list:\n",
    "#     if city != \"Belmont\":\n",
    "    if 1 == 1:\n",
    "        dict_latency_params[city] = {}\n",
    "        dict_latency_params[city][\"Flow (at bend)\"] = df_latency_params.loc[:, city][0]\n",
    "        dict_latency_params[city][\"Latency (at bend)\"] = df_latency_params.loc[:, city][1]\n",
    "        dict_latency_params[city][\"Slope (after bend)\"] = df_latency_params.loc[:, city][2]\n",
    "\n",
    "dict_latency_params"
   ]
  },
  {
   "cell_type": "code",
   "execution_count": null,
   "id": "fcd7e1d5",
   "metadata": {},
   "outputs": [],
   "source": []
  },
  {
   "cell_type": "markdown",
   "id": "d0be9aa7",
   "metadata": {},
   "source": [
    "# Testing a fixed case:"
   ]
  },
  {
   "cell_type": "code",
   "execution_count": null,
   "id": "0ac6b274",
   "metadata": {},
   "outputs": [],
   "source": [
    "# num_edges = 7\n",
    "num_gp_lanes = 3\n",
    "\n",
    "el_indices = [0, 1]\n",
    "in_indices = [2, 3, 4]\n",
    "\n",
    "num_el = len(el_indices)\n",
    "num_in = len(in_indices)\n",
    "\n",
    "coeff_input = np.zeros((3, num_edges))\n",
    "for counter, city in enumerate(dict_latency_params.keys()):\n",
    "    coeff_input[0, counter] = dict_latency_params[city][\"Latency (at bend)\"]\n",
    "    coeff_input[1, counter] = dict_latency_params[city][\"Slope (after bend)\"]\n",
    "    coeff_input[2, counter] = dict_latency_params[city][\"Flow (at bend)\"]\n",
    "    "
   ]
  },
  {
   "cell_type": "code",
   "execution_count": null,
   "id": "7721fe33",
   "metadata": {},
   "outputs": [],
   "source": [
    "## Initialize lambda:\n",
    "\n",
    "lambda_E, lambda_R, lambda_I = 1.0, 1.0, 1.0\n",
    "\n",
    "## Initialize tau, alpha values:\n",
    "\n",
    "filename_segment = str(int(lambda_E)) + '_' + str(int(lambda_R)) + '_' + str(int(lambda_I))\n",
    "\n",
    "directory_inits = '../data/old___opt_tolls_subsidies_metrics/'\n",
    "df_inits = pd.read_csv(directory_inits + 'opt_CBCP___' + filename_segment + '.csv')\n",
    "\n",
    "print(\"filename_segment:\", filename_segment)\n",
    "print()\n",
    "\n",
    "inits_tau_arr_as_object = df_inits.to_numpy()[:, 1:6]\n",
    "inits_B_arr_as_object = df_inits.to_numpy()[0, 7]\n",
    "\n",
    "argmin_tau = np.zeros((num_edges, T))\n",
    "argmin_B = 0\n",
    "\n",
    "for e in range(num_edges):\n",
    "    for t in range(T):\n",
    "        argmin_tau[e, t] = inits_tau_arr_as_object[e, t]\n",
    "        argmin_B = inits_B_arr_as_object\n",
    "\n",
    "print(\"argmin_tau:\\n\", argmin_tau)\n",
    "print()\n",
    "print(\"argmin_B:\\n\", argmin_B)\n"
   ]
  },
  {
   "cell_type": "code",
   "execution_count": null,
   "id": "2552405b",
   "metadata": {},
   "outputs": [],
   "source": [
    "# argmin_tau = np.array([[0.0, 0.3194, 0.3194, 0.0, 0.0], \\\n",
    "#                        [0.2498, 0.2498, 0.2498, 0.0, 0.0], \\\n",
    "#                        [0.0, 0.0, 0.0, 0.9995, 0.9995], \\\n",
    "#                        [0.0, 1.0281, 1.0281, 1.0281, 0.0], \\\n",
    "#                        [1.6043, 0.0, 0.0, 1.6043, 0.0], \\\n",
    "#                        [0.0, 0.1922, 0.1922, 0.1922, 0.0], \\\n",
    "#                        [0.0, 0.0, 0.0, 0.2178, 0.2178]])\n",
    "\n",
    "# argmin_B = 10.6925"
   ]
  },
  {
   "cell_type": "markdown",
   "id": "0e35c83c",
   "metadata": {},
   "source": [
    "##  <font color='blue'>Import argmin_y directly (requires storing it from the other Jupyter notebook file).</font> "
   ]
  },
  {
   "cell_type": "code",
   "execution_count": null,
   "id": "942dfa54",
   "metadata": {},
   "outputs": [],
   "source": [
    "# argmin_y = solve_CBCP_direct(T, num_edges, num_gp_lanes, \\\n",
    "#                                     argmin_tau, argmin_B, od_to_edges_array, \\\n",
    "#                                     demand_array, VoT_array, num_el, coeff_input)\n",
    "\n",
    "# print(\"argmin_tau:\", argmin_tau)\n",
    "# print(\"argmin_B:\", argmin_B)\n",
    "# # print(\"min_welfare:\", min_welfare)\n",
    "# print()\n",
    "# print(\"argmin_y:\\n\")\n",
    "\n",
    "# argmin_y\n"
   ]
  },
  {
   "cell_type": "code",
   "execution_count": null,
   "id": "904c2ab0",
   "metadata": {},
   "outputs": [],
   "source": [
    "lambda_E, lambda_R, lambda_I = 1.0, 1.0, 1.0\n",
    "\n",
    "directory_path = '../data/opt_values/'\n",
    "filename = str(int(lambda_E)) + '_' + str(int(lambda_R)) + '_' + str(int(lambda_I)) + '___y.csv'\n",
    "\n",
    "y_CBCP_opt_array = pd.read_csv(directory_path + '1_1_1___y.csv').to_numpy()\n",
    "\n",
    "y_CBCP_opt = {}\n",
    "for row_index in range(y_CBCP_opt_array.shape[0]):\n",
    "    key = tuple(y_CBCP_opt_array[row_index,:5].astype(int))\n",
    "    y_CBCP_opt[key] = y_CBCP_opt_array[row_index,-1]\n",
    "\n",
    "# y_CBCP_array\n",
    "y_CBCP_opt\n"
   ]
  },
  {
   "cell_type": "code",
   "execution_count": null,
   "id": "0b137e50",
   "metadata": {},
   "outputs": [],
   "source": []
  },
  {
   "cell_type": "code",
   "execution_count": null,
   "id": "fe4132e4",
   "metadata": {},
   "outputs": [],
   "source": [
    "# arr = np.array([11, 22, 33, 44, 55])\n",
    "# tuple(arr)"
   ]
  },
  {
   "cell_type": "code",
   "execution_count": null,
   "id": "6852ab3a",
   "metadata": {},
   "outputs": [],
   "source": []
  },
  {
   "cell_type": "markdown",
   "id": "e9d7a6fc",
   "metadata": {},
   "source": [
    "# Compute Aggregated Flows, Travel Times, and Cost Metrics"
   ]
  },
  {
   "cell_type": "code",
   "execution_count": null,
   "id": "149d11c0",
   "metadata": {},
   "outputs": [],
   "source": [
    "def compute_y_agg_x(y, edge_to_od_dict, num_edges, T):\n",
    "    \n",
    "    y_agg = {}\n",
    "    x = {}\n",
    "    \n",
    "    for e in range(num_edges):\n",
    "        for k in [0, 1]:\n",
    "            for t in range(T):\n",
    "                y_agg[(e, k, t, \"in\")] = sum(y[(od, g, e, k, t)] \\\n",
    "                                                for od in edge_to_od_dict[e] for g in in_indices)\n",
    "                y_agg[(e, k, t, \"el\")] = sum(y[(od, g, e, k, t)] \\\n",
    "                                                for od in edge_to_od_dict[e] for g in el_indices)\n",
    "\n",
    "                x[(e, k, t)] = sum(y[(od, g, e, k, t)] \\\n",
    "                                        for od in edge_to_od_dict[e] for g in in_indices + el_indices)\n",
    "\n",
    "    return y_agg, x\n",
    "\n",
    "\n",
    "def compute_travel_times(y_agg, x, edge_to_od_dict, coeff_input, num_gp_lanes, num_edges, T):\n",
    "    \n",
    "    travel_times = {}\n",
    "    avg_travel_times = {}\n",
    "    \n",
    "    for e in range(num_edges):\n",
    "        for t in range(T):\n",
    "            travel_times[(e, 0, t)] = coeff_input[0, e] \\\n",
    "                + coeff_input[1, e] * max(x[(e, 0, t)] - coeff_input[2, e], 0.0)\n",
    "            travel_times[(e, 1, t)] = coeff_input[0, e] \\\n",
    "                + coeff_input[1, e] * max(x[(e, 1, t)]/num_gp_lanes - coeff_input[2, e], 0.0)\n",
    "    \n",
    "    for e in range(num_edges):\n",
    "        avg_travel_times[(e, 'ex')] = sum([travel_times[(e, 0, t)] for t in range(T)]) / T\n",
    "        avg_travel_times[(e, 'gp')] = sum([travel_times[(e, 1, t)] for t in range(T)]) / T\n",
    "        \n",
    "        avg_travel_times[(e, 'el')] = sum(y_agg[(e, k, t, 'el')] * travel_times[(e, k, t)] for k in range(2) for t in range(T)) \\\n",
    "                                        / sum(y_agg[(e, k, t, 'el')] for k in range(2) for t in range(T))\n",
    "        avg_travel_times[(e, 'in')] = sum(y_agg[(e, k, t, 'in')] * travel_times[(e, k, t)] for k in range(2) for t in range(T)) \\\n",
    "                                        / sum(y_agg[(e, k, t, 'in')] for k in range(2) for t in range(T))\n",
    "    \n",
    "    avg_travel_times['ex'] = sum([travel_times[(e, 0, t)] for e in range(num_edges) for t in range(T)]) / T\n",
    "    avg_travel_times['gp'] = sum([travel_times[(e, 1, t)] for e in range(num_edges) for t in range(T)]) / T\n",
    "\n",
    "    avg_travel_times['el'] = sum(y_agg[(e, k, t, 'el')] * travel_times[(e, k, t)] for e in range(num_edges) for k in range(2) for t in range(T)) \\\n",
    "                                / sum(y_agg[(e, k, t, 'el')] for e in range(num_edges) for k in range(2) for t in range(T))\n",
    "    avg_travel_times['in'] = sum(y_agg[(e, k, t, 'in')] * travel_times[(e, k, t)] for e in range(num_edges) for k in range(2) for t in range(T)) \\\n",
    "                                / sum(y_agg[(e, k, t, 'in')] for e in range(num_edges) for k in range(2) for t in range(T))\n",
    "    \n",
    "    return travel_times, avg_travel_times\n",
    "\n",
    "def compute_percent_on_express(y_agg, x, num_edges, T):\n",
    "    \n",
    "    percent_on_express = {}\n",
    "    \n",
    "    for e in range(num_edges):\n",
    "        percent_on_express[(e, 'el')] = sum(y_agg[(e, 0, t, 'el')] for t in range(T)) \\\n",
    "                                        / sum(y_agg[(e, k, t, 'el')] for k in range(2) for t in range(T))\n",
    "        percent_on_express[(e, 'in')] = sum(y_agg[(e, 0, t, 'in')] for t in range(T)) \\\n",
    "                                        / sum(y_agg[(e, k, t, 'in')] for k in range(2) for t in range(T))\n",
    "        percent_on_express[(e, 'all')] = sum(y_agg[(e, 0, t, 'el')] + y_agg[(e, 0, t, 'in')] for t in range(T)) \\\n",
    "                                        / sum(y_agg[(e, k, t, 'el')] + y_agg[(e, k, t, 'in')] for k in range(2) for t in range(T))\n",
    "    \n",
    "    percent_on_express['el'] = sum(y_agg[(e, 0, t, 'el')] for e in range(num_edges) for t in range(T)) \\\n",
    "                                    / sum(y_agg[(e, k, t, 'el')] for e in range(num_edges) for k in range(2) for t in range(T))\n",
    "    percent_on_express['in'] = sum(y_agg[(e, 0, t, 'in')] for e in range(num_edges) for t in range(T)) \\\n",
    "                                    / sum(y_agg[(e, k, t, 'in')] for e in range(num_edges) for k in range(2) for t in range(T))\n",
    "    percent_on_express['all'] = sum(y_agg[(e, 0, t, 'el')] + y_agg[(e, 0, t, 'in')] for e in range(num_edges) for t in range(T)) \\\n",
    "                                    / sum(y_agg[(e, k, t, 'el')] + y_agg[(e, k, t, 'in')] for e in range(num_edges) for k in range(2) for t in range(T))\n",
    "    \n",
    "    return percent_on_express\n",
    "\n",
    "def compute_obj_CBCP(y, x, travel_times, VoT_array, tau, edge_to_od_dict, lambda_list, num_edges, T):\n",
    "    obj = {}\n",
    "    \n",
    "    lambda_E, lambda_R, lambda_I = lambda_list\n",
    "    \n",
    "    for e in range(num_edges):\n",
    "        obj[(e, 'E')] = sum( y[(od, g, e, k, t)] * VoT_array[od, g, t] * travel_times[(e, k, t)] \\\n",
    "                            for od in edge_to_od_dict[e] for g in el_indices for k in range(2) for t in range(T) )\n",
    "\n",
    "        obj[(e, 'I')] = sum( y[(od, g, e, 0, t)] * (VoT_array[od, g, t] * travel_times[e, 0, t] + tau[e, t]) \\\n",
    "                            for od in edge_to_od_dict[e] for g in in_indices for t in range(T) ) \\\n",
    "                        + sum( y[(od, g, e, 1, t)] * VoT_array[od, g, t] * travel_times[e, 1, t] \\\n",
    "                            for od in edge_to_od_dict[e] for g in in_indices for t in range(T) )\n",
    "\n",
    "        obj[(e, 'R')] = sum( y[(od, g, e, 0, t)] * tau[e, t] \\\n",
    "                        for od in edge_to_od_dict[e] for g in in_indices for t in range(T) )\n",
    "\n",
    "        obj[e] = lambda_E * obj[(e, 'E')] - lambda_R * obj[(e, 'R')] + lambda_I * obj[(e, 'I')]  \n",
    "    \n",
    "    obj['total'] = sum([obj[e] for e in range(num_edges)])\n",
    "    \n",
    "    return obj\n"
   ]
  },
  {
   "cell_type": "code",
   "execution_count": null,
   "id": "2f5efef1",
   "metadata": {},
   "outputs": [],
   "source": [
    "y_agg_CBCP_opt, x_CBCP_opt \\\n",
    "    = compute_y_agg_x(y = y_CBCP_opt, \\\n",
    "                      edge_to_od_dict = edge_to_od_dict,\\\n",
    "                      num_edges = num_edges, \\\n",
    "                      T = T)\n",
    "\n",
    "travel_times_CBCP_opt, avg_travel_times_CBCP_opt \\\n",
    "    = compute_travel_times(y_agg = y_agg_CBCP_opt, \\\n",
    "                           x = x_CBCP_opt, \\\n",
    "                           edge_to_od_dict = edge_to_od_dict,\\\n",
    "                           coeff_input = coeff_input, \\\n",
    "                           num_gp_lanes = num_gp_lanes,\\\n",
    "                           num_edges = num_edges, \\\n",
    "                           T = T)\n",
    "\n",
    "percent_on_express_CBCP_opt \\\n",
    "    = compute_percent_on_express(y_agg = y_agg_CBCP_opt,\\\n",
    "                                 x = x_CBCP_opt, \\\n",
    "                                 num_edges = num_edges, \\\n",
    "                                 T = T)\n",
    "\n",
    "lambda_list = [lambda_E, lambda_R, lambda_I]\n",
    "obj_CBCP_opt \\\n",
    "    = compute_obj_CBCP(y = y_CBCP_opt, \\\n",
    "                       x = x_CBCP_opt, \\\n",
    "                       travel_times = travel_times_CBCP_opt, \\\n",
    "                       VoT_array = VoT_array, \\\n",
    "                       tau = argmin_tau, \\\n",
    "                       edge_to_od_dict = edge_to_od_dict, \\\n",
    "                       lambda_list = lambda_list, \\\n",
    "                       num_edges = num_edges, \\\n",
    "                       T = T)\n"
   ]
  },
  {
   "cell_type": "code",
   "execution_count": null,
   "id": "f117f00f",
   "metadata": {},
   "outputs": [],
   "source": [
    "# y_CBCP_opt"
   ]
  },
  {
   "cell_type": "code",
   "execution_count": null,
   "id": "c0d8e9b8",
   "metadata": {
    "scrolled": true
   },
   "outputs": [],
   "source": [
    "# y_agg_CBCP_opt\n",
    "# x_CBCP_opt\n",
    "\n",
    "# travel_times_CBCP_opt\n",
    "# avg_travel_times_CBCP_opt\n",
    "# percent_on_express_CBCP\n",
    "obj_CBCP_opt\n"
   ]
  },
  {
   "cell_type": "code",
   "execution_count": null,
   "id": "9cdbb29a",
   "metadata": {},
   "outputs": [],
   "source": []
  },
  {
   "cell_type": "code",
   "execution_count": null,
   "id": "eb20c9d5",
   "metadata": {},
   "outputs": [],
   "source": [
    "## For reference, from above:\n",
    "\n",
    "# compute_y_agg_x_CBCP(y, edge_to_od_dict, num_edges, T)\n",
    "# compute_travel_times_CBCP(y_agg, x, edge_to_od_dict, coeff_input, num_gp_lanes, num_edges, T)\n",
    "# compute_percent_on_express_CBCP(y_agg, x, num_edges, T)\n",
    "# compute_obj_CBCP(y, x, travel_times, VoT_array, tau, edge_to_od_dict, lambda_list, num_edges, T)\n"
   ]
  },
  {
   "cell_type": "code",
   "execution_count": null,
   "id": "e6eb6e38",
   "metadata": {},
   "outputs": [],
   "source": []
  },
  {
   "cell_type": "markdown",
   "id": "5ab86cff",
   "metadata": {},
   "source": [
    "## Store into opt data array:"
   ]
  },
  {
   "cell_type": "code",
   "execution_count": null,
   "id": "77434309",
   "metadata": {},
   "outputs": [],
   "source": [
    "opt_data_array = np.zeros((num_edges, 16))\n",
    "\n",
    "# argmin_tau\n",
    "opt_data_array[:, 0:5] = argmin_tau\n",
    "\n",
    "# argmin_tau_avg\n",
    "opt_data_array[:, 5] = np.mean(argmin_tau, axis=1)\n",
    "\n",
    "# argmin_B (as array)\n",
    "opt_data_array[:, 6] = argmin_B * np.eye(1, num_edges, 0)\n",
    "\n",
    "# percent_on_express (overall)\n",
    "# percent_on_express (eligible)\n",
    "# percent_on_express (ineligible)\n",
    "opt_data_array[:, 7] = np.array([percent_on_express_CBCP_opt[e, 'all'] for e in range(num_edges)]) * 100\n",
    "opt_data_array[:, 8] = np.array([percent_on_express_CBCP_opt[e, 'el'] for e in range(num_edges)]) * 100\n",
    "opt_data_array[:, 9] = np.array([percent_on_express_CBCP_opt[e, 'in'] for e in range(num_edges)]) * 100\n",
    "\n",
    "# avg_travel_time (express lane)\n",
    "# avg_travel_time (general purpose lane)\n",
    "opt_data_array[:, 10] = np.array([avg_travel_times_CBCP_opt[(e, 'ex')] for e in range(num_edges)])\n",
    "opt_data_array[:, 11] = np.array([avg_travel_times_CBCP_opt[(e, 'gp')] for e in range(num_edges)])\n",
    "\n",
    "# obj_E = {}\n",
    "# obj_I = {}\n",
    "# obj_R = {}\n",
    "# obj\n",
    "opt_data_array[:, 12] = np.array([obj_CBCP_opt[(e, 'E')] for e in range(num_edges)]) \n",
    "opt_data_array[:, 13] = np.array([obj_CBCP_opt[(e, 'I')] for e in range(num_edges)]) \n",
    "opt_data_array[:, 14] = np.array([obj_CBCP_opt[(e, 'R')] for e in range(num_edges)]) \n",
    "opt_data_array[:, 15] = np.array([obj_CBCP_opt[e] for e in range(num_edges)]) \n",
    "\n",
    "\n",
    "opt_data_array = np.round(opt_data_array, decimals=2)"
   ]
  },
  {
   "cell_type": "code",
   "execution_count": null,
   "id": "f593ace8",
   "metadata": {
    "scrolled": true
   },
   "outputs": [],
   "source": [
    "column_names = []\n",
    "column_names += [\"tau (t=\" + str(t+1) + \")\" for t in range(T) ]\n",
    "column_names += [\"tau (time-averaged)\", \\\n",
    "                 \"B\", \\\n",
    "                 \"% overall users using express lanes\", \\\n",
    "                 \"% eligible users using express lanes\", \\\n",
    "                 \"% ineligible users using express lanes\", \\\n",
    "                 \"Average travel time (express lanes)\", \\\n",
    "                 \"Average travel time (general purpose lanes)\", \\\n",
    "                 \"Total travel cost (eligible users)\", \\\n",
    "                 \"Total travel cost (ineligible users)\", \\\n",
    "                 \"Total toll revenue\", \\\n",
    "                 \"Total societal cost\"]\n",
    "\n",
    "row_names = [\"e=\" + str(k+1) for k in range(num_edges) ]\n",
    "\n",
    "df_opt_save = pd.DataFrame(opt_data_array, index=row_names, columns=column_names)\n",
    "\n",
    "df_opt_save"
   ]
  },
  {
   "cell_type": "code",
   "execution_count": null,
   "id": "68ec478d",
   "metadata": {},
   "outputs": [],
   "source": [
    "# random_string = \"\"\n",
    "# for idx_rand_str in range(10):\n",
    "#     random_string += str(np.random.randint(1, 9))\n",
    "\n",
    "# directory_to_save = \"../data/old___opt_tolls_subsidies_metrics/\"\n",
    "# random_filename = \"opt_CBCP_params___\" + random_string + '.csv'\n",
    "\n",
    "# df_opt_save.to_csv(directory_to_save + random_filename)"
   ]
  },
  {
   "cell_type": "code",
   "execution_count": null,
   "id": "3523fc66",
   "metadata": {},
   "outputs": [],
   "source": [
    "# random_string"
   ]
  },
  {
   "cell_type": "code",
   "execution_count": null,
   "id": "b269bd51",
   "metadata": {},
   "outputs": [],
   "source": []
  },
  {
   "cell_type": "markdown",
   "id": "9d63f7e7",
   "metadata": {},
   "source": [
    "## Initialize DBCP flows"
   ]
  },
  {
   "cell_type": "code",
   "execution_count": null,
   "id": "075b5fb1",
   "metadata": {},
   "outputs": [],
   "source": [
    "# Function for transforming arrays of size (n, ) into arrays of size (n, 1)\n",
    "\n",
    "def pad_dim(arr_or_list):\n",
    "    arr = np.array(arr_or_list)\n",
    "    assert len(arr.shape) == 1, \"We must have len(arr.shape) == 1 to proceed\"\n",
    "    arr_len = arr.shape[0]\n",
    "    return arr.reshape((arr_len, 1))\n",
    "\n",
    "# Function for filling a vector from the bottom up to some value:\n",
    "\n",
    "def fill_from_bottom(arr_or_list, val):\n",
    "    arr = np.array(arr_or_list)\n",
    "    assert np.all(arr >= -1E-3), \"We must have all entries of arr >= 0.0.\"\n",
    "    assert val >= -1E-3, \"We must have val >= 0.0.\"\n",
    "    \n",
    "    arr_fill_from_bottom = np.zeros(arr.shape)\n",
    "    \n",
    "    index_boundary = max([index for index in range(arr.shape[0]) if np.sum(arr[index:]) >= val])\n",
    "    \n",
    "    for index in range(arr.shape[0]):\n",
    "        if index > index_boundary:\n",
    "            arr_fill_from_bottom[index] = arr[index]\n",
    "        elif index < index_boundary:\n",
    "            arr_fill_from_bottom[index] = 0.0\n",
    "        else:\n",
    "            arr_fill_from_bottom[index] = arr[index_boundary] - (np.sum(arr[index_boundary:]) - val)\n",
    "        assert arr_fill_from_bottom[index] >= 0.0, \"We must have arr_fill_from_bottom[index] >= 0.0\"\n",
    "\n",
    "    assert abs(np.sum(arr_fill_from_bottom) - val) <= 1E-3, \\\n",
    "        \"We must have np.sum(arr_fill_from_bottom) == val\"\n",
    "    \n",
    "    return arr_fill_from_bottom, index_boundary\n",
    "\n"
   ]
  },
  {
   "cell_type": "code",
   "execution_count": null,
   "id": "830567c8",
   "metadata": {},
   "outputs": [],
   "source": []
  },
  {
   "cell_type": "code",
   "execution_count": null,
   "id": "47b237ec",
   "metadata": {},
   "outputs": [],
   "source": [
    "# dict_VoTs_demands_annotated = {}\n",
    "\n",
    "# directory_path = \"../data/VoTs_demands_sorted/\"\n",
    "\n",
    "# e, t = 0, 0\n",
    "# filename_in = str(e) + \"_\" + str(t) + \"_\" + \"in.csv\"\n",
    "# df_data_in = pd.read_csv(directory_path + filename_in)\n",
    "# dict_VoTs_demands_annotated[(e, t, \"in\")] = df_data_in.to_numpy()\n",
    "\n",
    "# dict_VoTs_demands_annotated[(e, t, \"in\")]"
   ]
  },
  {
   "cell_type": "code",
   "execution_count": null,
   "id": "f39e2276",
   "metadata": {},
   "outputs": [],
   "source": [
    "start_time = time.time()\n",
    "\n",
    "dict_VoTs_demands_annotated = {}\n",
    "\n",
    "directory_path = \"../data/VoTs_demands_sorted/\"\n",
    "\n",
    "for e in range(num_edges):\n",
    "    for t in range(T):\n",
    "        \n",
    "        # Ineligible users:\n",
    "        \n",
    "        filename_in = str(e) + \"_\" + str(t) + \"_\" + \"in.csv\"\n",
    "        df_data_in = pd.read_csv(directory_path + filename_in)\n",
    "        dict_VoTs_demands_annotated[(e, t, \"in\")] = df_data_in.to_numpy()\n",
    "        \n",
    "        # Eligible users:\n",
    "        \n",
    "        filename_el = str(e) + \"_\" + str(t) + \"_\" + \"el.csv\"\n",
    "        df_data_el = pd.read_csv(directory_path + filename_el)\n",
    "        dict_VoTs_demands_annotated[(e, t, \"el\")] = df_data_el.to_numpy()\n",
    "\n",
    "end_time = time.time()\n",
    "print(\"Time:\", end_time - start_time)"
   ]
  },
  {
   "cell_type": "code",
   "execution_count": null,
   "id": "41d78972",
   "metadata": {},
   "outputs": [],
   "source": [
    "# dict_VoTs_demands_annotated"
   ]
  },
  {
   "cell_type": "code",
   "execution_count": null,
   "id": "c83e6dd8",
   "metadata": {},
   "outputs": [],
   "source": [
    "y_DBCP_init = {}\n",
    "init_alpha = np.zeros((num_edges, T))\n",
    "VoT_in_boundary = np.zeros((num_edges, T))\n",
    "VoT_el_boundary = np.zeros((num_edges, T))\n",
    "\n",
    "for e in range(num_edges):\n",
    "    for t in range(T):\n",
    "        \n",
    "        ## Ineligible user flows:\n",
    "        \n",
    "        VoTs_demands_annotated_in = dict_VoTs_demands_annotated[(e, t, \"in\")]        \n",
    "        demands_annotated_in_ex_DBCP, index_VoT_in_boundary \\\n",
    "            = fill_from_bottom(VoTs_demands_annotated_in[:, 1], y_agg_CBCP_opt[(e, 0, t, 'in')])\n",
    "        demands_annotated_in_gp_DBCP \\\n",
    "            = VoTs_demands_annotated_in[:, 1] - demands_annotated_in_ex_DBCP\n",
    "        \n",
    "        assert np.all(demands_annotated_in_ex_DBCP) >= 0.0, \"We must have demands_annotated_in_ex_DBCP >= 0.0\"\n",
    "        assert np.all(demands_annotated_in_gp_DBCP) >= 0.0, \"We must have demands_annotated_in_gp_DBCP >= 0.0\"\n",
    "        \n",
    "        for row_index in range(VoTs_demands_annotated_in.shape[0]):\n",
    "            od, g = VoTs_demands_annotated_in[row_index, 2:]\n",
    "            od, g = int(od), int(g)\n",
    "            y_DBCP_init[(od, g, e, 0, t)] = demands_annotated_in_ex_DBCP[row_index]\n",
    "            y_DBCP_init[(od, g, e, 1, t)] = demands_annotated_in_gp_DBCP[row_index]\n",
    "        \n",
    "        ## Eligible user flows:\n",
    "        \n",
    "        VoTs_demands_annotated_el = dict_VoTs_demands_annotated[(e, t, \"el\")]        \n",
    "        demands_annotated_el_ex_DBCP, index_VoT_el_boundary \\\n",
    "            = fill_from_bottom(VoTs_demands_annotated_el[:, 1], y_agg_CBCP_opt[(e, 0, t, 'el')])\n",
    "        demands_annotated_el_gp_DBCP \\\n",
    "            = VoTs_demands_annotated_el[:, 1] - demands_annotated_el_ex_DBCP\n",
    "        \n",
    "        assert np.all(demands_annotated_el_ex_DBCP) >= 0.0, \"We must have demands_annotated_el_ex_DBCP >= 0.0\"\n",
    "        assert np.all(demands_annotated_el_gp_DBCP) >= 0.0, \"We must have demands_annotated_el_gp_DBCP >= 0.0\"\n",
    "        \n",
    "        for row_index in range(VoTs_demands_annotated_el.shape[0]):\n",
    "            od, g = VoTs_demands_annotated_el[row_index, 2:]\n",
    "            od, g = int(od), int(g)\n",
    "            y_DBCP_init[(od, g, e, 0, t)] = demands_annotated_el_ex_DBCP[row_index]\n",
    "            y_DBCP_init[(od, g, e, 1, t)] = demands_annotated_el_gp_DBCP[row_index]\n",
    "            \n",
    "        ## Compute alpha:\n",
    "        \n",
    "        VoT_in_boundary[e, t] = VoTs_demands_annotated_in[index_VoT_in_boundary, 0]\n",
    "        VoT_el_boundary[e, t] = VoTs_demands_annotated_el[index_VoT_el_boundary, 0]\n",
    "        init_alpha[e, t] = 1 - VoT_el_boundary[e, t] / VoT_in_boundary[e, t]\n",
    "        \n",
    "        assert 0.0 <= init_alpha[e, t] <= 1.0, \"We must have 0.0 <= init_alpha[e, t] <= 1.0.\"\n",
    "        \n",
    "        # y_agg_CBCP_opt[(e, 0, t, 'el')]\n",
    "    "
   ]
  },
  {
   "cell_type": "code",
   "execution_count": null,
   "id": "0656aece",
   "metadata": {},
   "outputs": [],
   "source": [
    "# list(init_DBCP_flows.keys())\n",
    "# list(y_CBCP_opt.keys())\n",
    "\n",
    "# y_DBCP_init"
   ]
  },
  {
   "cell_type": "code",
   "execution_count": null,
   "id": "f1f337c5",
   "metadata": {},
   "outputs": [],
   "source": [
    "# demand_array.shape\n",
    "# VoT_array.shape"
   ]
  },
  {
   "cell_type": "markdown",
   "id": "1b688f2e",
   "metadata": {},
   "source": [
    "##  <font color='red'>To edit below (June 25)</font> "
   ]
  },
  {
   "cell_type": "code",
   "execution_count": null,
   "id": "81ce3156",
   "metadata": {},
   "outputs": [],
   "source": [
    "def flow_boundary_toggle_setup(y, demand_array, VoT_array, el_indices, in_indices, \\\n",
    "                               VoT_el_boundary, VoT_in_boundary, T):\n",
    "    \n",
    "    # TODO\n",
    "    \n",
    "    return \n"
   ]
  },
  {
   "cell_type": "code",
   "execution_count": null,
   "id": "d9a9c450",
   "metadata": {},
   "outputs": [],
   "source": [
    "# TODO: Test the following definitions in the for loops to record boundary flow, VoT and demand information:\n",
    "\n",
    "flow_boundary_to_toggle = {}\n",
    "flow_boundary_el_ex_low = np.zeros((num_edges, T))\n",
    "flow_boundary_el_ex_high = np.zeros((num_edges, T))\n",
    "\n",
    "flow_el_at_boundary_VoT = np.zeros((num_edges, T))\n",
    "flow_in_at_boundary_VoT = np.zeros((num_edges, T))\n",
    "demand_el_at_boundary_VoT = np.zeros((num_edges, T))\n",
    "demand_in_at_boundary_VoT = np.zeros((num_edges, T))\n",
    "flow_el_above_boundary_VoT = np.zeros((num_edges, T))\n",
    "flow_in_above_boundary_VoT = np.zeros((num_edges, T))\n",
    "flow_at_boundary_VoT = np.zeros((num_edges, T))\n",
    "\n",
    "for e in range(num_edges):\n",
    "    for t in range(T):\n",
    "#         print()\n",
    "#         print(\"e:\", e)\n",
    "#         print(\"t:\", t)\n",
    "#         print()\n",
    "\n",
    "        flow_el_at_boundary_VoT[e, t] \\\n",
    "            = sum([y_DBCP_init[(od, g, e, 0, t)] for od in edge_to_od_dict[e] for g in el_indices \\\n",
    "                   if abs(VoT_array[od, g, t] - VoT_el_boundary[e, t]) <= 1E-3])\n",
    "        flow_in_at_boundary_VoT[e, t] \\\n",
    "            = sum([y_DBCP_init[(od, g, e, 0, t)] for od in edge_to_od_dict[e] for g in in_indices \\\n",
    "                   if abs(VoT_array[od, g, t] - VoT_in_boundary[e, t]) <= 1E-3])\n",
    "        \n",
    "        demand_el_at_boundary_VoT[e, t] \\\n",
    "            = sum([demand_array[od, g] for od in edge_to_od_dict[e] for g in el_indices \\\n",
    "                   if abs(VoT_array[od, g, t] - VoT_el_boundary[e, t]) <= 1E-3])\n",
    "        demand_in_at_boundary_VoT[e, t] \\\n",
    "            = sum([demand_array[od, g] for od in edge_to_od_dict[e] for g in in_indices \\\n",
    "                   if abs(VoT_array[od, g, t] - VoT_in_boundary[e, t]) <= 1E-3])\n",
    "        \n",
    "        if abs(flow_el_at_boundary_VoT[e, t] - demand_el_at_boundary_VoT[e, t]) <= 1E-3 and \\\n",
    "                abs(flow_in_at_boundary_VoT[e, t] - demand_in_at_boundary_VoT[e, t]) <= 1E-3:\n",
    "            flow_boundary_to_toggle[(e, t)] = False\n",
    "        else:\n",
    "            flow_boundary_to_toggle[(e, t)] = True\n",
    "        \n",
    "        flow_el_above_boundary_VoT[e, t] \\\n",
    "            = sum([y_DBCP_init[(od, g, e, 0, t)] for od in edge_to_od_dict[e] for g in el_indices \\\n",
    "                   if VoT_array[od, g, t] > VoT_el_boundary[e, t] + 1E-3])\n",
    "        \n",
    "        flow_in_above_boundary_VoT[e, t] \\\n",
    "            = sum([y_DBCP_init[(od, g, e, 0, t)] for od in edge_to_od_dict[e] for g in in_indices \\\n",
    "                   if VoT_array[od, g, t] > VoT_in_boundary[e, t] + 1E-3])\n",
    "        \n",
    "        demand_el_above_boundary_VoT \\\n",
    "            = sum([demand_array[od, g] for od in edge_to_od_dict[e] for g in el_indices \\\n",
    "                   if VoT_array[od, g, t] > VoT_el_boundary[e, t] + 1E-3])\n",
    "        demand_in_above_boundary_VoT \\\n",
    "            = sum([demand_array[od, g] for od in edge_to_od_dict[e] for g in in_indices \\\n",
    "                   if VoT_array[od, g, t] > VoT_in_boundary[e, t] + 1E-3])\n",
    "        \n",
    "        # print(\"flow_el_above_boundary_VoT[e, t]:\", flow_el_above_boundary_VoT[e, t])\n",
    "        # print(\"demand_el_above_boundary_VoT:\", demand_el_above_boundary_VoT)\n",
    "        # print(\"flow_in_above_boundary_VoT[e, t]:\", flow_in_above_boundary_VoT[e, t])\n",
    "        # print(\"demand_in_above_boundary_VoT:\", demand_in_above_boundary_VoT)\n",
    "        \n",
    "        flow_at_boundary_VoT[e, t] \\\n",
    "            = sum([y_DBCP_init[(od, g, e, 0, t)] for od in edge_to_od_dict[e] for g in el_indices \\\n",
    "                   if abs(VoT_array[od, g, t] - VoT_el_boundary[e, t]) <= 1E-3]) \\\n",
    "                + sum([y_DBCP_init[(od, g, e, 0, t)] for od in edge_to_od_dict[e] for g in in_indices \\\n",
    "                       if abs(VoT_array[od, g, t] - VoT_in_boundary[e, t]) <= 1E-3])\n",
    "        \n",
    "        flow_boundary_el_ex_low[e, t] = demand_el_above_boundary_VoT \\\n",
    "            + max(flow_el_at_boundary_VoT[e, t] + flow_in_at_boundary_VoT[e, t] - demand_in_at_boundary_VoT[e, t], 0.0)\n",
    "\n",
    "        flow_boundary_el_ex_high[e, t] = demand_el_above_boundary_VoT \\\n",
    "            + min(flow_el_at_boundary_VoT[e, t] + flow_in_at_boundary_VoT[e, t], demand_el_at_boundary_VoT[e, t])\n",
    "        \n",
    "#         flow_boundary_el_ex_high = \n",
    "\n",
    "        \n",
    "#         assert abs(flow_el_above_boundary_VoT[e, t] - demand_el_above_boundary_VoT) <= 1E-3, \\\n",
    "#             \"We should have flow_el_above_boundary_VoT[e, t] = demand_el_above_boundary_VoT\"\n",
    "        \n",
    "#         assert abs(flow_in_above_boundary_VoT[e, t] - demand_in_above_boundary_VoT) <= 1E-3, \\\n",
    "#             \"We should have flow_in_above_boundary_VoT[e, t] = demand_in_above_boundary_VoT\"\n",
    "        \n",
    "        \n",
    "#         assert 1 == 0"
   ]
  },
  {
   "cell_type": "code",
   "execution_count": null,
   "id": "6abee8b2",
   "metadata": {},
   "outputs": [],
   "source": []
  },
  {
   "cell_type": "code",
   "execution_count": null,
   "id": "01dfabcd",
   "metadata": {},
   "outputs": [],
   "source": []
  },
  {
   "cell_type": "code",
   "execution_count": null,
   "id": "60f315f3",
   "metadata": {},
   "outputs": [],
   "source": []
  },
  {
   "cell_type": "markdown",
   "id": "be60f60a",
   "metadata": {},
   "source": [
    "## Check if DBCP initialization outperforms CBCP"
   ]
  },
  {
   "cell_type": "code",
   "execution_count": null,
   "id": "9a3acbf4",
   "metadata": {},
   "outputs": [],
   "source": [
    "def compute_obj_DBCP(y, x, travel_times, VoT_array, tau, alpha, edge_to_od_dict, lambda_list, num_edges, T):\n",
    "    obj = {}\n",
    "    \n",
    "    lambda_E, lambda_R, lambda_I = lambda_list\n",
    "    \n",
    "    for e in range(num_edges):\n",
    "        obj[(e, 'E')] = sum( y[(od, g, e, 0, t)] * (VoT_array[od, g, t] * travel_times[e, 0, t] + (1 - alpha[e, t]) * tau[e, t]) \\\n",
    "                            for od in edge_to_od_dict[e] for g in el_indices for t in range(T) ) \\\n",
    "                        + sum( y[(od, g, e, 1, t)] * VoT_array[od, g, t] * travel_times[e, 1, t] \\\n",
    "                            for od in edge_to_od_dict[e] for g in el_indices for t in range(T) )\n",
    "\n",
    "        obj[(e, 'I')] = sum( y[(od, g, e, 0, t)] * (VoT_array[od, g, t] * travel_times[e, 0, t] + tau[e, t]) \\\n",
    "                            for od in edge_to_od_dict[e] for g in in_indices for t in range(T) ) \\\n",
    "                        + sum( y[(od, g, e, 1, t)] * VoT_array[od, g, t] * travel_times[e, 1, t] \\\n",
    "                            for od in edge_to_od_dict[e] for g in in_indices for t in range(T) )\n",
    "\n",
    "        obj[(e, 'R')] = sum( y[(od, g, e, 0, t)] * (1 - alpha[e, t]) * tau[e, t] \\\n",
    "                            for od in edge_to_od_dict[e] for g in el_indices for t in range(T) ) \\\n",
    "                        + sum( y[(od, g, e, 0, t)] * tau[e, t] \\\n",
    "                            for od in edge_to_od_dict[e] for g in in_indices for t in range(T) )\n",
    "\n",
    "        obj[e] = lambda_E * obj[(e, 'E')] - lambda_R * obj[(e, 'R')] + lambda_I * obj[(e, 'I')]  \n",
    "    \n",
    "    obj['total'] = sum([obj[e] for e in range(num_edges)])\n",
    "    \n",
    "    return obj"
   ]
  },
  {
   "cell_type": "code",
   "execution_count": null,
   "id": "344ae8ec",
   "metadata": {
    "scrolled": true
   },
   "outputs": [],
   "source": [
    "# Compute aggregate flows and other characteristics\n",
    "\n",
    "y_agg_DBCP_init, x_DBCP_init \\\n",
    "    = compute_y_agg_x(y = y_DBCP_init, \\\n",
    "                      edge_to_od_dict = edge_to_od_dict,\\\n",
    "                      num_edges = num_edges, \\\n",
    "                      T = T)\n",
    "\n",
    "travel_times_DBCP_init, avg_travel_times_DBCP_init \\\n",
    "    = compute_travel_times(y_agg = y_agg_DBCP_init, \\\n",
    "                           x = x_DBCP_init, \\\n",
    "                           edge_to_od_dict = edge_to_od_dict,\\\n",
    "                           coeff_input = coeff_input, \\\n",
    "                           num_gp_lanes = num_gp_lanes,\\\n",
    "                           num_edges = num_edges, \\\n",
    "                           T = T)\n",
    "\n",
    "percent_on_express_DBCP_init \\\n",
    "    = compute_percent_on_express(y_agg = y_agg_DBCP_init,\\\n",
    "                                 x = x_DBCP_init, \\\n",
    "                                 num_edges = num_edges, \\\n",
    "                                 T = T)\n",
    "\n",
    "lambda_list = [lambda_E, lambda_R, lambda_I]\n",
    "obj_DBCP_init \\\n",
    "    = compute_obj_DBCP(y = y_DBCP_init, \\\n",
    "                       x = x_DBCP_init, \\\n",
    "                       travel_times = travel_times_DBCP_init, \\\n",
    "                       VoT_array = VoT_array, \\\n",
    "                       tau = argmin_tau, \\\n",
    "                       alpha = init_alpha, \\\n",
    "                       edge_to_od_dict = edge_to_od_dict, \\\n",
    "                       lambda_list = lambda_list, \\\n",
    "                       num_edges = num_edges, \\\n",
    "                       T = T)\n",
    "\n",
    "\n",
    "# print(\"percent_on_express_DBCP_init:\\n\", percent_on_express_DBCP_init)\n",
    "\n",
    "obj_DBCP_init"
   ]
  },
  {
   "cell_type": "code",
   "execution_count": null,
   "id": "6e40e883",
   "metadata": {
    "scrolled": true
   },
   "outputs": [],
   "source": [
    "obj_CBCP_opt"
   ]
  },
  {
   "cell_type": "code",
   "execution_count": null,
   "id": "1aa16e80",
   "metadata": {},
   "outputs": [],
   "source": []
  },
  {
   "cell_type": "code",
   "execution_count": null,
   "id": "5e219637",
   "metadata": {},
   "outputs": [],
   "source": []
  },
  {
   "cell_type": "code",
   "execution_count": null,
   "id": "284a15da",
   "metadata": {
    "scrolled": true
   },
   "outputs": [],
   "source": [
    "# travel_times_DBCP_init"
   ]
  },
  {
   "cell_type": "code",
   "execution_count": null,
   "id": "a5cfa8ed",
   "metadata": {
    "scrolled": false
   },
   "outputs": [],
   "source": [
    "# travel_times_CBCP_opt"
   ]
  },
  {
   "cell_type": "code",
   "execution_count": null,
   "id": "c2f35fad",
   "metadata": {},
   "outputs": [],
   "source": []
  },
  {
   "cell_type": "code",
   "execution_count": null,
   "id": "c6ec0b4a",
   "metadata": {},
   "outputs": [],
   "source": []
  },
  {
   "cell_type": "code",
   "execution_count": null,
   "id": "1d5b49fa",
   "metadata": {},
   "outputs": [],
   "source": []
  },
  {
   "cell_type": "code",
   "execution_count": null,
   "id": "659de1f4",
   "metadata": {},
   "outputs": [],
   "source": [
    "# list_1 = [1, 2, 3]\n",
    "# list_2 = [2, 3, 4]\n",
    "\n",
    "# [x for x in list_1 if x not in list_2]\n"
   ]
  },
  {
   "cell_type": "code",
   "execution_count": null,
   "id": "ef19ae50",
   "metadata": {},
   "outputs": [],
   "source": [
    "edge_to_od_dict"
   ]
  },
  {
   "cell_type": "code",
   "execution_count": null,
   "id": "a3b3bba7",
   "metadata": {},
   "outputs": [],
   "source": []
  },
  {
   "cell_type": "code",
   "execution_count": null,
   "id": "6ae6ee40",
   "metadata": {},
   "outputs": [],
   "source": [
    "# init_DBCP_key_list_comp = [(od, g, e, k, t) for e in range(num_edges) for t in range(T) \\\n",
    "#                               for k in [0, 1] for g in (el_indices + in_indices) for od in edge_to_od_dict[e]]\n",
    "\n",
    "# list(init_DBCP_flows.keys()) == init_DBCP_key_list_comp\n",
    "\n",
    "# keys_missing_init_DBCP_flows = [key for key in list(init_DBCP_flows.keys()) \\\n",
    "#                                 if key not in init_DBCP_key_list_comp]\n",
    "# keys_extra_init_DBCP_flows = [key for key in init_DBCP_key_list_comp \\\n",
    "#                                 if key not in list(init_DBCP_flows.keys())]\n",
    "\n",
    "# print(\"keys_missing_init_DBCP_flows:\", keys_missing_init_DBCP_flows)\n",
    "# print(\"\\n\")\n",
    "# print(\"keys_extra_init_DBCP_flows:\", keys_extra_init_DBCP_flows)"
   ]
  },
  {
   "cell_type": "code",
   "execution_count": null,
   "id": "795f2310",
   "metadata": {},
   "outputs": [],
   "source": []
  },
  {
   "cell_type": "code",
   "execution_count": null,
   "id": "50db8431",
   "metadata": {},
   "outputs": [],
   "source": [
    "y_in_el_total_init_DBCP = {}\n",
    "x_init_DBCP = {}\n",
    "\n",
    "for e in range(num_edges):\n",
    "    for t in range(T):\n",
    "        for k in [0, 1]:\n",
    "            y_in_el_total_init_DBCP[(e, k, t, \"in\")] \\\n",
    "                = sum(init_DBCP_flows[(od, g, e, k, t)] for od in edge_to_od_dict[e] for g in in_indices)\n",
    "            y_in_el_total_init_DBCP[(e, k, t, \"el\")] \\\n",
    "                = sum(init_DBCP_flows[(od, g, e, k, t)] for od in edge_to_od_dict[e] for g in el_indices)\n",
    "            \n",
    "            x_init_DBCP[(e, k, t)] = y_in_el_total_init_DBCP[(e, k, t, \"in\")] \\\n",
    "                                        + y_in_el_total_init_DBCP[(e, k, t, \"el\")]\n"
   ]
  },
  {
   "cell_type": "code",
   "execution_count": null,
   "id": "e94aee5d",
   "metadata": {},
   "outputs": [],
   "source": [
    "y_init_DBCP"
   ]
  },
  {
   "cell_type": "code",
   "execution_count": null,
   "id": "8748a5f2",
   "metadata": {},
   "outputs": [],
   "source": [
    "y_in_el_total_init_DBCP"
   ]
  },
  {
   "cell_type": "code",
   "execution_count": null,
   "id": "61cb8d8a",
   "metadata": {},
   "outputs": [],
   "source": [
    "x_init_DBCP"
   ]
  },
  {
   "cell_type": "code",
   "execution_count": null,
   "id": "11bc11f8",
   "metadata": {},
   "outputs": [],
   "source": []
  },
  {
   "cell_type": "code",
   "execution_count": null,
   "id": "c380c76f",
   "metadata": {},
   "outputs": [],
   "source": []
  },
  {
   "cell_type": "code",
   "execution_count": null,
   "id": "50b60374",
   "metadata": {},
   "outputs": [],
   "source": [
    "# lambda_R = 1\n",
    "\n",
    "travel_times_DBCP = {}\n",
    "\n",
    "## coeff_input: const, slope, x-coordinate of transition point\n",
    "# coeff_input = np.array([19.4, 0.1256, 0.786*1650]).reshape((3, 1)) @ np.ones((1, num_edges))\n",
    "\n",
    "for e in range(num_edges):\n",
    "    for t in range(T):\n",
    "        travel_times_DBCP[(e, 0, t)] \\\n",
    "            = coeff_input[0, e] + coeff_input[1, e] * max(argmin_x[(e, 0, t)] - coeff_input[2, e], 0.0)\n",
    "        travel_times_DBCP[(e, 1, t)] \\\n",
    "            = coeff_input[0, e] + coeff_input[1, e] * max(argmin_x[(e, 1, t)]/num_gp_lanes - coeff_input[2, e], 0.0)\n",
    "\n",
    "# INCOMPLETE: edit below: \n",
    "        \n",
    "edge_demand_DBCP = {}\n",
    "avg_travel_time_DBCP = {}\n",
    "percent_on_express_DBCP = {}\n",
    "obj_E_DBCP = np.zeros(num_edges)\n",
    "obj_I_DBCP = np.zeros(num_edges)\n",
    "obj_R_DBCP = np.zeros(num_edges)\n",
    "obj_DBCP = np.zeros(num_edges)\n",
    "\n",
    "for e in range(num_edges):\n",
    "    avg_travel_time_DBCP[e, 'el'] = 0.0\n",
    "    avg_travel_time_DBCP[e, 'in'] = 0.0\n",
    "    avg_travel_time_DBCP[e, 'ex'] = 0.0\n",
    "    avg_travel_time_DBCP[e, 'gp'] = 0.0\n",
    "    \n",
    "    percent_on_express_DBCP[e, 'el'] = 0.0\n",
    "    percent_on_express_DBCP[e, 'in'] = 0.0\n",
    "    percent_on_express_DBCP[e, 'all'] = 0.0\n",
    "    \n",
    "    obj_E_DBCP[e] = 0.0\n",
    "    obj_I_DBCP[e] = 0.0\n",
    "    obj_R_DBCP[e] = 0.0\n",
    "    obj_DBCP[e] = 0.0\n",
    "    \n",
    "    for t in range(T):\n",
    "        edge_demand_DBCP[e, t, 'el'] = sum(argmin_y_in_el_total[(e, k, t, 'el')] for k in range(2))\n",
    "        edge_demand_DBCP[e, t, 'in'] = sum(argmin_y_in_el_total[(e, k, t, 'in')] for k in range(2))\n",
    "        \n",
    "    percent_on_express_DBCP[e, 'el'] += sum(argmin_y_in_el_total[(e, 0, t, 'el')] for t in range(T)) \\\n",
    "                                    / sum(edge_demand_DBCP[e, t, 'el'] for t in range(T))\n",
    "    percent_on_express_DBCP[e, 'in'] += sum(argmin_y_in_el_total[(e, 0, t, 'in')] for t in range(T)) \\\n",
    "                                    / sum(edge_demand_DBCP[e, t, 'in'] for t in range(T))\n",
    "    percent_on_express_DBCP[e, 'all'] += sum(argmin_y_in_el_total[(e, 0, t, 'el')] + argmin_y_in_el_total[(e, 0, t, 'in')] for t in range(T)) \\\n",
    "                                    / sum(edge_demand_DBCP[e, t, 'el'] + edge_demand_DBCP[e, t, 'in'] for t in range(T))\n",
    "    \n",
    "    avg_travel_time_DBCP[e, 'el'] += sum(argmin_y_in_el_total[(e, k, t, 'el')] * travel_times_DBCP[(e, k, t)] for k in range(2) for t in range(T)) \\\n",
    "                                    / sum(edge_demand_DBCP[e, t, 'el'] for t in range(T))    \n",
    "    avg_travel_time_DBCP[e, 'in'] += sum(argmin_y_in_el_total[(e, k, t, 'in')] * travel_times_DBCP[(e, k, t)] for k in range(2) for t in range(T)) \\\n",
    "                                    / sum(edge_demand_DBCP[e, t, 'in'] for t in range(T))    \n",
    "#     avg_travel_time_DBCP[e, 'ex'] += sum( (argmin_y_in_el_total[(e, 0, t, 'el')] + argmin_y_in_el_total[(e, 0, t, 'in')]) * travel_times_DBCP[(e, 0, t)] for t in range(T)) \\\n",
    "#                                     / sum( argmin_y_in_el_total[(e, 0, t, 'el')] + argmin_y_in_el_total[(e, 0, t, 'in')] for t in range(T))\n",
    "#     avg_travel_time_DBCP[e, 'gp'] += sum( (argmin_y_in_el_total[(e, 1, t, 'el')] + argmin_y_in_el_total[(e, 1, t, 'in')]) * travel_times_DBCP[(e, 0, t)] for t in range(T)) \\\n",
    "#                                     / sum( argmin_y_in_el_total[(e, 1, t, 'el')] + argmin_y_in_el_total[(e, 1, t, 'in')] for t in range(T))\n",
    "    avg_travel_time_DBCP[e, 'ex'] += sum(travel_times_DBCP[(e, 0, t)] for t in range(T)) / T \n",
    "    avg_travel_time_DBCP[e, 'gp'] += sum(travel_times_DBCP[(e, 1, t)] for t in range(T)) / T \n",
    "    \n",
    "    obj_E_DBCP[e] = sum( y_init_DBCP[(od, g, e, 0, t)] * VoT_array[od, g, t] * travel_times_DBCP[e, 0, t] \\\n",
    "                        for od in edge_to_od_dict[e] for g in el_indices for t in range(T) ) \\\n",
    "                    + sum( y_init_DBCP[(od, g, e, 0, t)] * argmin_tau[e, t] \\\n",
    "                        for od in edge_to_od_dict[e] for g in el_indices for t in range(T) ) * (1 - init_alpha[e, t]) \\\n",
    "                    + sum( y_init_DBCP[(od, g, e, 1, t)] * VoT_array[od, g, t] * travel_times_DBCP[e, 1, t] \\\n",
    "                          for od in edge_to_od_dict[e] for g in el_indices for t in range(T) ) \n",
    "    \n",
    "#                     + sum( y_init_DBCP[(od, g, e, 1, t)] * (VoT_array[od, g, t] * travel_times_DBCP[e, 0, t] + argmin_tau[e, t]) \\\n",
    "#                         for od in edge_to_od_dict[e] for g in el_indices for t in range(T) ) \\\n",
    "\n",
    "    obj_I_DBCP[e] = sum( y_init_DBCP[(od, g, e, 0, t)] * (VoT_array[od, g, t] * travel_times_DBCP[e, 0, t] + argmin_tau[e, t]) \\\n",
    "                        for od in edge_to_od_dict[e] for g in in_indices for t in range(T) ) \\\n",
    "                    + sum( y_init_DBCP[(od, g, e, 1, t)] * VoT_array[od, g, t] * travel_times_DBCP[e, 1, t] \\\n",
    "                        for od in edge_to_od_dict[e] for g in in_indices for t in range(T) )\n",
    "\n",
    "    obj_R_DBCP[e] = sum( y_init_DBCP[(od, g, e, 0, t)] * argmin_tau[e, t] \\\n",
    "                        for od in edge_to_od_dict[e] for g in in_indices for t in range(T) ) \\\n",
    "                    + sum( y_init_DBCP[(od, g, e, 0, t)] * argmin_tau[e, t] \\\n",
    "                        for od in edge_to_od_dict[e] for g in el_indices for t in range(T) ) * (1 - init_alpha[e, t])\n",
    "\n",
    "    obj_DBCP[e] = lambda_E * obj_E_DBCP[e] - lambda_R * obj_R_DBCP[e] + lambda_I * obj_I_DBCP[e]\n",
    "\n",
    "\n",
    "# welfare_obj(T, num_edges, num_gp_lanes, lambda_E, lambda_R, lambda_I, argmin_tau, \\\n",
    "#                 demand_array, VoT_array, num_el, od_to_edges_array, y, \\\n",
    "#                 coeff_input)\n",
    "\n",
    "# avg_travel_time_DBCP\n",
    "# percent_on_express_DBCP\n",
    "# obj_R_DBCP\n",
    "\n",
    "sum(obj_DBCP)"
   ]
  },
  {
   "cell_type": "code",
   "execution_count": null,
   "id": "d982c398",
   "metadata": {},
   "outputs": [],
   "source": []
  },
  {
   "cell_type": "code",
   "execution_count": null,
   "id": "13f93bf7",
   "metadata": {
    "scrolled": true
   },
   "outputs": [],
   "source": [
    "# column_names = []\n",
    "# column_names += [\"tau (t=\" + str(t+1) + \")\" for t in range(T) ]\n",
    "# column_names += [\"alpha (t=\" + str(t+1) + \")\" for t in range(T) ]\n",
    "\n",
    "# row_names = [\"e=\" + str(k+1) for k in range(num_edges) ]\n",
    "\n",
    "# df_inits_save = pd.DataFrame(init_tau_alpha_array, index=row_names, columns=column_names)\n",
    "\n",
    "# # df_inits_save\n",
    "\n",
    "# # random_string = \"\"\n",
    "# # for idx_rand_str in range(10):\n",
    "# #     random_string += str(np.random.randint(1, 9))\n",
    "\n",
    "# directory_to_save = \"../data/old___opt_tolls_subsidies_metrics/\"\n",
    "# random_filename = \"inits___\" + random_string + '.csv'\n",
    "\n",
    "# df_inits_save.to_csv(directory_to_save + random_filename)"
   ]
  },
  {
   "cell_type": "code",
   "execution_count": null,
   "id": "f55700ef",
   "metadata": {},
   "outputs": [],
   "source": []
  },
  {
   "cell_type": "code",
   "execution_count": null,
   "id": "c4963851",
   "metadata": {},
   "outputs": [],
   "source": []
  },
  {
   "cell_type": "code",
   "execution_count": null,
   "id": "0580ef83",
   "metadata": {},
   "outputs": [],
   "source": [
    "print(\"first(welfare_list):\", welfare_list[0])\n",
    "print(\"min(welfare_list):\", min(welfare_list))\n",
    "print(\"max(welfare_list):\", max(welfare_list))\n",
    "print(\"argmin_tau:\", argmin_tau)\n",
    "print(\"argmin_B:\", argmin_B)"
   ]
  },
  {
   "cell_type": "code",
   "execution_count": null,
   "id": "3bbe1f60",
   "metadata": {},
   "outputs": [],
   "source": []
  },
  {
   "cell_type": "code",
   "execution_count": null,
   "id": "84db0a60",
   "metadata": {},
   "outputs": [],
   "source": []
  },
  {
   "cell_type": "markdown",
   "id": "511ac2c6",
   "metadata": {},
   "source": [
    "## Test:"
   ]
  },
  {
   "cell_type": "code",
   "execution_count": null,
   "id": "e377dbf0",
   "metadata": {},
   "outputs": [],
   "source": []
  },
  {
   "cell_type": "markdown",
   "id": "67fc9ddd",
   "metadata": {},
   "source": [
    "## <font color='red'>Colored Font Titles</font> "
   ]
  },
  {
   "cell_type": "code",
   "execution_count": null,
   "id": "21358e22",
   "metadata": {},
   "outputs": [],
   "source": []
  },
  {
   "cell_type": "markdown",
   "id": "0dc84df4",
   "metadata": {},
   "source": [
    "# Scratch Work:"
   ]
  },
  {
   "cell_type": "code",
   "execution_count": null,
   "id": "b8e9a19c",
   "metadata": {},
   "outputs": [],
   "source": [
    "x = cp.Variable(2)\n",
    "y = cp.Variable(2)\n",
    "v_fixed = np.array([0, 1])\n",
    "objective = cp.Minimize(cp.sum_squares(x - y) + cp.sum_squares(x - v_fixed))\n",
    "constraints = []\n",
    "prob = cp.Problem(objective, constraints)\n",
    "\n",
    "# The optimal objective value is returned by `prob.solve()`.\n",
    "result = prob.solve()\n",
    "# The optimal value for x is stored in `x.value`.\n",
    "print(\"x.value:\", x.value)\n",
    "print(\"y.value:\", y.value)\n",
    "print()\n"
   ]
  },
  {
   "cell_type": "markdown",
   "id": "fb8cc25f",
   "metadata": {},
   "source": [
    "## Linear Approximation for Latency Function:"
   ]
  },
  {
   "cell_type": "code",
   "execution_count": null,
   "id": "f330dea3",
   "metadata": {},
   "outputs": [],
   "source": [
    "# Variables:\n",
    "v = cp.Variable(1)\n",
    "            \n",
    "# Objective:\n",
    "func = v - 1 + cp.square(cp.maximum(v-1, 0))\n",
    "objective = cp.Minimize(func)\n",
    "\n",
    "# Constraints:\n",
    "constraints = [-3.0 <= v, v <= 3.0]\n",
    "\n",
    "# Solve problem:\n",
    "prob = cp.Problem(objective, constraints)\n",
    "result = prob.solve()\n",
    "\n",
    "# Print solution:\n",
    "print(\"v.value:\", v.value)\n"
   ]
  },
  {
   "cell_type": "code",
   "execution_count": null,
   "id": "cf4b7479",
   "metadata": {},
   "outputs": [],
   "source": []
  }
 ],
 "metadata": {
  "kernelspec": {
   "display_name": "Python 3 (ipykernel)",
   "language": "python",
   "name": "python3"
  },
  "language_info": {
   "codemirror_mode": {
    "name": "ipython",
    "version": 3
   },
   "file_extension": ".py",
   "mimetype": "text/x-python",
   "name": "python",
   "nbconvert_exporter": "python",
   "pygments_lexer": "ipython3",
   "version": "3.8.13"
  }
 },
 "nbformat": 4,
 "nbformat_minor": 5
}
