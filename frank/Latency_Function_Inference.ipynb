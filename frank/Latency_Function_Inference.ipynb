{
 "cells": [
  {
   "cell_type": "code",
   "execution_count": 1,
   "id": "0fa70965",
   "metadata": {},
   "outputs": [],
   "source": [
    "import numpy as np\n",
    "import scipy as sp\n",
    "\n",
    "import matplotlib.pyplot as plt\n",
    "import matplotlib.axes as axe\n",
    "import pandas as pd\n",
    "import datetime as dt\n",
    "import gurobipy as gp\n",
    "from gurobipy import GRB\n",
    "import cvxpy as cp\n",
    "import yaml\n",
    "\n",
    "import random\n",
    "from itertools import chain, combinations, tee\n",
    "import time\n",
    "\n",
    "import glob\n"
   ]
  },
  {
   "cell_type": "markdown",
   "id": "3f799ba9",
   "metadata": {},
   "source": [
    "# Functions"
   ]
  },
  {
   "cell_type": "code",
   "execution_count": 2,
   "id": "a87615f2",
   "metadata": {},
   "outputs": [],
   "source": [
    "def station_to_city(station_name):\n",
    "    if \"East_Palo_Alto\" in station_name:\n",
    "        city_name = \"East Palo Alto\"\n",
    "    elif \"Palo_Alto\" in station_name:\n",
    "        city_name = \"Palo Alto\"\n",
    "    elif \"Menlo_Park\" in station_name:\n",
    "        city_name = \"Menlo Park\"\n",
    "    elif \"Redwood_City\" in station_name:\n",
    "        city_name = \"Redwood City\"\n",
    "    elif \"Belmont\" in station_name:\n",
    "        city_name = \"Belmont\"\n",
    "    elif \"San_Mateo\" in station_name:\n",
    "        city_name = \"San Mateo\"\n",
    "    elif \"Burlingame\" in station_name:\n",
    "        city_name = \"Burlingame\"\n",
    "    elif \"Millbrae\" in station_name:\n",
    "        city_name = \"Millbrae\"\n",
    "    else:\n",
    "        assert 1 == 0, \"There should be no other case.\"\n",
    "    return city_name"
   ]
  },
  {
   "cell_type": "code",
   "execution_count": null,
   "id": "12f3aee2",
   "metadata": {},
   "outputs": [],
   "source": []
  },
  {
   "cell_type": "markdown",
   "id": "b94c10d8",
   "metadata": {},
   "source": [
    "# Latency Function Inference"
   ]
  },
  {
   "cell_type": "code",
   "execution_count": 19,
   "id": "7055c32b",
   "metadata": {},
   "outputs": [],
   "source": [
    "speed_file_list_raw = glob.glob(\"../data/pems_speed___101_N_Sep_2024/*\")\n",
    "speed_file_list = []\n",
    "flow_file_list = []\n",
    "\n",
    "# speed_file_0 = speed_file_list_raw[0]\n",
    "# speed_file_0[36:]\n",
    "\n",
    "for speed_file_raw in speed_file_list_raw:\n",
    "    speed_file_list += [speed_file_raw[36:]]\n",
    "    flow_file_raw = speed_file_raw[36:39] + speed_file_raw[45:]\n",
    "    flow_file_list += [flow_file_raw]\n",
    "    \n",
    "    \n",
    "# speed_file_list"
   ]
  },
  {
   "cell_type": "code",
   "execution_count": 21,
   "id": "88d1d189",
   "metadata": {},
   "outputs": [],
   "source": [
    "# print(speed_file_list_raw[0])\n",
    "# print(speed_file_list_raw[0][36:39])\n",
    "# print(speed_file_list_raw[0][45:])\n",
    "# print(speed_file_list_raw[0][36:39] + speed_file_list_raw[0][45:])\n",
    "\n",
    "# flow_file_list"
   ]
  },
  {
   "cell_type": "code",
   "execution_count": 25,
   "id": "f7a516c6",
   "metadata": {},
   "outputs": [],
   "source": [
    "hour_list = []\n",
    "\n",
    "date_list = ['3', '4', '5', '6', '9', '10', '11', '12', '13', '16',\\\n",
    "             '17', '18', '19', '20', '23', '24', '25', '26', '27']\n",
    "\n",
    "for date in date_list:\n",
    "    for hour in range(24):\n",
    "        hour_list += ['9/' + date + '/2024 ' + str(hour) + ':00']\n",
    "\n",
    "# hour_list"
   ]
  },
  {
   "cell_type": "code",
   "execution_count": 26,
   "id": "ae90c083",
   "metadata": {},
   "outputs": [],
   "source": [
    "for index, speed_file in enumerate(speed_file_list):\n",
    "    flow_file = flow_file_list[index]\n",
    "    \n",
    "# TODO: Generate first few rows of the distances_between_sensors.xlsx file\n"
   ]
  },
  {
   "cell_type": "code",
   "execution_count": null,
   "id": "3b406839",
   "metadata": {},
   "outputs": [],
   "source": []
  },
  {
   "cell_type": "code",
   "execution_count": null,
   "id": "e7e65b30",
   "metadata": {},
   "outputs": [],
   "source": [
    "# flow_thresh_low = 100\n"
   ]
  },
  {
   "cell_type": "code",
   "execution_count": null,
   "id": "76970dac",
   "metadata": {},
   "outputs": [],
   "source": []
  },
  {
   "cell_type": "code",
   "execution_count": null,
   "id": "042360ef",
   "metadata": {},
   "outputs": [],
   "source": []
  },
  {
   "cell_type": "code",
   "execution_count": null,
   "id": "c7567e31",
   "metadata": {},
   "outputs": [],
   "source": []
  },
  {
   "cell_type": "code",
   "execution_count": null,
   "id": "3b43c6cc",
   "metadata": {},
   "outputs": [],
   "source": [
    "directory_path = '../data/data_income_percentage_VoT/'\n",
    "df_data = pd.read_csv(directory_path + 'data_cities_od_VoTs_demands_1.csv')\n",
    "\n",
    "dict_data = {}\n",
    "\n",
    "for column_name_full in list(df_data.columns):\n",
    "    if column_name_full == \"Data Category\":\n",
    "        categories_list = df_data[column_name_full].tolist()\n",
    "    else:\n",
    "        dict_data[int(column_name_full)] = {}\n",
    "        for category_index, category in enumerate(categories_list):\n",
    "            if category == \"Start City Index\" or category == \"End City Index\":\n",
    "                dict_data[int(column_name_full)][category] \\\n",
    "                    = int(df_data[column_name_full].tolist()[category_index])\n",
    "            elif category == \"Start City\" or category == \"End City\":\n",
    "                dict_data[int(column_name_full)][category] \\\n",
    "                    = df_data[column_name_full].tolist()[category_index]\n",
    "            else:\n",
    "#                 print(\"category:\", category)\n",
    "                dict_data[int(column_name_full)][category] \\\n",
    "                    = float(df_data[column_name_full].tolist()[category_index])\n"
   ]
  },
  {
   "cell_type": "code",
   "execution_count": null,
   "id": "fc940ee5",
   "metadata": {},
   "outputs": [],
   "source": []
  },
  {
   "cell_type": "markdown",
   "id": "ec4256b4",
   "metadata": {},
   "source": [
    "# Scratch Work"
   ]
  },
  {
   "cell_type": "code",
   "execution_count": null,
   "id": "470af285",
   "metadata": {},
   "outputs": [],
   "source": []
  },
  {
   "cell_type": "code",
   "execution_count": null,
   "id": "cde84a18",
   "metadata": {},
   "outputs": [],
   "source": []
  }
 ],
 "metadata": {
  "kernelspec": {
   "display_name": "Python 3 (ipykernel)",
   "language": "python",
   "name": "python3"
  },
  "language_info": {
   "codemirror_mode": {
    "name": "ipython",
    "version": 3
   },
   "file_extension": ".py",
   "mimetype": "text/x-python",
   "name": "python",
   "nbconvert_exporter": "python",
   "pygments_lexer": "ipython3",
   "version": "3.8.13"
  }
 },
 "nbformat": 4,
 "nbformat_minor": 5
}
