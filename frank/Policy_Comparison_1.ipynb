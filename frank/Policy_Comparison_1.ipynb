{
 "cells": [
  {
   "cell_type": "code",
   "execution_count": 1,
   "id": "fe572f23",
   "metadata": {},
   "outputs": [],
   "source": [
    "import numpy as np\n",
    "import scipy as sp\n",
    "\n",
    "import matplotlib.pyplot as plt\n",
    "import pandas as pd\n",
    "import datetime as dt\n",
    "import gurobipy as gp\n",
    "from gurobipy import GRB\n",
    "import cvxpy as cp\n",
    "\n",
    "import random\n",
    "from itertools import chain, combinations, tee\n",
    "import time"
   ]
  },
  {
   "cell_type": "markdown",
   "id": "b77bf849",
   "metadata": {},
   "source": [
    "# Load Input Data:"
   ]
  },
  {
   "cell_type": "code",
   "execution_count": 2,
   "id": "9e506724",
   "metadata": {},
   "outputs": [
    {
     "name": "stdout",
     "output_type": "stream",
     "text": [
      "[0.01, 0.02, 0.01, 0.02, 0.02, 0.02, 0.02, 0.04, 0.02, 0.07, 0.02, 0.07, 0.16, 0.13, 0.05, 0.25, 0.03, 0.05]\n",
      "\n",
      "[0.00990099 0.01980198 0.00990099 0.01980198 0.01980198 0.01980198\n",
      " 0.01980198 0.03960396 0.01980198 0.06930693 0.01980198 0.06930693\n",
      " 0.15841584 0.12871287 0.04950495 0.24752475 0.02970297 0.04950495]\n"
     ]
    }
   ],
   "source": [
    "vot_pdf = np.genfromtxt('../original_code/VOT_distr.csv', delimiter=',')[1:]\n",
    "vots = []\n",
    "vot_p = []\n",
    "for row in vot_pdf:\n",
    "    vots.append(row[0])\n",
    "    vot_p.append(row[1])\n",
    "print(vot_p)\n",
    "print()\n",
    "vot_p=vot_p/np.sum(vot_p)\n",
    "print(vot_p)"
   ]
  },
  {
   "cell_type": "code",
   "execution_count": 3,
   "id": "028e4981",
   "metadata": {},
   "outputs": [
    {
     "name": "stdout",
     "output_type": "stream",
     "text": [
      "Hi!\n"
     ]
    },
    {
     "data": {
      "text/plain": [
       "0.0001087188720703125"
      ]
     },
     "execution_count": 3,
     "metadata": {},
     "output_type": "execute_result"
    }
   ],
   "source": [
    "# vot_p\n",
    "\n",
    "start_time = time.time()\n",
    "print(\"Hi!\")\n",
    "end_time = time.time()\n",
    "end_time - start_time"
   ]
  },
  {
   "cell_type": "code",
   "execution_count": null,
   "id": "0edd790d",
   "metadata": {},
   "outputs": [],
   "source": []
  },
  {
   "cell_type": "code",
   "execution_count": null,
   "id": "17ee2a7d",
   "metadata": {},
   "outputs": [],
   "source": []
  },
  {
   "cell_type": "markdown",
   "id": "21778d8d",
   "metadata": {},
   "source": [
    "# Travel time functions:"
   ]
  },
  {
   "cell_type": "code",
   "execution_count": 4,
   "id": "13af7e0a",
   "metadata": {},
   "outputs": [],
   "source": [
    "###### BPR Parameters ###### \n",
    "bpr_true_capacity = 66\n",
    "bpr_true_fftt = 60*22/67\n",
    "bpr_true_alpha = 0.2\n",
    "\n",
    "def true_bpr_cost(flow_val, fftt = bpr_true_fftt, capacity = bpr_true_capacity, alpha = bpr_true_alpha):\n",
    "    \"\"\"\n",
    "    Find the (exact) travel time on an edge given an edge flow\n",
    "    \"\"\"\n",
    "\n",
    "    return fftt * (1+alpha*(flow_val/capacity)**6)\n",
    "\n",
    "###### Approximation Parameters ###### \n",
    "const_multiplier = 1\n",
    "cap_thresh_multiplier = 0.7835\n",
    "apx_slope = 0.314\n",
    "\n",
    "def apx_bpr_cost(flow_val, fftt = bpr_true_fftt, capacity = bpr_true_capacity, \n",
    "                a = const_multiplier, cap_thresh = cap_thresh_multiplier, b = apx_slope):\n",
    "    \"\"\"\n",
    "    Find the (approximate) travel time on an edge given an edge flow\n",
    "    \"\"\"\n",
    "    \n",
    "    if flow_val <= cap_thresh*capacity:\n",
    "        return a*fftt\n",
    "    else:\n",
    "        return a*fftt + b*(flow_val - cap_thresh*capacity)"
   ]
  },
  {
   "cell_type": "code",
   "execution_count": 5,
   "id": "59ec1b27",
   "metadata": {},
   "outputs": [
    {
     "data": {
      "text/plain": [
       "<matplotlib.legend.Legend at 0x7f8a6b07c610>"
      ]
     },
     "execution_count": 5,
     "metadata": {},
     "output_type": "execute_result"
    },
    {
     "data": {
      "image/png": "[encoded data removed]",
      "text/plain": [
       "<Figure size 432x288 with 1 Axes>"
      ]
     },
     "metadata": {
      "needs_background": "light"
     },
     "output_type": "display_data"
    }
   ],
   "source": [
    "###### Check plots of BPR and approximation ###### \n",
    "multiplier = 100/4 # converts from 100 vehicles/hour --> vehicle/hour per lane\n",
    "\n",
    "x =  np.linspace(0,int(np.round(88*multiplier,0)),int(np.round(89*2*multiplier,0)))\n",
    "y = [true_bpr_cost(i, capacity = bpr_true_capacity*multiplier) for i in x]\n",
    "\n",
    "plt.plot(x, y,label='BPR')\n",
    "\n",
    "y_apx = [apx_bpr_cost(i,capacity = bpr_true_capacity*multiplier, b = apx_slope/multiplier) for i in x]\n",
    "\n",
    "plt.plot(x, y_apx,label='Piecewise Linear Approximation')\n",
    "plt.xlabel(\"Flow/lane (100 vehicles/hour)\")\n",
    "plt.ylabel(\"Travel time (minutes)\")\n",
    "plt.legend(loc='upper left')"
   ]
  },
  {
   "cell_type": "code",
   "execution_count": null,
   "id": "9e0d6a55",
   "metadata": {},
   "outputs": [],
   "source": []
  },
  {
   "cell_type": "markdown",
   "id": "4e4aa9bb",
   "metadata": {},
   "source": [
    "# Generate Demand Profile:"
   ]
  },
  {
   "cell_type": "code",
   "execution_count": 6,
   "id": "7151fa89",
   "metadata": {},
   "outputs": [
    {
     "name": "stdout",
     "output_type": "stream",
     "text": [
      "Tau:\n",
      " [ 0.  1.  2.  3.  4.  5.  6.  7.  8.  9. 10. 11. 12. 13. 14. 15. 16. 17.\n",
      " 18. 19. 20.]\n",
      "\n",
      "B:\n",
      " [ 0.  5. 10. 15. 20. 25. 30. 35. 40. 45. 50. 55. 60. 65. 70. 75. 80. 85.\n",
      " 90.]\n",
      "\n",
      "Eligible vot range:\n",
      " 0.02 (1.2 $/hr), 0.24 (14.399999999999999 $/hr)\n",
      "\n",
      "Ineligible vot range:\n",
      " 0.21(12.6 $/hr), 2.7 (162.0 $/hr)\n",
      "\n",
      "Mean vot:\n",
      " 45.0 $/hr; median: 37.2 $/hr\n"
     ]
    }
   ],
   "source": [
    "###### Specify parameters for problem ###### \n",
    "T = 5 # Time Horizon\n",
    "tau_arr = 20*np.linspace(0, 1, 21)[0:] # Toll discretization\n",
    "print('Tau:\\n {}'.format(tau_arr))\n",
    "print()\n",
    "\n",
    "B_arr = np.linspace(tau_arr[0], tau_arr[-3]*T,19) # Budget discretization \n",
    "print('B:\\n {}'.format(B_arr))\n",
    "print()\n",
    "\n",
    "num_total = 8000 # number of users\n",
    "num_eligible =int( num_total*.17) # number of eligible users\n",
    "num_ineligible = num_total-num_eligible # number of ineligible users\n",
    "\n",
    "###### VoT information ###### \n",
    "vot_all = np.sort(np.round(np.random.choice(vots, size = num_total, p=vot_p),2)/60) # generate baseline VoT for all users\n",
    "vot_all_days = np.empty(shape=(num_total,T)) \n",
    "count=0\n",
    "for v in vot_all:\n",
    "    if count < num_eligible:\n",
    "        vot_all_days[count,:]=[v for t in range(T)] # VoT of eligible users does not vary over time periods\n",
    "    else:\n",
    "        vot_all_days[count,:]=list((1+0.25*(np.random.random_sample(size=T)-0.5))*v) # VoT of ineligible users varies over time periods\n",
    "    count+=1\n",
    "    \n",
    "vot_eligible = vot_all_days[:num_eligible,:]\n",
    "vot_ineligible= vot_all_days[num_eligible:,:]\n",
    "\n",
    "print('Eligible vot range:\\n {} ({} $/hr), {} ({} $/hr)'.format(np.min(vot_eligible),60*np.min(np.round(vot_eligible,2)),np.max(np.round(vot_eligible,2)),60*np.max(np.round(vot_eligible,2))))\n",
    "print()\n",
    "print('Ineligible vot range:\\n {}({} $/hr), {} ({} $/hr)'.format(np.min(np.round(vot_ineligible,2)),60*np.min(np.round(vot_ineligible,2)),np.max(np.round(vot_ineligible,2)),60*np.max(np.round(vot_ineligible,2))))\n",
    "print()\n",
    "print('Mean vot:\\n {} $/hr; median: {} $/hr'.format(60*np.round(np.mean(vot_all_days),2),60*np.round(np.median(vot_all_days),2)))"
   ]
  },
  {
   "cell_type": "code",
   "execution_count": 7,
   "id": "55fa8d82",
   "metadata": {},
   "outputs": [
    {
     "data": {
      "text/plain": [
       "Text(0, 0.5, '% of population')"
      ]
     },
     "execution_count": 7,
     "metadata": {},
     "output_type": "execute_result"
    },
    {
     "data": {
      "image/png": "[encoded data removed]",
      "text/plain": [
       "<Figure size 432x288 with 1 Axes>"
      ]
     },
     "metadata": {
      "needs_background": "light"
     },
     "output_type": "display_data"
    }
   ],
   "source": [
    "###### Check VoT distribution ###### \n",
    "plt.hist(vot_all_days.flatten()*60,bins=41,density=True)\n",
    "plt.xlabel(\"Value of time ($/hour)\")\n",
    "plt.ylabel(\"% of population\")"
   ]
  },
  {
   "cell_type": "code",
   "execution_count": null,
   "id": "4a4df352",
   "metadata": {},
   "outputs": [],
   "source": []
  },
  {
   "cell_type": "code",
   "execution_count": null,
   "id": "96a04a57",
   "metadata": {},
   "outputs": [],
   "source": []
  },
  {
   "cell_type": "code",
   "execution_count": null,
   "id": "4333c208",
   "metadata": {},
   "outputs": [],
   "source": []
  },
  {
   "cell_type": "markdown",
   "id": "3f8ada43",
   "metadata": {},
   "source": [
    "# Optimization Solver:"
   ]
  },
  {
   "cell_type": "code",
   "execution_count": 97,
   "id": "b364d94c",
   "metadata": {},
   "outputs": [],
   "source": [
    "def OptPL_budget(toll, B, T = T, num_eligible = num_eligible, num_ineligible = num_ineligible, \n",
    "            vot_ineligible = vot_ineligible, alpha = bpr_true_alpha, fftt_1 = bpr_true_fftt, \n",
    "              fftt_2 = bpr_true_fftt, c_1 = bpr_true_capacity, c_2 = bpr_true_capacity, \n",
    "             a = const_multiplier, cap_thresh = cap_thresh_multiplier, b_1 = apx_slope, b_2 = apx_slope):\n",
    "    \"\"\"\n",
    "    Function to solve convex optimization problem given a particular toll and budget value\n",
    "    \"\"\"\n",
    "    \n",
    "    # Initialize model\n",
    "    m1 = gp.Model()\n",
    "    # Add variables to model\n",
    "#     users_in = m1.addVars(num_ineligible, 3, T, name = 'ineligible_val', lb = 0.0, ub = 2.0)\n",
    "#     edge_flows = m1.addVars(2, T, name = 'edge_flows', lb = 0.0, ub = num_ineligible * 2.0)\n",
    "#     users_el = m1.addVars(3, T, name = 'eligible_allocation', lb = 0.0, ub = 2.0)\n",
    "    # Add variables for piecewise affine approximation\n",
    "#     eps_flows = m1.addVars(2, T, name = 'eps_flows', lb = 0.0, ub = num_ineligible * 2.0)\n",
    "    \n",
    "#     # Add variables for piecewise affine approximation\n",
    "#     eps_flows = m1.addVars(2, T, name = 'eps_flows', lb = 0.0, ub = num_ineligible * 2.0)\n",
    "    users_in = m1.addVars(num_ineligible, 3, T, name = 'ineligible_val', lb = -10000.0, ub = 10000.0)\n",
    "    edge_flows = m1.addVars(2, T, name = 'edge_flows', lb = -10000.0, ub = 10000.0)\n",
    "    users_el = m1.addVars(3, T, name = 'eligible_allocation', lb = -10000.0, ub = 10000.0)\n",
    "    eps_flows = m1.addVars(2, T, name = 'eps_flows', lb = -10000.0, ub = 10000.0)   \n",
    "\n",
    "    ## Add constraints to Model \n",
    "    \n",
    "    # Total edge flow, express lane:\n",
    "    m1.addConstrs((edge_flows[0, t] == sum(users_in[i, 0, t] for i in range(num_ineligible)) + \\\n",
    "                  users_el[0, t] + sum(users_in[i, 1, t] for i in range(num_ineligible)) + \\\n",
    "                  users_el[1, t] for t in range(T)))\n",
    "    # Total edge flow, general purpose lane:\n",
    "    m1.addConstrs((edge_flows[1, t] == sum(users_in[i, 2, t] for i in range(num_ineligible)) + \\\n",
    "                  users_el[2, t] for t in range(T)))\n",
    "    \n",
    "    # Non-negativity of flows, and zero flow for \"eligible users in ineligible groups\":\n",
    "    m1.addConstrs((users_in[i, j, t]>=0 for i in range(num_ineligible) for j in range(3) for t in range(T)))\n",
    "    m1.addConstrs((users_in[i, 0, t]==0 for i in range(num_ineligible) for t in range(T)))\n",
    "    m1.addConstrs((users_el[j, t]>=0 for j in range(3) for t in range(T)))\n",
    "    \n",
    "    # Every eligible and ineligible user is assigned to one of three options: \\\n",
    "    # (express paying, express with credit, non-express)\n",
    "    m1.addConstrs((sum(users_in[i, j, t] for j in range(3)) == 1 for i in range(num_ineligible) for t in range(T)))\n",
    "    m1.addConstrs((sum(users_el[j, t] for j in range(3)) == num_eligible for t in range(T)))\n",
    "    \n",
    "    # Budget constraint satisfaction:\n",
    "    if toll != 0:\n",
    "        m1.addConstr((sum(toll*users_el[0, t] for t in range(T)) <= B * num_eligible))\n",
    "        \n",
    "    # Piecewise affine approximation:\n",
    "    m1.addConstrs((eps_flows[j, t] >= 0 for j in range(2) for t in range(T))) # Must be at least 0\n",
    "    m1.addConstrs((eps_flows[0, t] >= edge_flows[0, t] - cap_thresh*c_1 for t in range(T))) # Must be at least flow - capacity\n",
    "    m1.addConstrs((eps_flows[1, t] >= edge_flows[1, t] - cap_thresh*c_2 for t in range(T))) # Must be at least flow - capacity\n",
    "    \n",
    "    # Set Objective\n",
    "    m1.setObjective(sum( a*fftt_1*(edge_flows[0, t]) + b_1*(eps_flows[0, t]**2)/2  \n",
    "                        + a*fftt_2*(edge_flows[1, t]) + b_2*(eps_flows[1, t]**2)/2 \n",
    "                        + sum( toll*users_in[i,1,t]/vot_ineligible[i,t] for i in range(num_ineligible)) \n",
    "        for t in range(T)), GRB.MINIMIZE)\n",
    "    \n",
    "    m1.update()\n",
    "    \n",
    "    return m1"
   ]
  },
  {
   "cell_type": "code",
   "execution_count": 98,
   "id": "91c88ac5",
   "metadata": {},
   "outputs": [],
   "source": [
    "def _extract_solution(m, num_ineligible = num_ineligible):\n",
    "    \"\"\"\n",
    "    Get solution from optimization model\n",
    "    \"\"\"\n",
    "    users_in = [v.x for v in m.getVars() if v.VarName.find(\"ineligible_val\") != -1]\n",
    "    users_el = [v.x for v in m.getVars() if v.VarName.find(\"eligible_allocation\") != -1]\n",
    "    edge_flows = [v.x for v in m.getVars() if v.VarName.find(\"edge_flows\") != -1]\n",
    "    eps_flows = [v.x for v in m.getVars() if v.VarName.find(\"eps_flows\") != -1]\n",
    "    \n",
    "    users_in = np.reshape(users_in, (num_ineligible, 3, T))\n",
    "    users_el = np.reshape(users_el, (3, T))\n",
    "    edge_flows = np.reshape(edge_flows, (2, T))\n",
    "    eps_flows = np.reshape(eps_flows, (2, T))\n",
    "\n",
    "    solution = {\n",
    "        \"users_in\": users_in,\n",
    "        \"users_el\": users_el,\n",
    "        \"edge_flows\": edge_flows,\n",
    "        \"eps_flows\": eps_flows\n",
    "    }\n",
    "    return solution"
   ]
  },
  {
   "cell_type": "code",
   "execution_count": null,
   "id": "8ffb5ccd",
   "metadata": {},
   "outputs": [],
   "source": []
  },
  {
   "cell_type": "markdown",
   "id": "94991667",
   "metadata": {},
   "source": [
    "# Sample Optimization Problem:"
   ]
  },
  {
   "cell_type": "markdown",
   "id": "e51695e1",
   "metadata": {},
   "source": [
    "## Gurobi:"
   ]
  },
  {
   "cell_type": "code",
   "execution_count": 99,
   "id": "d9123c11",
   "metadata": {},
   "outputs": [
    {
     "name": "stdout",
     "output_type": "stream",
     "text": [
      "num_total: 8000\n",
      "num_eligible: 1360\n",
      "num_ineligible: 6640\n",
      "toll: 1.0\n",
      "budget: 3.0\n",
      "num_eligible: 1360\n",
      "num_ineligible_trunc: 6640\n",
      "vot_ineligible: [[0.26807756 0.22151833 0.21310783 0.22282381 0.24973073]\n",
      " [0.22993928 0.26308492 0.23730108 0.2422777  0.26741042]\n",
      " [0.21757904 0.2617198  0.25112024 0.22914193 0.23769435]\n",
      " ...\n",
      " [2.27554354 2.30374357 2.60634747 2.43569407 2.65266732]\n",
      " [2.62179731 2.65953287 2.4223765  2.39231246 2.55889051]\n",
      " [2.14498351 2.61839818 2.1881938  2.50873209 2.22075937]]\n",
      "alpha: 0.2\n",
      "fftt_1: 19.70149253731343\n",
      "fftt_2: 19.70149253731343\n",
      "c_1: 1650\n",
      "c_2: 4950\n",
      "a: 1\n",
      "cap_thresh: 0.7835\n",
      "b_1: 0.01256\n",
      "b_2: 0.004186666666666667\n",
      "\n",
      "Gurobi Optimizer version 11.0.0 build v11.0.0rc2 (mac64[x86] - Darwin 23.2.0 23C71)\n",
      "\n",
      "CPU model: Intel(R) Core(TM) i7-8750H CPU @ 2.20GHz\n",
      "Thread count: 6 physical cores, 12 logical processors, using up to 12 threads\n",
      "\n",
      "Optimize a model with 166051 rows, 99635 columns and 332090 nonzeros\n",
      "Model fingerprint: 0x13548ae6\n",
      "Model has 10 quadratic objective terms\n",
      "Coefficient statistics:\n",
      "  Matrix range     [1e+00, 1e+00]\n",
      "  Objective range  [4e-01, 2e+01]\n",
      "  QObjective range [4e-03, 1e-02]\n",
      "  Bounds range     [1e+04, 1e+04]\n",
      "  RHS range        [1e+00, 4e+03]\n",
      "Presolve removed 166025 rows and 66400 columns\n",
      "Presolve time: 0.16s\n",
      "Presolved: 26 rows, 33235 columns, 66465 nonzeros\n",
      "Presolved model has 10 quadratic objective terms\n",
      "Ordering time: 0.00s\n",
      "\n",
      "Barrier statistics:\n",
      " AA' NZ     : 3.500e+01\n",
      " Factor NZ  : 1.760e+02 (roughly 13 MB of memory)\n",
      " Factor Ops : 1.676e+03 (less than 1 second per iteration)\n",
      " Threads    : 1\n",
      "\n",
      "                  Objective                Residual\n",
      "Iter       Primal          Dual         Primal    Dual     Compl     Time\n",
      "   0  -4.28870026e+08 -4.29380516e+07  6.64e+06 5.88e+02  1.00e+06     0s\n",
      "   1  -9.75379150e+06 -1.39461575e+07  1.79e+05 1.59e+01  2.72e+04     0s\n",
      "   2   9.05318791e+05 -3.90351434e+06  4.08e+03 3.62e-01  6.93e+02     0s\n",
      "   3   8.92644896e+05 -2.94319343e+06  1.02e+03 9.07e-02  1.96e+02     0s\n",
      "   4   8.96871532e+05 -1.22023774e+06  1.54e+01 1.36e-03  3.31e+01     0s\n",
      "   5   8.76543131e+05  6.47272298e+05  1.47e+00 1.30e-04  3.46e+00     0s\n",
      "   6   8.65836580e+05  8.42703496e+05  1.02e-01 9.04e-06  3.48e-01     0s\n",
      "   7   8.57432756e+05  8.38899100e+05  6.54e-02 5.79e-06  2.79e-01     0s\n",
      "   8   8.55142283e+05  8.39925482e+05  7.15e-08 5.80e-12  2.29e-01     0s\n",
      "   9   8.55806923e+05  8.43916219e+05  2.10e-08 4.26e-14  1.79e-01     0s\n",
      "  10   8.53534721e+05  8.51322764e+05  2.45e-08 5.68e-14  3.33e-02     0s\n",
      "  11   8.52784856e+05  8.52094051e+05  2.27e-08 5.68e-14  1.04e-02     0s\n",
      "  12   8.52742855e+05  8.52124682e+05  8.01e-08 2.84e-14  9.30e-03     0s\n",
      "  13   8.52703948e+05  8.52156876e+05  6.06e-08 5.68e-14  8.23e-03     0s\n",
      "  14   8.52612613e+05  8.52261225e+05  2.74e-08 2.84e-14  5.29e-03     0s\n",
      "  15   8.52576926e+05  8.52298103e+05  3.05e-08 2.84e-14  4.19e-03     0s\n",
      "  16   8.52546510e+05  8.52328890e+05  3.41e-08 2.84e-14  3.27e-03     0s\n",
      "  17   8.52524107e+05  8.52351391e+05  4.63e-08 2.84e-14  2.60e-03     0s\n",
      "  18   8.52509852e+05  8.52365506e+05  3.58e-08 2.84e-14  2.17e-03     0s\n",
      "  19   8.52497237e+05  8.52377858e+05  7.03e-08 2.49e-14  1.80e-03     0s\n",
      "  20   8.52486957e+05  8.52387646e+05  8.46e-08 3.41e-14  1.49e-03     0s\n",
      "  21   8.52478935e+05  8.52395303e+05  3.40e-08 3.16e-14  1.26e-03     0s\n",
      "  22   8.52472190e+05  8.52401621e+05  1.27e-07 2.84e-14  1.06e-03     0s\n",
      "  23   8.52467597e+05  8.52405789e+05  1.17e-07 5.68e-14  9.30e-04     0s\n",
      "  24   8.52463161e+05  8.52409792e+05  8.71e-08 2.84e-14  8.03e-04     0s\n",
      "  25   8.52458581e+05  8.52413903e+05  3.65e-08 4.47e-14  6.72e-04     0s\n",
      "  26   8.52455228e+05  8.52416821e+05  2.34e-08 2.84e-14  5.78e-04     0s\n",
      "  27   8.52451992e+05  8.52419546e+05  6.32e-08 5.68e-14  4.88e-04     0s\n",
      "  28   8.52449478e+05  8.52421583e+05  6.84e-08 5.68e-14  4.20e-04     0s\n",
      "  29   8.52447540e+05  8.52423128e+05  4.58e-08 5.68e-14  3.67e-04     1s\n",
      "  30   8.52444078e+05  8.52425854e+05  2.84e-08 4.17e-14  2.74e-04     1s\n",
      "  31   8.52441861e+05  8.52427533e+05  1.10e-07 4.71e-14  2.16e-04     1s\n",
      "  32   8.52439875e+05  8.52428796e+05  2.15e-07 5.68e-14  1.67e-04     1s\n",
      "  33   8.52437202e+05  8.52430761e+05  2.24e-07 2.84e-14  9.69e-05     1s\n",
      "  34   8.52435729e+05  8.52431948e+05  6.33e-07 2.84e-14  5.69e-05     1s\n",
      "  35   8.52434935e+05  8.52432587e+05  1.04e-06 2.84e-14  3.53e-05     1s\n",
      "  36   8.52434570e+05  8.52432865e+05  9.52e-07 2.84e-14  2.57e-05     1s\n",
      "  37   8.52434243e+05  8.52433112e+05  1.74e-06 2.84e-14  1.70e-05     1s\n",
      "  38   8.52434027e+05  8.52433286e+05  9.83e-07 5.68e-14  1.11e-05     1s\n",
      "  39   8.52433771e+05  8.52433514e+05  4.29e-07 2.93e-14  3.86e-06     1s\n",
      "  40   8.52433648e+05  8.52433628e+05  1.49e-08 3.55e-14  2.97e-07     1s\n",
      "  41   8.52433639e+05  8.52433636e+05  4.97e-09 2.84e-14  5.26e-08     1s\n",
      "  42   8.52433638e+05  8.52433638e+05  5.40e-09 2.84e-14  2.84e-09     1s\n",
      "\n",
      "Barrier solved model in 42 iterations and 0.65 seconds (0.37 work units)\n",
      "Optimal objective 8.52433638e+05\n",
      "\n",
      "Run time: 4.267741918563843\n"
     ]
    }
   ],
   "source": [
    "# Gurobi:\n",
    "\n",
    "time_1 = time.time()\n",
    "\n",
    "toll = 1.0\n",
    "budget = 3.0\n",
    "demand_multiplier = [25,75]\n",
    "\n",
    "# num_ineligible_trunc = num_ineligible\n",
    "\n",
    "# Truncating num_ineligible to enable comparison with CVXPY (which is very, very slow):\n",
    "# num_ineligible_trunc = 200\n",
    "# num_ineligible_trunc = int(num_ineligible/3)\n",
    "num_ineligible_trunc = num_ineligible\n",
    "\n",
    "print(\"num_total:\", num_total)\n",
    "print(\"num_eligible:\", num_eligible)\n",
    "print(\"num_ineligible:\", num_ineligible)\n",
    "print(\"toll:\", toll)\n",
    "print(\"budget:\", budget)\n",
    "print(\"num_eligible:\", num_eligible)\n",
    "print(\"num_ineligible_trunc:\", num_ineligible_trunc)\n",
    "print(\"vot_ineligible:\", vot_ineligible)\n",
    "print(\"alpha:\", bpr_true_alpha)\n",
    "print(\"fftt_1:\", bpr_true_fftt)\n",
    "print(\"fftt_2:\", bpr_true_fftt)\n",
    "print(\"c_1:\", bpr_true_capacity*demand_multiplier[0])\n",
    "print(\"c_2:\", bpr_true_capacity*demand_multiplier[1])\n",
    "print(\"a:\", const_multiplier)\n",
    "print(\"cap_thresh:\", cap_thresh_multiplier)\n",
    "print(\"b_1:\", apx_slope/demand_multiplier[0])\n",
    "print(\"b_2:\", apx_slope/demand_multiplier[1])\n",
    "print()\n",
    "\n",
    "\n",
    "m_budget = OptPL_budget(toll, budget, T = T, num_eligible = num_eligible, num_ineligible = num_ineligible_trunc, \n",
    "            vot_ineligible = vot_ineligible, alpha = bpr_true_alpha, fftt_1 = bpr_true_fftt, \n",
    "              fftt_2 = bpr_true_fftt, c_1 = bpr_true_capacity*demand_multiplier[0], c_2 = bpr_true_capacity*demand_multiplier[1], \n",
    "             a = const_multiplier, cap_thresh = cap_thresh_multiplier, b_1 = apx_slope/demand_multiplier[0], b_2 = apx_slope/(demand_multiplier[1]))\n",
    "\n",
    "m_budget.optimize()\n",
    "\n",
    "time_2 = time.time()\n",
    "print(\"Run time:\", time_2 - time_1)"
   ]
  },
  {
   "cell_type": "code",
   "execution_count": 100,
   "id": "bdfb36f0",
   "metadata": {},
   "outputs": [],
   "source": [
    "# m_budget.getVars()\n",
    "# solution_set = _extract_solution(m_budget, num_ineligible_trunc)\n",
    "\n",
    "# m_budget.getVars()\n",
    "\n",
    "# list_from_gurobi = [v.x for v in m_budget.getVars()]\n",
    "# list_from_gurobi\n",
    "\n",
    "users_in = [v.x for v in m_budget.getVars() if v.VarName.find(\"ineligible_val\") != -1]\n",
    "users_el = [v.x for v in m_budget.getVars() if v.VarName.find(\"eligible_allocation\") != -1]\n",
    "edge_flows = [v.x for v in m_budget.getVars() if v.VarName.find(\"edge_flows\") != -1]\n",
    "eps_flows = [v.x for v in m_budget.getVars() if v.VarName.find(\"eps_flows\") != -1]\n",
    "    \n",
    "users_in = np.reshape(users_in, (num_ineligible_trunc, 3, T))\n",
    "users_el = np.reshape(users_el, (3, T))\n",
    "edge_flows = np.reshape(edge_flows, (2, T))\n",
    "eps_flows = np.reshape(eps_flows, (2, T))\n",
    "\n",
    "# solution = {\n",
    "#     \"users_in\": users_in,\n",
    "#     \"users_el\": users_el,\n",
    "#     \"edge_flows\": edge_flows,\n",
    "#     \"eps_flows\": eps_flows\n",
    "# }\n",
    "\n",
    "solution_gurobi = {\n",
    "    \"users_in\": users_in,\n",
    "    \"users_el\": users_el,\n",
    "    \"edge_flows\": edge_flows,\n",
    "    \"eps_flows\": eps_flows\n",
    "}\n"
   ]
  },
  {
   "cell_type": "code",
   "execution_count": 101,
   "id": "cdcb0b3e",
   "metadata": {},
   "outputs": [],
   "source": [
    "# m_budget.getVars()[0]"
   ]
  },
  {
   "cell_type": "code",
   "execution_count": null,
   "id": "6127ee53",
   "metadata": {},
   "outputs": [],
   "source": []
  },
  {
   "cell_type": "code",
   "execution_count": 102,
   "id": "04f65ba7",
   "metadata": {},
   "outputs": [
    {
     "name": "stdout",
     "output_type": "stream",
     "text": [
      "[[1955.65767825 1955.67832557 1955.6964573  1955.67076381 1955.74948543]\n",
      " [6044.34232178 6044.32167443 6044.3035427  6044.32923618 6044.25051457]]\n",
      "\n",
      "[[ 662.88267825  662.90332556  662.9214573   662.89576381  662.97448543]\n",
      " [2166.01732178 2165.99667443 2165.9785427  2166.00423618 2165.92551457]]\n"
     ]
    }
   ],
   "source": [
    "print(solution_gurobi[\"edge_flows\"])\n",
    "print()\n",
    "print(solution_gurobi[\"eps_flows\"])\n",
    "\n"
   ]
  },
  {
   "cell_type": "code",
   "execution_count": 80,
   "id": "f103ec08",
   "metadata": {},
   "outputs": [
    {
     "name": "stdout",
     "output_type": "stream",
     "text": [
      "num_total: 8000\n",
      "num_eligible: 1360\n",
      "num_ineligible: 6640\n"
     ]
    }
   ],
   "source": [
    "print(\"num_total:\", num_total)\n",
    "print(\"num_eligible:\", num_eligible)\n",
    "print(\"num_ineligible:\", num_ineligible)\n",
    "\n"
   ]
  },
  {
   "cell_type": "code",
   "execution_count": null,
   "id": "30b00d7d",
   "metadata": {},
   "outputs": [],
   "source": []
  },
  {
   "cell_type": "markdown",
   "id": "77c12ddd",
   "metadata": {},
   "source": [
    "## CVXPY:"
   ]
  },
  {
   "cell_type": "markdown",
   "id": "f3eb8a55",
   "metadata": {},
   "source": [
    "## Case 1, Budget:"
   ]
  },
  {
   "cell_type": "code",
   "execution_count": null,
   "id": "d8d077a2",
   "metadata": {},
   "outputs": [],
   "source": [
    "# m_budget = OptPL_budget(toll, budget, T = T, num_eligible = num_eligible, num_ineligible = num_ineligible_trunc, \n",
    "#             vot_ineligible = vot_ineligible, alpha = bpr_true_alpha, fftt_1 = bpr_true_fftt, \n",
    "#               fftt_2 = bpr_true_fftt, c_1 = bpr_true_capacity*demand_multiplier[0], c_2 = bpr_true_capacity*demand_multiplier[1], \n",
    "#              a = const_multiplier, cap_thresh = cap_thresh_multiplier, b_1 = apx_slope/demand_multiplier[0], b_2 = apx_slope/(demand_multiplier[1]))"
   ]
  },
  {
   "cell_type": "code",
   "execution_count": null,
   "id": "a367783a",
   "metadata": {},
   "outputs": [],
   "source": [
    "alpha = bpr_true_alpha\n",
    "fftt_1 = bpr_true_fftt\n",
    "fftt_2 = bpr_true_fftt\n",
    "c_1 = bpr_true_capacity*demand_multiplier[0]\n",
    "c_2 = bpr_true_capacity*demand_multiplier[1]\n",
    "a = const_multiplier\n",
    "cap_thresh = cap_thresh_multiplier\n",
    "b_1 = apx_slope/demand_multiplier[0]\n",
    "b_2 = apx_slope/demand_multiplier[1]\n",
    "\n",
    "\n",
    "time_1 = time.time()\n",
    "\n",
    "users_in = []\n",
    "for i in range(num_ineligible_trunc):\n",
    "    users_in += [cp.Variable((3, T))]\n",
    "edge_flows = cp.Variable((2, T))\n",
    "users_el = cp.Variable((3, T))\n",
    "eps_flows = cp.Variable((2, T))\n",
    "\n",
    "constraints = []\n",
    "\n",
    "# Total edge flow, express lane:\n",
    "print(\"Adding total edge flow, express lane constraints.\")\n",
    "constraints += [(edge_flows[0, t] == sum(users_in[i][0, t] for i in range(num_ineligible_trunc)) + \\\n",
    "              users_el[0, t] + sum(users_in[i][1, t] for i in range(num_ineligible_trunc)) + \\\n",
    "              users_el[1, t]) for t in range(T)]\n",
    "\n",
    "# Total edge flow, general purpose lane:\n",
    "print(\"Adding total edge flow, general purpose lane constraints.\")\n",
    "constraints += [(edge_flows[1, t] == sum(users_in[i][2, t] for i in range(num_ineligible_trunc)) + \\\n",
    "              users_el[2, t]) for t in range(T)]\n",
    "\n",
    "# Non-negativity of flows, and zero flow for \"eligible users in ineligible groups:\n",
    "print(\"Adding non-negativity of flows constraints.\")\n",
    "constraints += [(users_in[i][j, t] >= 0) for i in range(num_ineligible_trunc) for j in range(3) for t in range(T)]\n",
    "constraints += [(users_in[i][0, t] == 0) for i in range(num_ineligible_trunc) for t in range(T)]\n",
    "constraints += [(users_el[j, t] >= 0) for j in range(3) for t in range(T)]\n",
    "\n",
    "# Every eligible and ineligible user is assigned to one of three options: \\\n",
    "# (express paying, express with credit, non-express)\n",
    "print(\"Adding user assignment constraints.\")\n",
    "constraints += [(sum(users_in[i][j, t] for j in range(3)) == 1) for i in range(num_ineligible_trunc) for t in range(T)]\n",
    "constraints += [(sum(users_el[j, t] for j in range(3)) == 1) for t in range(T)]\n",
    "\n",
    "# Budget constraint satisfaction:\n",
    "print(\"Adding budget satisfaction constraints.\")\n",
    "if toll != 0:\n",
    "    constraints += [sum(toll*users_el[0, t] for t in range(T)) <= budget * num_eligible] \n",
    "    \n",
    "#     m1.addConstr((sum(toll*users_el[0, t] for t in range(T)) <= B*num_eligible))\n",
    "\n",
    "# Piecewise affine approximation:\n",
    "print(\"Adding piecewise affine approximation constraints.\")\n",
    "constraints += [(eps_flows[j, t] >= 0) for j in range(2) for t in range(T)]\n",
    "constraints += [(eps_flows[0, t] >= edge_flows[0, t] - cap_thresh*c_1) for t in range(T)]\n",
    "constraints += [(eps_flows[1, t] >= edge_flows[1, t] - cap_thresh*c_2) for t in range(T)]\n",
    "\n",
    "# Set Objective\n",
    "print(\"Setting objective.\")\n",
    "objective = cp.Minimize(sum( a*fftt_1*(edge_flows[0, t]) + b_1*(eps_flows[0, t]**2)/2 \\\n",
    "                    + a*fftt_2*(edge_flows[1, t]) + b_2*(eps_flows[1, t]**2)/2 \\\n",
    "                    + sum( toll*users_in[i][1,t]/vot_ineligible[i,t] for i in range(num_ineligible_trunc)) \\\n",
    "    for t in range(T)))\n",
    "\n",
    "\n",
    "# Solve problem\n",
    "print(\"Forming problem.\")\n",
    "prob = cp.Problem(objective, constraints)\n",
    "\n",
    "print(\"Solving problem.\")\n",
    "result = prob.solve()\n",
    "\n",
    "time_2 = time.time()\n",
    "print()\n",
    "print(\"Run time:\", time_2 - time_1)"
   ]
  },
  {
   "cell_type": "code",
   "execution_count": null,
   "id": "48707590",
   "metadata": {},
   "outputs": [],
   "source": [
    "\n",
    "users_in_values_cvxpy = np.zeros((num_ineligible_trunc, 3, T))\n",
    "for i in range(num_ineligible_trunc):\n",
    "    users_in_values_cvxpy[i, :, :] = users_in[i].value\n",
    "\n",
    "solution_cvxpy = {\n",
    "    \"users_in\": users_in_values_cvxpy,\n",
    "    \"users_el\": users_el.value,\n",
    "    \"edge_flows\": edge_flows.value,\n",
    "    \"eps_flows\": eps_flows.value\n",
    "}\n"
   ]
  },
  {
   "cell_type": "code",
   "execution_count": null,
   "id": "8b1e4710",
   "metadata": {},
   "outputs": [],
   "source": [
    "print(solution_gurobi[\"edge_flows\"])\n",
    "print()\n",
    "print(solution_cvxpy[\"edge_flows\"])\n",
    "print(\"\\n\")\n",
    "\n",
    "print(solution_gurobi[\"eps_flows\"])\n",
    "print()\n",
    "print(solution_cvxpy[\"eps_flows\"])"
   ]
  },
  {
   "cell_type": "code",
   "execution_count": null,
   "id": "b4fb7dfa",
   "metadata": {},
   "outputs": [],
   "source": []
  },
  {
   "cell_type": "markdown",
   "id": "83adaca9",
   "metadata": {},
   "source": [
    "## Case 2, Discount:"
   ]
  },
  {
   "cell_type": "code",
   "execution_count": null,
   "id": "66b4a79d",
   "metadata": {},
   "outputs": [],
   "source": []
  },
  {
   "cell_type": "code",
   "execution_count": null,
   "id": "7765f661",
   "metadata": {},
   "outputs": [],
   "source": []
  },
  {
   "cell_type": "markdown",
   "id": "7c887f08",
   "metadata": {},
   "source": [
    "## Sample CVXPY code:"
   ]
  },
  {
   "cell_type": "code",
   "execution_count": null,
   "id": "9ac59fc6",
   "metadata": {},
   "outputs": [],
   "source": [
    "x = cp.Variable(2)\n",
    "y = cp.Variable(2)\n",
    "v_fixed = np.array([0, 1])\n",
    "objective = cp.Minimize(cp.sum_squares(x - y) + cp.sum_squares(x - v_fixed))\n",
    "constraints = []\n",
    "# for i in range(2):\n",
    "#     constraints += [x[i] >= 2]\n",
    "# constraints += [x[i] >=2 for i in range(2)]\n",
    "prob = cp.Problem(objective, constraints)\n",
    "\n",
    "# The optimal objective value is returned by `prob.solve()`.\n",
    "result = prob.solve()\n",
    "# The optimal value for x is stored in `x.value`.\n",
    "print(\"x.value:\", x.value)\n",
    "print(\"y.value:\", y.value)\n",
    "print()\n",
    "\n"
   ]
  },
  {
   "cell_type": "code",
   "execution_count": null,
   "id": "705a6f52",
   "metadata": {},
   "outputs": [],
   "source": []
  },
  {
   "cell_type": "code",
   "execution_count": null,
   "id": "0b2e4417",
   "metadata": {},
   "outputs": [],
   "source": [
    "# Problem data.\n",
    "m = 30\n",
    "n = 20\n",
    "np.random.seed(1)\n",
    "A = np.random.randn(m, n)\n",
    "b = np.random.randn(m)\n",
    "\n",
    "# Construct the problem.\n",
    "x = cp.Variable(n)\n",
    "objective = cp.Minimize(cp.sum_squares(A @ x - b))\n",
    "constraints = [0 <= x, x <= 1]\n",
    "prob = cp.Problem(objective, constraints)\n",
    "\n",
    "# The optimal objective value is returned by `prob.solve()`.\n",
    "result = prob.solve()\n",
    "# The optimal value for x is stored in `x.value`.\n",
    "print(\"x.value:\", x.value)\n",
    "print()\n",
    "# The optimal Lagrange multiplier for a constraint is stored in\n",
    "# `constraint.dual_value`.\n",
    "print(\"constraints[0].dual_value:\", constraints[0].dual_value)"
   ]
  },
  {
   "cell_type": "code",
   "execution_count": null,
   "id": "62f19d37",
   "metadata": {},
   "outputs": [],
   "source": []
  },
  {
   "cell_type": "markdown",
   "id": "574e70bf",
   "metadata": {},
   "source": [
    "# LP, Comparison between CVXPY and Gurobi:"
   ]
  },
  {
   "cell_type": "code",
   "execution_count": null,
   "id": "9873a4af",
   "metadata": {},
   "outputs": [],
   "source": [
    "c_1 = np.array([-1, 1])\n",
    "c_2 = np.array([-1, -1])"
   ]
  },
  {
   "cell_type": "code",
   "execution_count": null,
   "id": "20e4c32e",
   "metadata": {},
   "outputs": [],
   "source": [
    "x_cvxpy = cp.Variable(2)\n",
    "prob = cp.Problem(cp.Minimize(x_cvxpy[0]), [c_1 @ x_cvxpy <= -3, c_2 @ x_cvxpy <= -3])\n",
    "prob.solve()\n",
    "x_cvxpy.value"
   ]
  },
  {
   "cell_type": "code",
   "execution_count": null,
   "id": "2eb9a8dc",
   "metadata": {},
   "outputs": [],
   "source": [
    "m_QP = gp.Model()\n",
    "x_gurobi = m_QP.addMVar(shape = 2, name = 'x_gurobi')\n",
    "m_QP.addConstr((- x_gurobi[0] + x_gurobi[1] <= -3 ))\n",
    "m_QP.addConstr((- x_gurobi[0] - x_gurobi[1] <= -3 ))\n",
    "\n",
    "m_QP.setObjective(x_gurobi[0], GRB.MINIMIZE)\n",
    "m_QP.update()\n",
    "m_QP.optimize()\n",
    "print()\n",
    "print(x_gurobi.x)\n"
   ]
  },
  {
   "cell_type": "code",
   "execution_count": null,
   "id": "94c27b56",
   "metadata": {},
   "outputs": [],
   "source": []
  },
  {
   "cell_type": "markdown",
   "id": "fab72811",
   "metadata": {},
   "source": [
    "## QP, Comparison between CVXPY and Gurobi:"
   ]
  },
  {
   "cell_type": "code",
   "execution_count": null,
   "id": "937ea63e",
   "metadata": {},
   "outputs": [],
   "source": [
    "# Generate a random non-trivial quadratic program.\n",
    "m = 15\n",
    "n = 10\n",
    "p = 5\n",
    "np.random.seed(1)\n",
    "P_gen = np.random.randn(n, n)\n",
    "P = P_gen.T @ P_gen + np.eye(n)\n",
    "q = np.random.randn(n)\n",
    "G = np.random.randn(m, n)\n",
    "h = G @ np.random.randn(n)\n",
    "A = np.random.randn(p, n)\n",
    "b = np.random.randn(p)"
   ]
  },
  {
   "cell_type": "code",
   "execution_count": null,
   "id": "daba3ffb",
   "metadata": {},
   "outputs": [],
   "source": [
    "P = np.array([[2, 1], [1, 2]])\n",
    "q = np.array([3, 4])\n",
    "n = 2"
   ]
  },
  {
   "cell_type": "code",
   "execution_count": null,
   "id": "5d43f346",
   "metadata": {},
   "outputs": [],
   "source": [
    "# Via CVXPY:\n",
    "\n",
    "# Define and solve the CVXPY problem.\n",
    "x_cvxpy = cp.Variable(n)\n",
    "# prob = cp.Problem(cp.Minimize((1/2)*cp.quad_form(x, P) + q.T @ x),\n",
    "#                  [G @ x <= h,\n",
    "#                   A @ x == b])\n",
    "prob = cp.Problem(cp.Minimize((1/2)*cp.quad_form(x_cvxpy, P) + q.T @ x_cvxpy))\n",
    "prob.solve()\n",
    "\n",
    "# Print result.\n",
    "print(\"\\nThe optimal value is\", prob.value)\n",
    "print(\"A solution x is\")\n",
    "print(x_cvxpy.value)\n",
    "# print(\"A dual solution corresponding to the inequality constraints is\")\n",
    "# print(prob.constraints[0].dual_value)"
   ]
  },
  {
   "cell_type": "code",
   "execution_count": null,
   "id": "9375ae10",
   "metadata": {},
   "outputs": [],
   "source": [
    "# Via Gurobi:\n",
    "\n",
    "# Initialize model\n",
    "m_QP = gp.Model()\n",
    "# Add variables to model\n",
    "x_gurobi = m_QP.addMVar(shape = n, name = 'x')\n",
    "# m_QP.addConstr((G @ x <= h))\n",
    "# m_QP.addConstr((A @ x == b))\n",
    "\n",
    "m_QP.setObjective((1/2) * (x_gurobi.T @ P @ x_gurobi) + q.T @ x_gurobi, GRB.MINIMIZE)\n",
    "\n",
    "m_QP.update()\n",
    "m_QP.optimize()\n",
    "\n"
   ]
  },
  {
   "cell_type": "code",
   "execution_count": null,
   "id": "5dcc6485",
   "metadata": {},
   "outputs": [],
   "source": [
    "x_gurobi.X"
   ]
  },
  {
   "cell_type": "code",
   "execution_count": null,
   "id": "fc310400",
   "metadata": {},
   "outputs": [],
   "source": [
    "x_cvxpy.value"
   ]
  },
  {
   "cell_type": "code",
   "execution_count": null,
   "id": "ab10529a",
   "metadata": {},
   "outputs": [],
   "source": [
    "np.linalg.solve(P, -q)"
   ]
  },
  {
   "cell_type": "code",
   "execution_count": null,
   "id": "004566d8",
   "metadata": {},
   "outputs": [],
   "source": []
  },
  {
   "cell_type": "code",
   "execution_count": null,
   "id": "d6a28b91",
   "metadata": {},
   "outputs": [],
   "source": []
  },
  {
   "cell_type": "markdown",
   "id": "d6e4fe9c",
   "metadata": {},
   "source": [
    "# Scratch Work:"
   ]
  },
  {
   "cell_type": "code",
   "execution_count": null,
   "id": "b22eb9db",
   "metadata": {},
   "outputs": [],
   "source": [
    "# 20*np.linspace(0, 1, 21)[0:]\n",
    "# np.linspace(toll_arr[0], toll_arr[-3]*T,19)"
   ]
  },
  {
   "cell_type": "code",
   "execution_count": null,
   "id": "9fc1960e",
   "metadata": {},
   "outputs": [],
   "source": []
  },
  {
   "cell_type": "code",
   "execution_count": null,
   "id": "d0a9e5a4",
   "metadata": {},
   "outputs": [],
   "source": []
  },
  {
   "cell_type": "code",
   "execution_count": null,
   "id": "7ee1e92e",
   "metadata": {},
   "outputs": [],
   "source": []
  },
  {
   "cell_type": "code",
   "execution_count": null,
   "id": "233bd7d6",
   "metadata": {},
   "outputs": [],
   "source": []
  }
 ],
 "metadata": {
  "kernelspec": {
   "display_name": "Python 3 (ipykernel)",
   "language": "python",
   "name": "python3"
  },
  "language_info": {
   "codemirror_mode": {
    "name": "ipython",
    "version": 3
   },
   "file_extension": ".py",
   "mimetype": "text/x-python",
   "name": "python",
   "nbconvert_exporter": "python",
   "pygments_lexer": "ipython3",
   "version": "3.8.13"
  }
 },
 "nbformat": 4,
 "nbformat_minor": 5
}
