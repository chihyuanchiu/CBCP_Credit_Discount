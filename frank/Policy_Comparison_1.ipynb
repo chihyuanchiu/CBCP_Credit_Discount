{
 "cells": [
  {
   "cell_type": "code",
   "execution_count": 1,
   "id": "fe572f23",
   "metadata": {},
   "outputs": [],
   "source": [
    "import numpy as np\n",
    "import matplotlib.pyplot as plt\n",
    "import pandas as pd\n",
    "import datetime as dt\n",
    "import gurobipy as gp\n",
    "from gurobipy import GRB"
   ]
  },
  {
   "cell_type": "markdown",
   "id": "b77bf849",
   "metadata": {},
   "source": [
    "# Load Input Data:"
   ]
  },
  {
   "cell_type": "code",
   "execution_count": 2,
   "id": "9e506724",
   "metadata": {},
   "outputs": [
    {
     "name": "stdout",
     "output_type": "stream",
     "text": [
      "[0.01, 0.02, 0.01, 0.02, 0.02, 0.02, 0.02, 0.04, 0.02, 0.07, 0.02, 0.07, 0.16, 0.13, 0.05, 0.25, 0.03, 0.05]\n",
      "\n",
      "[0.00990099 0.01980198 0.00990099 0.01980198 0.01980198 0.01980198\n",
      " 0.01980198 0.03960396 0.01980198 0.06930693 0.01980198 0.06930693\n",
      " 0.15841584 0.12871287 0.04950495 0.24752475 0.02970297 0.04950495]\n"
     ]
    }
   ],
   "source": [
    "vot_pdf = np.genfromtxt('../original_code/VOT_distr.csv', delimiter=',')[1:]\n",
    "vots = []\n",
    "vot_p = []\n",
    "for row in vot_pdf:\n",
    "    vots.append(row[0])\n",
    "    vot_p.append(row[1])\n",
    "print(vot_p)\n",
    "print()\n",
    "vot_p=vot_p/np.sum(vot_p)\n",
    "print(vot_p)"
   ]
  },
  {
   "cell_type": "code",
   "execution_count": 3,
   "id": "028e4981",
   "metadata": {},
   "outputs": [],
   "source": [
    "# vot_p"
   ]
  },
  {
   "cell_type": "code",
   "execution_count": null,
   "id": "17ee2a7d",
   "metadata": {},
   "outputs": [],
   "source": []
  },
  {
   "cell_type": "markdown",
   "id": "21778d8d",
   "metadata": {},
   "source": [
    "# Travel time functions:"
   ]
  },
  {
   "cell_type": "code",
   "execution_count": 4,
   "id": "13af7e0a",
   "metadata": {},
   "outputs": [],
   "source": [
    "###### BPR Parameters ###### \n",
    "bpr_true_capacity = 66\n",
    "bpr_true_fftt = 60*22/67\n",
    "bpr_true_alpha = 0.2\n",
    "\n",
    "def true_bpr_cost(flow_val, fftt = bpr_true_fftt, capacity = bpr_true_capacity, alpha = bpr_true_alpha):\n",
    "    \"\"\"\n",
    "    Find the (exact) travel time on an edge given an edge flow\n",
    "    \"\"\"\n",
    "\n",
    "    return fftt * (1+alpha*(flow_val/capacity)**6)\n",
    "\n",
    "###### Approximation Parameters ###### \n",
    "const_multiplier = 1\n",
    "cap_thresh_multiplier = 0.7835\n",
    "apx_slope = 0.314\n",
    "\n",
    "def apx_bpr_cost(flow_val, fftt = bpr_true_fftt, capacity = bpr_true_capacity, \n",
    "                a = const_multiplier, cap_thresh = cap_thresh_multiplier, b = apx_slope):\n",
    "    \"\"\"\n",
    "    Find the (approximate) travel time on an edge given an edge flow\n",
    "    \"\"\"\n",
    "    \n",
    "    if flow_val <= cap_thresh*capacity:\n",
    "        return a*fftt\n",
    "    else:\n",
    "        return a*fftt + b*(flow_val - cap_thresh*capacity)"
   ]
  },
  {
   "cell_type": "code",
   "execution_count": 5,
   "id": "59ec1b27",
   "metadata": {},
   "outputs": [
    {
     "data": {
      "text/plain": [
       "<matplotlib.legend.Legend at 0x7f946672af10>"
      ]
     },
     "execution_count": 5,
     "metadata": {},
     "output_type": "execute_result"
    },
    {
     "data": {
      "image/png": "[encoded data removed]",
      "text/plain": [
       "<Figure size 432x288 with 1 Axes>"
      ]
     },
     "metadata": {
      "needs_background": "light"
     },
     "output_type": "display_data"
    }
   ],
   "source": [
    "###### Check plots of BPR and approximation ###### \n",
    "multiplier = 100/4 # converts from 100 vehicles/hour --> vehicle/hour per lane\n",
    "\n",
    "x =  np.linspace(0,int(np.round(88*multiplier,0)),int(np.round(89*2*multiplier,0)))\n",
    "y = [true_bpr_cost(i, capacity = bpr_true_capacity*multiplier) for i in x]\n",
    "\n",
    "plt.plot(x, y,label='BPR')\n",
    "\n",
    "y_apx = [apx_bpr_cost(i,capacity = bpr_true_capacity*multiplier, b = apx_slope/multiplier) for i in x]\n",
    "\n",
    "plt.plot(x, y_apx,label='Piecewise Linear Approximation')\n",
    "plt.xlabel(\"Flow/lane (100 vehicles/hour)\")\n",
    "plt.ylabel(\"Travel time (minutes)\")\n",
    "plt.legend(loc='upper left')"
   ]
  },
  {
   "cell_type": "code",
   "execution_count": null,
   "id": "9e0d6a55",
   "metadata": {},
   "outputs": [],
   "source": []
  },
  {
   "cell_type": "markdown",
   "id": "3f8ada43",
   "metadata": {},
   "source": [
    "# Test Implementations (Naive):"
   ]
  },
  {
   "cell_type": "code",
   "execution_count": 11,
   "id": "b5d2857e",
   "metadata": {},
   "outputs": [
    {
     "name": "stdout",
     "output_type": "stream",
     "text": [
      "Tau:\n",
      " [ 0.  1.  2.  3.  4.  5.  6.  7.  8.  9. 10. 11. 12. 13. 14. 15. 16. 17.\n",
      " 18. 19. 20.]\n",
      "\n",
      "B:\n",
      " [ 0.  5. 10. 15. 20. 25. 30. 35. 40. 45. 50. 55. 60. 65. 70. 75. 80. 85.\n",
      " 90.]\n",
      "\n",
      "Eligible vot range:\n",
      " 0.02 (1.2 $/hr), 0.24 (14.399999999999999 $/hr)\n",
      "\n",
      "Ineligible vot range:\n",
      " 0.21(12.6 $/hr), 2.7 (162.0 $/hr)\n",
      "\n",
      "Mean vot:\n",
      " 44.4 $/hr; median: 33.6 $/hr\n"
     ]
    }
   ],
   "source": [
    "###### Specify parameters for problem ###### \n",
    "T = 5 # Time Horizon\n",
    "tau_arr = 20*np.linspace(0, 1, 21)[0:] # Toll discretization\n",
    "print('Tau:\\n {}'.format(tau_arr))\n",
    "print()\n",
    "\n",
    "B_arr = np.linspace(tau_arr[0], tau_arr[-3]*T,19) # Budget discretization \n",
    "print('B:\\n {}'.format(B_arr))\n",
    "print()\n",
    "\n",
    "num_total = 8000 # number of users\n",
    "num_eligible = int( num_total*.17) # number of eligible users\n",
    "num_ineligible = num_total-num_eligible # number of ineligible users\n",
    "\n",
    "###### VoT information ###### \n",
    "vot_all = np.sort(np.round(np.random.choice(vots, size = num_total, p=vot_p),2)/60) # generate baseline VoT for all users\n",
    "vot_all_days = np.empty(shape=(num_total,T)) \n",
    "count=0\n",
    "for v in vot_all:\n",
    "    if count < num_eligible:\n",
    "        vot_all_days[count,:]=[v for t in range(T)] # VoT of eligible users does not vary over time periods\n",
    "    else:\n",
    "        vot_all_days[count,:]=list((1+0.25*(np.random.random_sample(size=T)-0.5))*v) # VoT of ineligible users varies over time periods\n",
    "    count+=1\n",
    "    \n",
    "vot_eligible = vot_all_days[:num_eligible,:]\n",
    "vot_ineligible= vot_all_days[num_eligible:,:]\n",
    "\n",
    "print('Eligible vot range:\\n {} ({} $/hr), {} ({} $/hr)'.format(np.min(vot_eligible),60*np.min(np.round(vot_eligible,2)),np.max(np.round(vot_eligible,2)),60*np.max(np.round(vot_eligible,2))))\n",
    "print()\n",
    "print('Ineligible vot range:\\n {}({} $/hr), {} ({} $/hr)'.format(np.min(np.round(vot_ineligible,2)),60*np.min(np.round(vot_ineligible,2)),np.max(np.round(vot_ineligible,2)),60*np.max(np.round(vot_ineligible,2))))\n",
    "print()\n",
    "print('Mean vot:\\n {} $/hr; median: {} $/hr'.format(60*np.round(np.mean(vot_all_days),2),60*np.round(np.median(vot_all_days),2)))"
   ]
  },
  {
   "cell_type": "code",
   "execution_count": 12,
   "id": "b364d94c",
   "metadata": {},
   "outputs": [],
   "source": [
    "def mainOptPL(tau, B, T = T, num_eligible = num_eligible, num_ineligible = num_ineligible, \n",
    "            vot_ineligible = vot_ineligible, alpha = bpr_true_alpha, fftt_1 = bpr_true_fftt, \n",
    "              fftt_2 = bpr_true_fftt, c_1 = bpr_true_capacity, c_2 = bpr_true_capacity, \n",
    "             a = const_multiplier, cap_thresh = cap_thresh_multiplier, b_1 = apx_slope, b_2 = apx_slope):\n",
    "    \"\"\"\n",
    "    Function to solve convex optimization problem given a particular toll and budget value\n",
    "    \"\"\"\n",
    "    \n",
    "    ## Frank: Unmodified below:\n",
    "    \n",
    "    # Initialize model\n",
    "    m1 = gp.Model()\n",
    "    # Add variables to model\n",
    "    users_in = m1.addVars(num_ineligible, 3, T, name = 'ineligible_val')\n",
    "    edge_flows = m1.addVars(3, T, name = 'edge_flows')\n",
    "    users_el = m1.addVars(3, T, name = 'eligible_allocation')\n",
    "    \n",
    "    # Add variables for piecewise affine approximation\n",
    "    eps_flows = m1.addVars(3, T, name = 'eps_flows')\n",
    "\n",
    "    # Add constraints to Model\n",
    "    m1.addConstrs((edge_flows[i, j] == sum(users_in[k, i, j] for k in range(num_ineligible)) + \n",
    "                  users_el[i, j] for i in range(2) for j in range(T)))\n",
    "    m1.addConstrs((users_in[i, j, k]>=0 for i in range(num_ineligible) for j in range(2) for k in range(T))) # Non-negativity constraints ineligible\n",
    "    m1.addConstrs((users_in[i, 0, j] + users_in[i, 1, j] == 1 for i in range(num_ineligible) for j in range(T))) # Allocation constraints ineligible\n",
    "    m1.addConstrs((users_el[0, j] + users_el[1, j] == num_eligible for j in range(T))) # Allocation constraints eligible\n",
    "    \n",
    "    if tau != 0:\n",
    "        m1.addConstr((sum(tau*users_el[0, t] for t in range(T)) <= B*num_eligible))\n",
    "        \n",
    "    # Add constraints for piecewise affine approximation\n",
    "    m1.addConstrs((eps_flows[j, k] >= 0 for j in range(2) for k in range(T))) # Must be at least 0\n",
    "    m1.addConstrs((eps_flows[0, k] >= edge_flows[0, k] - cap_thresh*c_1 for k in range(T))) # Must be at least flow - capacity\n",
    "    m1.addConstrs((eps_flows[1, k] >= edge_flows[1, k] - cap_thresh*c_2 for k in range(T))) # Must be at least flow - capacity\n",
    "    \n",
    "    # Set Objective\n",
    "    m1.setObjective(sum( a*fftt_1*(edge_flows[0,t]) + b_1*(eps_flows[0, t]**2)/2\n",
    "                        +a*fftt_2*(edge_flows[1,t]) + b_2*(eps_flows[1, t]**2)/2 \n",
    "                        + sum( tau*users_in[i,0,t]/vot_ineligible[i,t] for i in range(num_ineligible))\n",
    "        for t in range(T)), GRB.MINIMIZE)\n",
    "    \n",
    "    m1.update()\n",
    "    \n",
    "    return m1"
   ]
  },
  {
   "cell_type": "code",
   "execution_count": null,
   "id": "91c88ac5",
   "metadata": {},
   "outputs": [],
   "source": []
  },
  {
   "cell_type": "markdown",
   "id": "d6e4fe9c",
   "metadata": {},
   "source": [
    "# Scratch Work:"
   ]
  },
  {
   "cell_type": "code",
   "execution_count": null,
   "id": "b22eb9db",
   "metadata": {},
   "outputs": [],
   "source": []
  }
 ],
 "metadata": {
  "kernelspec": {
   "display_name": "Python 3 (ipykernel)",
   "language": "python",
   "name": "python3"
  },
  "language_info": {
   "codemirror_mode": {
    "name": "ipython",
    "version": 3
   },
   "file_extension": ".py",
   "mimetype": "text/x-python",
   "name": "python",
   "nbconvert_exporter": "python",
   "pygments_lexer": "ipython3",
   "version": "3.8.13"
  }
 },
 "nbformat": 4,
 "nbformat_minor": 5
}
