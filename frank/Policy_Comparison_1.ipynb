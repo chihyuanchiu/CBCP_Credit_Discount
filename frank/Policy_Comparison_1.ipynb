{
 "cells": [
  {
   "cell_type": "code",
   "execution_count": 2,
   "id": "fe572f23",
   "metadata": {},
   "outputs": [],
   "source": [
    "import numpy as np\n",
    "import scipy as sp\n",
    "\n",
    "import matplotlib.pyplot as plt\n",
    "import pandas as pd\n",
    "import datetime as dt\n",
    "import gurobipy as gp\n",
    "from gurobipy import GRB\n",
    "import cvxpy as cp\n",
    "\n",
    "import random\n",
    "from itertools import chain, combinations, tee\n",
    "import time"
   ]
  },
  {
   "cell_type": "markdown",
   "id": "b77bf849",
   "metadata": {},
   "source": [
    "# Load Input Data:"
   ]
  },
  {
   "cell_type": "code",
   "execution_count": 3,
   "id": "9e506724",
   "metadata": {},
   "outputs": [
    {
     "name": "stdout",
     "output_type": "stream",
     "text": [
      "[0.01, 0.02, 0.01, 0.02, 0.02, 0.02, 0.02, 0.04, 0.02, 0.07, 0.02, 0.07, 0.16, 0.13, 0.05, 0.25, 0.03, 0.05]\n",
      "\n",
      "[0.00990099 0.01980198 0.00990099 0.01980198 0.01980198 0.01980198\n",
      " 0.01980198 0.03960396 0.01980198 0.06930693 0.01980198 0.06930693\n",
      " 0.15841584 0.12871287 0.04950495 0.24752475 0.02970297 0.04950495]\n"
     ]
    }
   ],
   "source": [
    "vot_pdf = np.genfromtxt('../original_code/VOT_distr.csv', delimiter=',')[1:]\n",
    "vots = []\n",
    "vot_p = []\n",
    "for row in vot_pdf:\n",
    "    vots.append(row[0])\n",
    "    vot_p.append(row[1])\n",
    "print(vot_p)\n",
    "print()\n",
    "vot_p=vot_p/np.sum(vot_p)\n",
    "print(vot_p)"
   ]
  },
  {
   "cell_type": "code",
   "execution_count": 4,
   "id": "028e4981",
   "metadata": {},
   "outputs": [
    {
     "name": "stdout",
     "output_type": "stream",
     "text": [
      "Hi!\n"
     ]
    },
    {
     "data": {
      "text/plain": [
       "0.00012183189392089844"
      ]
     },
     "execution_count": 4,
     "metadata": {},
     "output_type": "execute_result"
    }
   ],
   "source": [
    "# vot_p\n",
    "\n",
    "start_time = time.time()\n",
    "print(\"Hi!\")\n",
    "end_time = time.time()\n",
    "end_time - start_time"
   ]
  },
  {
   "cell_type": "code",
   "execution_count": null,
   "id": "0edd790d",
   "metadata": {},
   "outputs": [],
   "source": []
  },
  {
   "cell_type": "code",
   "execution_count": null,
   "id": "17ee2a7d",
   "metadata": {},
   "outputs": [],
   "source": []
  },
  {
   "cell_type": "markdown",
   "id": "21778d8d",
   "metadata": {},
   "source": [
    "# Travel time functions:"
   ]
  },
  {
   "cell_type": "code",
   "execution_count": 5,
   "id": "13af7e0a",
   "metadata": {},
   "outputs": [],
   "source": [
    "###### BPR Parameters ###### \n",
    "bpr_true_capacity = 66\n",
    "bpr_true_fftt = 60*22/67\n",
    "bpr_true_alpha = 0.2\n",
    "\n",
    "def true_bpr_cost(flow_val, fftt = bpr_true_fftt, capacity = bpr_true_capacity, alpha = bpr_true_alpha):\n",
    "    \"\"\"\n",
    "    Find the (exact) travel time on an edge given an edge flow\n",
    "    \"\"\"\n",
    "\n",
    "    return fftt * (1+alpha*(flow_val/capacity)**6)\n",
    "\n",
    "###### Approximation Parameters ###### \n",
    "const_multiplier = 1\n",
    "cap_thresh_multiplier = 0.7835\n",
    "apx_slope = 0.314\n",
    "\n",
    "def apx_bpr_cost(flow_val, fftt = bpr_true_fftt, capacity = bpr_true_capacity, \n",
    "                a = const_multiplier, cap_thresh = cap_thresh_multiplier, b = apx_slope):\n",
    "    \"\"\"\n",
    "    Find the (approximate) travel time on an edge given an edge flow\n",
    "    \"\"\"\n",
    "    \n",
    "    if flow_val <= cap_thresh*capacity:\n",
    "        return a*fftt\n",
    "    else:\n",
    "        return a*fftt + b*(flow_val - cap_thresh*capacity)"
   ]
  },
  {
   "cell_type": "code",
   "execution_count": 6,
   "id": "59ec1b27",
   "metadata": {},
   "outputs": [
    {
     "data": {
      "text/plain": [
       "<matplotlib.legend.Legend at 0x7f82b6fd9910>"
      ]
     },
     "execution_count": 6,
     "metadata": {},
     "output_type": "execute_result"
    },
    {
     "data": {
      "image/png": "[encoded data removed]",
      "text/plain": [
       "<Figure size 432x288 with 1 Axes>"
      ]
     },
     "metadata": {
      "needs_background": "light"
     },
     "output_type": "display_data"
    }
   ],
   "source": [
    "###### Check plots of BPR and approximation ###### \n",
    "multiplier = 100/4 # converts from 100 vehicles/hour --> vehicle/hour per lane\n",
    "\n",
    "x =  np.linspace(0,int(np.round(88*multiplier,0)),int(np.round(89*2*multiplier,0)))\n",
    "y = [true_bpr_cost(i, capacity = bpr_true_capacity*multiplier) for i in x]\n",
    "\n",
    "plt.plot(x, y,label='BPR')\n",
    "\n",
    "y_apx = [apx_bpr_cost(i,capacity = bpr_true_capacity*multiplier, b = apx_slope/multiplier) for i in x]\n",
    "\n",
    "plt.plot(x, y_apx,label='Piecewise Linear Approximation')\n",
    "plt.xlabel(\"Flow/lane (100 vehicles/hour)\")\n",
    "plt.ylabel(\"Travel time (minutes)\")\n",
    "plt.legend(loc='upper left')"
   ]
  },
  {
   "cell_type": "code",
   "execution_count": null,
   "id": "9e0d6a55",
   "metadata": {},
   "outputs": [],
   "source": []
  },
  {
   "cell_type": "markdown",
   "id": "4e4aa9bb",
   "metadata": {},
   "source": [
    "# Generate Demand Profile:"
   ]
  },
  {
   "cell_type": "code",
   "execution_count": 7,
   "id": "7151fa89",
   "metadata": {},
   "outputs": [
    {
     "name": "stdout",
     "output_type": "stream",
     "text": [
      "Tau:\n",
      " [ 0.  1.  2.  3.  4.  5.  6.  7.  8.  9. 10. 11. 12. 13. 14. 15. 16. 17.\n",
      " 18. 19. 20.]\n",
      "\n",
      "B:\n",
      " [ 0.  5. 10. 15. 20. 25. 30. 35. 40. 45. 50. 55. 60. 65. 70. 75. 80. 85.\n",
      " 90.]\n",
      "\n",
      "Eligible vot range:\n",
      " 0.02 (1.2 $/hr), 0.24 (14.399999999999999 $/hr)\n",
      "\n",
      "Ineligible vot range:\n",
      " 0.21(12.6 $/hr), 2.7 (162.0 $/hr)\n",
      "\n",
      "Mean vot:\n",
      " 44.4 $/hr; median: 36.6 $/hr\n"
     ]
    }
   ],
   "source": [
    "###### Specify parameters for problem ###### \n",
    "T = 5 # Time Horizon\n",
    "tau_arr = 20*np.linspace(0, 1, 21)[0:] # Toll discretization\n",
    "print('Tau:\\n {}'.format(tau_arr))\n",
    "print()\n",
    "\n",
    "B_arr = np.linspace(tau_arr[0], tau_arr[-3]*T,19) # Budget discretization \n",
    "print('B:\\n {}'.format(B_arr))\n",
    "print()\n",
    "\n",
    "num_total = 8000 # number of users\n",
    "num_eligible =int( num_total*.17) # number of eligible users\n",
    "num_ineligible = num_total-num_eligible # number of ineligible users\n",
    "\n",
    "###### VoT information ###### \n",
    "vot_all = np.sort(np.round(np.random.choice(vots, size = num_total, p=vot_p),2)/60) # generate baseline VoT for all users\n",
    "vot_all_days = np.empty(shape=(num_total,T)) \n",
    "count=0\n",
    "for v in vot_all:\n",
    "    if count < num_eligible:\n",
    "        vot_all_days[count,:]=[v for t in range(T)] # VoT of eligible users does not vary over time periods\n",
    "    else:\n",
    "        vot_all_days[count,:]=list((1+0.25*(np.random.random_sample(size=T)-0.5))*v) # VoT of ineligible users varies over time periods\n",
    "    count+=1\n",
    "    \n",
    "vot_eligible = vot_all_days[:num_eligible,:]\n",
    "vot_ineligible= vot_all_days[num_eligible:,:]\n",
    "\n",
    "print('Eligible vot range:\\n {} ({} $/hr), {} ({} $/hr)'.format(np.min(vot_eligible),60*np.min(np.round(vot_eligible,2)),np.max(np.round(vot_eligible,2)),60*np.max(np.round(vot_eligible,2))))\n",
    "print()\n",
    "print('Ineligible vot range:\\n {}({} $/hr), {} ({} $/hr)'.format(np.min(np.round(vot_ineligible,2)),60*np.min(np.round(vot_ineligible,2)),np.max(np.round(vot_ineligible,2)),60*np.max(np.round(vot_ineligible,2))))\n",
    "print()\n",
    "print('Mean vot:\\n {} $/hr; median: {} $/hr'.format(60*np.round(np.mean(vot_all_days),2),60*np.round(np.median(vot_all_days),2)))"
   ]
  },
  {
   "cell_type": "code",
   "execution_count": 8,
   "id": "55fa8d82",
   "metadata": {},
   "outputs": [
    {
     "data": {
      "text/plain": [
       "Text(0, 0.5, '% of population')"
      ]
     },
     "execution_count": 8,
     "metadata": {},
     "output_type": "execute_result"
    },
    {
     "data": {
      "image/png": "[encoded data removed]",
      "text/plain": [
       "<Figure size 432x288 with 1 Axes>"
      ]
     },
     "metadata": {
      "needs_background": "light"
     },
     "output_type": "display_data"
    }
   ],
   "source": [
    "###### Check VoT distribution ###### \n",
    "plt.hist(vot_all_days.flatten()*60,bins=41,density=True)\n",
    "plt.xlabel(\"Value of time ($/hour)\")\n",
    "plt.ylabel(\"% of population\")"
   ]
  },
  {
   "cell_type": "markdown",
   "id": "0c1517a9",
   "metadata": {},
   "source": [
    "# Define Social Objectives of Interest:"
   ]
  },
  {
   "cell_type": "code",
   "execution_count": 9,
   "id": "96a04a57",
   "metadata": {},
   "outputs": [
    {
     "name": "stdout",
     "output_type": "stream",
     "text": [
      "12.63\n",
      "18.76\n",
      "26.33\n",
      "30.06\n",
      "36.98\n",
      "43.64\n",
      "63.49\n",
      "68.45\n",
      "74.46\n",
      "79.99\n",
      "162.22\n"
     ]
    }
   ],
   "source": [
    "###### Estimate VoT percentiles for ineligible group ###### \n",
    "percentiles = {}\n",
    "thresh = 10\n",
    "for p in range(11):\n",
    "    print(np.round(np.percentile(vot_ineligible,p*10)*60,2))\n",
    "    percentiles[p*10]=np.percentile(vot_ineligible,p*10)"
   ]
  },
  {
   "cell_type": "code",
   "execution_count": null,
   "id": "4333c208",
   "metadata": {},
   "outputs": [],
   "source": [
    "### Frank: To modify below:\n",
    "\n",
    "demand_multiplier = [25,75]\n",
    "\n",
    "###### Evaluate Travel Time Metrics ###### \n",
    "def evaluate_avg_tt_in_budget(solution_, demand_multiplier):\n",
    "    \"\"\"\n",
    "    Average travel time, ineligible only\n",
    "    \"\"\"\n",
    "    ineligible_tt = sum(solution_['users_in'][k, i, j]*apx_bpr_cost(solution_['edge_flows'][i, j],\n",
    "                                                                    capacity = bpr_true_capacity*demand_multiplier[i],\n",
    "                                                                    b = apx_slope/demand_multiplier[i])\n",
    "                                 for k in range(num_ineligible) for i in range(2) for j in range(T))/(T*num_ineligible)\n",
    "    return ineligible_tt\n",
    "\n",
    "def evaluate_avg_tt_el_budget(solution_, demand_multiplier):\n",
    "    \"\"\"\n",
    "    Average travel time, eligible only\n",
    "    \"\"\"\n",
    "    \n",
    "    eligible_tt = sum((solution_['users_el'][ i, j]/num_eligible)*apx_bpr_cost(solution_['edge_flows'][i, j],\n",
    "                                                               capacity = bpr_true_capacity*demand_multiplier[i],\n",
    "                                                               b = apx_slope/demand_multiplier[i])\n",
    "                                for i in range(2) for j in range(T) )/(T*num_eligible)\n",
    "    return eligible_tt\n",
    "\n",
    "def evaluate_total_tt_budget(solution_,demand_multiplier):\n",
    "    \"\"\"\n",
    "    Total travel time  \n",
    "    \"\"\"\n",
    "    ineligible_tt = evaluate_avg_tt_in(solution_, demand_multiplier)*num_ineligible*T\n",
    "    eligible_tt = evaluate_avg_tt_el(solution_, demand_multiplier)*num_eligible*T\n",
    "    \n",
    "    return eligible_tt + ineligible_tt\n",
    "\n",
    "def evaluate_avg_travel_time_budget(solution_,demand_multiplier):\n",
    "    \"\"\"\n",
    "    Average travel time  \n",
    "    \"\"\"\n",
    "    return evaluate_total_tt(solution_,demand_multiplier)/(T*num_total)\n",
    "\n",
    "def evaluate_avg_express_tt_budget(solution_,demand_multiplier):\n",
    "    \"\"\"\n",
    "    Average travel time on express lane\n",
    "    \"\"\"\n",
    "    avg_EL_tt = sum(apx_bpr_cost(solution_['edge_flows'][0, j],capacity = bpr_true_capacity*demand_multiplier[0],\n",
    "                                 b = apx_slope/demand_multiplier[0]) for j in range(T))/T\n",
    "    return avg_EL_tt\n",
    "\n",
    "def evaluate_avg_general_tt_budget(solution_,demand_multiplier):\n",
    "    \"\"\"\n",
    "    Average travel time on general purpose lanes\n",
    "    \"\"\"\n",
    "    avg_GP_tt = sum(apx_bpr_cost(solution_['edge_flows'][1, j],capacity = bpr_true_capacity*demand_multiplier[1],\n",
    "                                 b = apx_slope/demand_multiplier[1]) for j in range(T))/T\n",
    "    return avg_GP_tt\n",
    "    \n",
    "def evaluate_avg_tt_savings_budget(solution_,demand_multiplier):\n",
    "    \"\"\"\n",
    "    Average travel time savings   \n",
    "    \"\"\"\n",
    "    delta_tt = sum(apx_bpr_cost(solution_['edge_flows'][1, j],capacity = bpr_true_capacity*demand_multiplier[1],\n",
    "                                 b = apx_slope/demand_multiplier[1]) - \n",
    "                   apx_bpr_cost(solution_['edge_flows'][0, j],capacity = bpr_true_capacity*demand_multiplier[0],\n",
    "                                b = apx_slope/demand_multiplier[0])  for j in range(T))/T\n",
    "    return delta_tt\n",
    "\n",
    "###### Evaluate Lane Usage Metrics ###### \n",
    "def evaulate_express_usage_budget(solution_,demand_multiplier):\n",
    "    \"\"\"\n",
    "    Average share of all/el/inel users using express lane\n",
    "    \"\"\"\n",
    "    share_eligible = sum(solution_['users_el'][ 0, j] for j in range(T))/(T*num_eligible)\n",
    "    share_ineligible = sum(solution_['users_in'][k, 0, j] for k in range(num_ineligible) for j in range(T))/(T*num_ineligible)\n",
    "    share_all = (sum(solution_['users_el'][ 0, j] for j in range(T))+\n",
    "               sum(solution_['users_in'][k, 0, j] for k in range(num_ineligible) for j in range(T)))/(T*(num_total))\n",
    "    return share_all, share_eligible, share_ineligible\n",
    "\n",
    "def evaluate_express_usage_percentile_inel_budget(solution_,demand_multiplier,percentiles):\n",
    "    share_ineligible={}\n",
    "    for p,thresh in percentiles.items():\n",
    "        # number of ineligible users in the group\n",
    "        if p >=10:\n",
    "            these_ineligible = sum(len(np.where((vot_ineligible[:,j]<=(thresh/60))&\n",
    "                                                (vot_ineligible[:,j]>(percentiles[p-10]/60)))[0]) for j in range(T))\n",
    "        else:\n",
    "            these_ineligible = sum(len(np.where((vot_ineligible[:,j]<=(thresh/60)))[0]) for j in range(T))\n",
    "        \n",
    "        share_ineligible[p]=0\n",
    "        for j in range(T):\n",
    "            if p>=10:\n",
    "                share_ineligible[p]+=sum(solution_['users_in'][k, 0, j] \n",
    "                                         for k in np.where((vot_ineligible[:,j]<=(thresh/60))&\n",
    "                                                           (vot_ineligible[:,j]>(percentiles[p-10]/60)))[0])\n",
    "            else:\n",
    "                share_ineligible[p]+=sum(solution_['users_in'][k, 0, j] \n",
    "                                         for k in np.where((vot_ineligible[:,j]<=(thresh/60)))[0])\n",
    "        if these_ineligible>0:\n",
    "            share_ineligible[p]=share_ineligible[p]/these_ineligible\n",
    "    return share_ineligible\n",
    "\n",
    "###### Evaluate Travel Cost Metrics ###### \n",
    "def evaluate_total_travel_cost_in_budget(solution_, tau, demand_multiplier):\n",
    "    \"\"\"\n",
    "    Total travel cost for ineligible only\n",
    "    \"\"\"\n",
    "    ineligible_travel_cost = sum(solution_['users_in'][k, i, j]*vot_ineligible[k, j]*apx_bpr_cost(solution_['edge_flows'][i, j],\n",
    "                                                                                                  capacity = bpr_true_capacity*demand_multiplier[i],\n",
    "                                                                                                  b = apx_slope/demand_multiplier[i])\n",
    "                                 for k in range(num_ineligible) for i in range(2) for j in range(T))\n",
    "    toll_revenue = evaulate_total_revenue(solution_, tau, demand_multiplier)\n",
    "    return ineligible_travel_cost + toll_revenue\n",
    "\n",
    "def evaluate_total_travel_cost_el_budget(solution_, tau, demand_multiplier):\n",
    "    \"\"\"\n",
    "    Total travel cost for eligible only\n",
    "    \"\"\"\n",
    "    eligible_travel_cost = sum((solution_['users_el'][ i, j]/num_eligible)*vot_eligible[k, j]*apx_bpr_cost(solution_['edge_flows'][i, j],\n",
    "                                                                                                           capacity = bpr_true_capacity*demand_multiplier[i],\n",
    "                                                                                                           b = apx_slope/demand_multiplier[i])  \n",
    "                               for k in range(num_eligible) for i in range(2) for j in range(T))\n",
    "    return eligible_travel_cost\n",
    "\n",
    "def evaulate_total_revenue_budget(solution_, tau, demand_multiplier):\n",
    "    \"\"\"\n",
    "    Total toll revenue   \n",
    "    \"\"\"\n",
    "    total_toll_revenue = sum(tau*solution_['users_in'][k, 0, j] for k in range(num_ineligible) for j in range(T))\n",
    "    return total_toll_revenue\n",
    "\n",
    "def evaluate_total_travel_cost_percentile_inel_budget(solution_,tau,demand_multiplier,percentiles):\n",
    "    \"\"\"\n",
    "    Total travel cost for each ineligible group percentile\n",
    "    \"\"\"\n",
    "    social_cost={}\n",
    "    for p,thresh in percentiles.items():\n",
    "        social_cost[p]=0\n",
    "        for j in range(T):\n",
    "            if p>=10:\n",
    "                social_cost[p]+=sum(solution_['users_in'][k, i, j]*vot_ineligible[k, j]*apx_bpr_cost(\n",
    "                    solution_['edge_flows'][i, j],capacity = bpr_true_capacity*demand_multiplier[i], b = apx_slope/demand_multiplier[i]) \n",
    "                                    for k in np.where((vot_ineligible[:,j]<=(thresh/60))&\n",
    "                                                      (vot_ineligible[:,j]>(percentiles[p-10]/60)))[0] for i in range(2))\n",
    "                \n",
    "                social_cost[p]+=sum(solution_['users_in'][k, 0, j]*tau for k in np.where((vot_ineligible[:,j]<=(thresh/60))&\n",
    "                                                                                         (vot_ineligible[:,j]>(percentiles[p-10]/60)))[0] )\n",
    "            else:\n",
    "                social_cost[p]+=sum(solution_['users_in'][k, i, j]*vot_ineligible[k, j]*apx_bpr_cost(\n",
    "                    solution_['edge_flows'][i, j],capacity = bpr_true_capacity*demand_multiplier[i],b = apx_slope/demand_multiplier[i])\n",
    "                                    for k in np.where((vot_ineligible[:,j]<=(thresh/60)))[0] for i in range(2))\n",
    "                social_cost[p]+=sum(solution_['users_in'][k, 0, j]*tau for k in np.where((vot_ineligible[:,j]<=(thresh/60)))[0])\n",
    "    return social_cost\n",
    "\n",
    "def evaluate_avg_travel_cost_percentile_inel_budget(social_cost_by_percentile):\n",
    "    \"\"\"\n",
    "    Average travel cost for each ineligible group percentile  \n",
    "    \"\"\"\n",
    "    avg_social_cost={}\n",
    "    for p,thresh in percentiles.items():\n",
    "        if p >=10:\n",
    "            these_ineligible = sum(len(np.where((vot_ineligible[:,j]<=(thresh/60))&\n",
    "                                                (vot_ineligible[:,j]>(percentiles[p-10]/60)))[0]) for j in range(T))\n",
    "        else:\n",
    "            these_ineligible = sum(len(np.where((vot_ineligible[:,j]<=(thresh/60)))[0]) for j in range(T))\n",
    "        if these_ineligible>0:\n",
    "            avg_social_cost[p]=social_cost_by_percentile[p]/these_ineligible\n",
    "        else:\n",
    "            avg_social_cost[p]=0\n",
    "    return avg_social_cost"
   ]
  },
  {
   "cell_type": "code",
   "execution_count": null,
   "id": "0148ca8e",
   "metadata": {},
   "outputs": [],
   "source": []
  },
  {
   "cell_type": "code",
   "execution_count": null,
   "id": "de0d4260",
   "metadata": {},
   "outputs": [],
   "source": []
  },
  {
   "cell_type": "code",
   "execution_count": null,
   "id": "37d99b0f",
   "metadata": {},
   "outputs": [],
   "source": []
  },
  {
   "cell_type": "code",
   "execution_count": null,
   "id": "45c34faf",
   "metadata": {},
   "outputs": [],
   "source": []
  },
  {
   "cell_type": "code",
   "execution_count": null,
   "id": "93d8a948",
   "metadata": {},
   "outputs": [],
   "source": []
  },
  {
   "cell_type": "markdown",
   "id": "3f8ada43",
   "metadata": {},
   "source": [
    "# Solver 1, Budget:"
   ]
  },
  {
   "cell_type": "code",
   "execution_count": null,
   "id": "b364d94c",
   "metadata": {},
   "outputs": [],
   "source": [
    "def OptPL_budget(toll, B, T = T, num_eligible = num_eligible, num_ineligible = num_ineligible, \n",
    "            vot_ineligible = vot_ineligible, alpha = bpr_true_alpha, fftt_1 = bpr_true_fftt, \n",
    "              fftt_2 = bpr_true_fftt, c_1 = bpr_true_capacity, c_2 = bpr_true_capacity, \n",
    "             a = const_multiplier, cap_thresh = cap_thresh_multiplier, b_1 = apx_slope, b_2 = apx_slope):\n",
    "    \"\"\"\n",
    "    Function to solve convex optimization problem given a particular toll and budget value\n",
    "    \"\"\"\n",
    "    \n",
    "    # Initialize model\n",
    "    m1 = gp.Model()\n",
    "    # Add variables to model\n",
    "#     users_in = m1.addVars(num_ineligible, 3, T, name = 'ineligible_val', lb = 0.0, ub = 2.0)\n",
    "#     edge_flows = m1.addVars(2, T, name = 'edge_flows', lb = 0.0, ub = num_ineligible * 2.0)\n",
    "#     users_el = m1.addVars(3, T, name = 'eligible_allocation', lb = 0.0, ub = 2.0)\n",
    "    # Add variables for piecewise affine approximation\n",
    "#     eps_flows = m1.addVars(2, T, name = 'eps_flows', lb = 0.0, ub = num_ineligible * 2.0)\n",
    "    \n",
    "#     # Add variables for piecewise affine approximation\n",
    "#     eps_flows = m1.addVars(2, T, name = 'eps_flows', lb = 0.0, ub = num_ineligible * 2.0)\n",
    "    users_in = m1.addVars(num_ineligible, 3, T, name = 'ineligible_val', lb = -10000.0, ub = 10000.0)\n",
    "    edge_flows = m1.addVars(2, T, name = 'edge_flows', lb = -10000.0, ub = 10000.0)\n",
    "    users_el = m1.addVars(3, T, name = 'eligible_allocation', lb = -10000.0, ub = 10000.0)\n",
    "    eps_flows = m1.addVars(2, T, name = 'eps_flows', lb = -10000.0, ub = 10000.0)   \n",
    "\n",
    "    ## Add constraints to Model \n",
    "    \n",
    "    # Total edge flow, express lane:\n",
    "    m1.addConstrs((edge_flows[0, t] == sum(users_in[i, 0, t] for i in range(num_ineligible)) + \\\n",
    "                  users_el[0, t] + sum(users_in[i, 1, t] for i in range(num_ineligible)) + \\\n",
    "                  users_el[1, t] for t in range(T)))\n",
    "    # Total edge flow, general purpose lane:\n",
    "    m1.addConstrs((edge_flows[1, t] == sum(users_in[i, 2, t] for i in range(num_ineligible)) + \\\n",
    "                  users_el[2, t] for t in range(T)))\n",
    "    \n",
    "    # Non-negativity of flows, and zero flow for \"eligible users in ineligible groups\":\n",
    "    m1.addConstrs((users_in[i, j, t]>=0 for i in range(num_ineligible) for j in range(3) for t in range(T)))\n",
    "    m1.addConstrs((users_in[i, 0, t]==0 for i in range(num_ineligible) for t in range(T)))\n",
    "    m1.addConstrs((users_el[j, t]>=0 for j in range(3) for t in range(T)))\n",
    "#     # Just to compare with original code:\n",
    "#     m1.addConstrs((users_el[1, t]==0 for t in range(T)))\n",
    "    \n",
    "    # Every eligible and ineligible user is assigned to one of three options: \\\n",
    "    # (express paying, express with credit, non-express)\n",
    "    m1.addConstrs((sum(users_in[i, j, t] for j in range(3)) == 1 for i in range(num_ineligible) for t in range(T)))\n",
    "    m1.addConstrs((sum(users_el[j, t] for j in range(3)) == num_eligible for t in range(T)))\n",
    "    \n",
    "    # Budget constraint satisfaction:\n",
    "    if toll != 0:\n",
    "        m1.addConstr((sum(toll*users_el[0, t] for t in range(T)) <= B * num_eligible))\n",
    "        \n",
    "    # Piecewise affine approximation:\n",
    "    m1.addConstrs((eps_flows[j, t] >= 0 for j in range(2) for t in range(T))) # Must be at least 0\n",
    "    m1.addConstrs((eps_flows[0, t] >= edge_flows[0, t] - cap_thresh*c_1 for t in range(T))) # Must be at least flow - capacity\n",
    "    m1.addConstrs((eps_flows[1, t] >= edge_flows[1, t] - cap_thresh*c_2 for t in range(T))) # Must be at least flow - capacity\n",
    "    \n",
    "    # Set Objective\n",
    "    m1.setObjective(sum( a*fftt_1*(edge_flows[0, t]) + b_1*(eps_flows[0, t]**2)/2  \n",
    "                        + a*fftt_2*(edge_flows[1, t]) + b_2*(eps_flows[1, t]**2)/2 \n",
    "                        + sum( toll*users_in[i,1,t]/vot_ineligible[i,t] for i in range(num_ineligible)) \n",
    "        for t in range(T)), GRB.MINIMIZE)\n",
    "    \n",
    "    m1.update()\n",
    "    \n",
    "    return m1"
   ]
  },
  {
   "cell_type": "code",
   "execution_count": null,
   "id": "0ad77663",
   "metadata": {},
   "outputs": [],
   "source": [
    "# vot_eligible[:, 0]"
   ]
  },
  {
   "cell_type": "code",
   "execution_count": null,
   "id": "655f435d",
   "metadata": {},
   "outputs": [],
   "source": [
    "# Solver 2, Discount:\n",
    "\n",
    "def OptPL_discount(toll, discount_ratio, T = T, num_eligible = num_eligible, num_ineligible = num_ineligible, \n",
    "            vot_ineligible = vot_ineligible, alpha = bpr_true_alpha, fftt_1 = bpr_true_fftt, \n",
    "              fftt_2 = bpr_true_fftt, c_1 = bpr_true_capacity, c_2 = bpr_true_capacity, \n",
    "             a = const_multiplier, cap_thresh = cap_thresh_multiplier, b_1 = apx_slope, b_2 = apx_slope):\n",
    "    \"\"\"\n",
    "    Function to solve convex optimization problem given a particular toll and budget value\n",
    "    \"\"\"\n",
    "    \n",
    "    # Initialize model\n",
    "    m1 = gp.Model()\n",
    "    # Add variables to model\n",
    "#     users_in = m1.addVars(num_ineligible, 3, T, name = 'ineligible_val', lb = 0.0, ub = 2.0)\n",
    "#     edge_flows = m1.addVars(2, T, name = 'edge_flows', lb = 0.0, ub = num_ineligible * 2.0)\n",
    "#     users_el = m1.addVars(3, T, name = 'eligible_allocation', lb = 0.0, ub = 2.0)\n",
    "    # Add variables for piecewise affine approximation\n",
    "#     eps_flows = m1.addVars(2, T, name = 'eps_flows', lb = 0.0, ub = num_ineligible * 2.0)\n",
    "    \n",
    "#     # Add variables for piecewise affine approximation\n",
    "#     eps_flows = m1.addVars(2, T, name = 'eps_flows', lb = 0.0, ub = num_ineligible * 2.0)\n",
    "    users_in = m1.addVars(num_ineligible, 2, T, name = 'ineligible_val', lb = -10000.0, ub = 10000.0)\n",
    "    edge_flows = m1.addVars(2, T, name = 'edge_flows', lb = -10000.0, ub = 10000.0)\n",
    "    users_el = m1.addVars(2, T, name = 'eligible_allocation', lb = -10000.0, ub = 10000.0)\n",
    "    eps_flows = m1.addVars(2, T, name = 'eps_flows', lb = -10000.0, ub = 10000.0)   \n",
    "\n",
    "    ## Add constraints to Model \n",
    "    \n",
    "    # Total edge flow, express and general purpose lanes:\n",
    "    m1.addConstrs((edge_flows[j, t] == sum(users_in[i, j, t] for i in range(num_ineligible)) + \\\n",
    "                  users_el[j, t] for j in range(2) for t in range(T)))\n",
    "    \n",
    "    # Non-negativity of flows, and zero flow for \"eligible users in ineligible groups\":\n",
    "    m1.addConstrs((users_in[i, j, t]>=0 for i in range(num_ineligible) for j in range(2) for t in range(T)))\n",
    "    m1.addConstrs((users_el[j, t]>=0 for j in range(2) for t in range(T)))\n",
    "    \n",
    "    # Every eligible and ineligible user is assigned to one of three options: \\\n",
    "    # (express paying, express with credit, non-express)\n",
    "    m1.addConstrs((sum(users_in[i, j, t] for j in range(2)) == 1 for i in range(num_ineligible) for t in range(T)))\n",
    "    m1.addConstrs((sum(users_el[j, t] for j in range(2)) == num_eligible for t in range(T)))\n",
    "        \n",
    "    # Piecewise affine approximation:\n",
    "    m1.addConstrs((eps_flows[j, t] >= 0 for j in range(2) for t in range(T))) # Must be at least 0\n",
    "    m1.addConstrs((eps_flows[0, t] >= edge_flows[0, t] - cap_thresh*c_1 for t in range(T))) # Must be at least flow - capacity\n",
    "    m1.addConstrs((eps_flows[1, t] >= edge_flows[1, t] - cap_thresh*c_2 for t in range(T))) # Must be at least flow - capacity\n",
    "    \n",
    "    \n",
    "    ## To edit below:\n",
    "    # Set Objective\n",
    "    m1.setObjective(sum( a*fftt_1*(edge_flows[0, t]) + b_1*(eps_flows[0, t]**2)/2  \n",
    "                        + a*fftt_2*(edge_flows[1, t]) + b_2*(eps_flows[1, t]**2)/2 \n",
    "                        + sum( toll*users_in[i,0,t]/vot_ineligible[i,t] for i in range(num_ineligible))\n",
    "                        + sum( (1 - discount_ratio)*toll*users_el[0,t]/vot_eligible[i,t] for i in range(num_eligible))\n",
    "        for t in range(T)), GRB.MINIMIZE)\n",
    "    \n",
    "    m1.update()\n",
    "    \n",
    "    return m1"
   ]
  },
  {
   "cell_type": "code",
   "execution_count": null,
   "id": "91c88ac5",
   "metadata": {},
   "outputs": [],
   "source": [
    "def _extract_solution_discount(m, num_ineligible = num_ineligible):\n",
    "    \"\"\"\n",
    "    Get solution from optimization model\n",
    "    \"\"\"\n",
    "    users_in = [v.x for v in m.getVars() if v.VarName.find(\"ineligible_val\") != -1]\n",
    "    users_el = [v.x for v in m.getVars() if v.VarName.find(\"eligible_allocation\") != -1]\n",
    "    edge_flows = [v.x for v in m.getVars() if v.VarName.find(\"edge_flows\") != -1]\n",
    "    eps_flows = [v.x for v in m.getVars() if v.VarName.find(\"eps_flows\") != -1]\n",
    "    \n",
    "    users_in = np.reshape(users_in, (num_ineligible, 2, T))\n",
    "    users_el = np.reshape(users_el, (2, T))\n",
    "    edge_flows = np.reshape(edge_flows, (2, T))\n",
    "    eps_flows = np.reshape(eps_flows, (2, T))\n",
    "\n",
    "    solution = {\n",
    "        \"users_in\": users_in,\n",
    "        \"users_el\": users_el,\n",
    "        \"edge_flows\": edge_flows,\n",
    "        \"eps_flows\": eps_flows\n",
    "    }\n",
    "    return solution"
   ]
  },
  {
   "cell_type": "code",
   "execution_count": null,
   "id": "8ffb5ccd",
   "metadata": {},
   "outputs": [],
   "source": []
  },
  {
   "cell_type": "markdown",
   "id": "94991667",
   "metadata": {},
   "source": [
    "# Solve Optimization Problem for Discretized Grid:"
   ]
  },
  {
   "cell_type": "markdown",
   "id": "e51695e1",
   "metadata": {},
   "source": [
    "## Case 1 - Budget (Gurobi):"
   ]
  },
  {
   "cell_type": "code",
   "execution_count": null,
   "id": "30265a47",
   "metadata": {},
   "outputs": [],
   "source": [
    "###### Initialize matrices for results ###### \n",
    "# Optimization problems are iterated over tolls budgets\n",
    "\n",
    "avg_tt_in_budget = np.zeros((len(tau_arr), len(B_arr)))\n",
    "avg_tt_el_budget = np.zeros((len(tau_arr), len(B_arr)))\n",
    "total_tt_budget = np.zeros((len(tau_arr), len(B_arr)))\n",
    "avg_tt_budget = np.zeros((len(tau_arr), len(B_arr)))\n",
    "avg_EL_tt_budget = np.zeros((len(tau_arr), len(B_arr)))\n",
    "avg_GP_tt_budget = np.zeros((len(tau_arr), len(B_arr)))\n",
    "avg_tt_savings_budget = np.zeros((len(tau_arr), len(B_arr)))\n",
    "\n",
    "exp_all_budget = np.zeros((len(tau_arr), len(B_arr)))\n",
    "exp_el_budget = np.zeros((len(tau_arr), len(B_arr)))\n",
    "exp_in_budget = np.zeros((len(tau_arr), len(B_arr)))\n",
    "exp_in_p_budget = {10*p:np.zeros((len(tau_arr),len(B_arr))) for p in range(11)}\n",
    "\n",
    "total_tc_in_budget = np.zeros((len(tau_arr), len(B_arr)))\n",
    "total_tc_el_budget = np.zeros((len(tau_arr), len(B_arr)))\n",
    "total_tr_budget = np.zeros((len(tau_arr), len(B_arr)))\n",
    "total_tc_in_p_budget = {10*p:np.zeros((len(tau_arr),len(B_arr))) for p in range(11)}\n",
    "avg_tc_in_p_budget = {10*p:np.zeros((len(tau_arr),len(B_arr))) for p in range(11)}"
   ]
  },
  {
   "cell_type": "code",
   "execution_count": null,
   "id": "d9123c11",
   "metadata": {
    "scrolled": true
   },
   "outputs": [],
   "source": [
    "time_1 = time.time()\n",
    "\n",
    "toll = 1.0\n",
    "budget = 3.0\n",
    "demand_multiplier = [25,75]\n",
    "\n",
    "# num_ineligible_trunc = num_ineligible\n",
    "\n",
    "# Truncating num_ineligible to enable comparison with CVXPY (which is very, very slow):\n",
    "# num_ineligible_trunc = 200\n",
    "# num_ineligible_trunc = int(num_ineligible/3)\n",
    "num_ineligible_trunc = num_ineligible\n",
    "\n",
    "# print(\"num_total:\", num_total)\n",
    "# print(\"num_eligible:\", num_eligible)\n",
    "# print(\"num_ineligible:\", num_ineligible)\n",
    "# print(\"toll:\", toll)\n",
    "# print(\"budget:\", budget)\n",
    "# print(\"num_eligible:\", num_eligible)\n",
    "# print(\"num_ineligible_trunc:\", num_ineligible_trunc)\n",
    "# print(\"vot_ineligible:\", vot_ineligible)\n",
    "# print(\"alpha:\", bpr_true_alpha)\n",
    "# print(\"fftt_1:\", bpr_true_fftt)\n",
    "# print(\"fftt_2:\", bpr_true_fftt)\n",
    "# print(\"c_1:\", bpr_true_capacity*demand_multiplier[0])\n",
    "# print(\"c_2:\", bpr_true_capacity*demand_multiplier[1])\n",
    "# print(\"a:\", const_multiplier)\n",
    "# print(\"cap_thresh:\", cap_thresh_multiplier)\n",
    "# print(\"b_1:\", apx_slope/demand_multiplier[0])\n",
    "# print(\"b_2:\", apx_slope/demand_multiplier[1])\n",
    "# print()\n",
    "\n",
    "\n",
    "m_budget = OptPL_budget(toll, budget, T = T, num_eligible = num_eligible, num_ineligible = num_ineligible_trunc, \n",
    "            vot_ineligible = vot_ineligible, alpha = bpr_true_alpha, fftt_1 = bpr_true_fftt, \n",
    "              fftt_2 = bpr_true_fftt, c_1 = bpr_true_capacity*demand_multiplier[0], c_2 = bpr_true_capacity*demand_multiplier[1], \n",
    "             a = const_multiplier, cap_thresh = cap_thresh_multiplier, b_1 = apx_slope/demand_multiplier[0], b_2 = apx_slope/(demand_multiplier[1]))\n",
    "\n",
    "m_budget.optimize()\n",
    "\n",
    "time_2 = time.time()\n",
    "print(\"Run time:\", time_2 - time_1)"
   ]
  },
  {
   "cell_type": "code",
   "execution_count": null,
   "id": "7093420f",
   "metadata": {},
   "outputs": [],
   "source": [
    "solution_gurobi = _extract_solution_budget(m_budget)"
   ]
  },
  {
   "cell_type": "code",
   "execution_count": null,
   "id": "04f65ba7",
   "metadata": {},
   "outputs": [],
   "source": [
    "print(solution_gurobi[\"edge_flows\"])\n",
    "print()\n",
    "print(solution_gurobi[\"eps_flows\"])\n",
    "\n"
   ]
  },
  {
   "cell_type": "code",
   "execution_count": null,
   "id": "f103ec08",
   "metadata": {},
   "outputs": [],
   "source": [
    "# print(\"num_total:\", num_total)\n",
    "# print(\"num_eligible:\", num_eligible)\n",
    "# print(\"num_ineligible:\", num_ineligible)\n",
    "\n"
   ]
  },
  {
   "cell_type": "code",
   "execution_count": null,
   "id": "30b00d7d",
   "metadata": {},
   "outputs": [],
   "source": []
  },
  {
   "cell_type": "markdown",
   "id": "86aa407d",
   "metadata": {},
   "source": [
    "## Case 2 - Discount (Gurobi):"
   ]
  },
  {
   "cell_type": "code",
   "execution_count": null,
   "id": "1d555500",
   "metadata": {},
   "outputs": [],
   "source": [
    "time_1 = time.time()\n",
    "\n",
    "toll = 1.0\n",
    "budget = 3.0\n",
    "demand_multiplier = [25,75]\n",
    "\n",
    "# num_ineligible_trunc = num_ineligible\n",
    "\n",
    "# Truncating num_ineligible to enable comparison with CVXPY (which is very, very slow):\n",
    "# num_ineligible_trunc = 200\n",
    "# num_ineligible_trunc = int(num_ineligible/3)\n",
    "num_ineligible_trunc = num_ineligible\n",
    "discount_ratio = budget/(toll*T)\n",
    "\n",
    "# print(\"num_total:\", num_total)\n",
    "# print(\"num_eligible:\", num_eligible)\n",
    "# print(\"num_ineligible:\", num_ineligible)\n",
    "# print(\"toll:\", toll)\n",
    "# print(\"budget:\", budget)\n",
    "# print(\"num_eligible:\", num_eligible)\n",
    "# print(\"num_ineligible_trunc:\", num_ineligible_trunc)\n",
    "# print(\"vot_ineligible:\", vot_ineligible)\n",
    "# print(\"alpha:\", bpr_true_alpha)\n",
    "# print(\"fftt_1:\", bpr_true_fftt)\n",
    "# print(\"fftt_2:\", bpr_true_fftt)\n",
    "# print(\"c_1:\", bpr_true_capacity*demand_multiplier[0])\n",
    "# print(\"c_2:\", bpr_true_capacity*demand_multiplier[1])\n",
    "# print(\"a:\", const_multiplier)\n",
    "# print(\"cap_thresh:\", cap_thresh_multiplier)\n",
    "# print(\"b_1:\", apx_slope/demand_multiplier[0])\n",
    "# print(\"b_2:\", apx_slope/demand_multiplier[1])\n",
    "# print()\n",
    "\n",
    "\n",
    "m_discount = OptPL_discount(toll, discount_ratio, T = T, num_eligible = num_eligible, num_ineligible = num_ineligible_trunc, \n",
    "            vot_ineligible = vot_ineligible, alpha = bpr_true_alpha, fftt_1 = bpr_true_fftt, \n",
    "              fftt_2 = bpr_true_fftt, c_1 = bpr_true_capacity*demand_multiplier[0], c_2 = bpr_true_capacity*demand_multiplier[1], \n",
    "             a = const_multiplier, cap_thresh = cap_thresh_multiplier, b_1 = apx_slope/demand_multiplier[0], b_2 = apx_slope/(demand_multiplier[1]))\n",
    "\n",
    "m_discount.optimize()\n",
    "\n",
    "time_2 = time.time()\n",
    "print(\"Run time:\", time_2 - time_1)"
   ]
  },
  {
   "cell_type": "code",
   "execution_count": null,
   "id": "2a52dd78",
   "metadata": {},
   "outputs": [],
   "source": [
    "solution_discount = _extract_solution_discount(m_discount)"
   ]
  },
  {
   "cell_type": "code",
   "execution_count": null,
   "id": "839598bd",
   "metadata": {},
   "outputs": [],
   "source": [
    "print(solution_discount[\"edge_flows\"])\n",
    "print()\n",
    "print(solution_discount[\"eps_flows\"])\n",
    "\n"
   ]
  },
  {
   "cell_type": "code",
   "execution_count": null,
   "id": "c3bcfdfd",
   "metadata": {},
   "outputs": [],
   "source": []
  },
  {
   "cell_type": "code",
   "execution_count": null,
   "id": "0ba43373",
   "metadata": {},
   "outputs": [],
   "source": []
  },
  {
   "cell_type": "markdown",
   "id": "77c12ddd",
   "metadata": {},
   "source": [
    "## CVXPY:"
   ]
  },
  {
   "cell_type": "markdown",
   "id": "f3eb8a55",
   "metadata": {},
   "source": [
    "## Case 1, Budget:"
   ]
  },
  {
   "cell_type": "code",
   "execution_count": null,
   "id": "d8d077a2",
   "metadata": {},
   "outputs": [],
   "source": [
    "# m_budget = OptPL_budget(toll, budget, T = T, num_eligible = num_eligible, num_ineligible = num_ineligible_trunc, \n",
    "#             vot_ineligible = vot_ineligible, alpha = bpr_true_alpha, fftt_1 = bpr_true_fftt, \n",
    "#               fftt_2 = bpr_true_fftt, c_1 = bpr_true_capacity*demand_multiplier[0], c_2 = bpr_true_capacity*demand_multiplier[1], \n",
    "#              a = const_multiplier, cap_thresh = cap_thresh_multiplier, b_1 = apx_slope/demand_multiplier[0], b_2 = apx_slope/(demand_multiplier[1]))"
   ]
  },
  {
   "cell_type": "code",
   "execution_count": null,
   "id": "a367783a",
   "metadata": {},
   "outputs": [],
   "source": [
    "alpha = bpr_true_alpha\n",
    "fftt_1 = bpr_true_fftt\n",
    "fftt_2 = bpr_true_fftt\n",
    "c_1 = bpr_true_capacity*demand_multiplier[0]\n",
    "c_2 = bpr_true_capacity*demand_multiplier[1]\n",
    "a = const_multiplier\n",
    "cap_thresh = cap_thresh_multiplier\n",
    "b_1 = apx_slope/demand_multiplier[0]\n",
    "b_2 = apx_slope/demand_multiplier[1]\n",
    "\n",
    "\n",
    "time_1 = time.time()\n",
    "\n",
    "users_in = []\n",
    "for i in range(num_ineligible_trunc):\n",
    "    users_in += [cp.Variable((3, T))]\n",
    "edge_flows = cp.Variable((2, T))\n",
    "users_el = cp.Variable((3, T))\n",
    "eps_flows = cp.Variable((2, T))\n",
    "\n",
    "constraints = []\n",
    "\n",
    "# Total edge flow, express lane:\n",
    "print(\"Adding total edge flow, express lane constraints.\")\n",
    "constraints += [(edge_flows[0, t] == sum(users_in[i][0, t] for i in range(num_ineligible_trunc)) + \\\n",
    "              users_el[0, t] + sum(users_in[i][1, t] for i in range(num_ineligible_trunc)) + \\\n",
    "              users_el[1, t]) for t in range(T)]\n",
    "\n",
    "# Total edge flow, general purpose lane:\n",
    "print(\"Adding total edge flow, general purpose lane constraints.\")\n",
    "constraints += [(edge_flows[1, t] == sum(users_in[i][2, t] for i in range(num_ineligible_trunc)) + \\\n",
    "              users_el[2, t]) for t in range(T)]\n",
    "\n",
    "# Non-negativity of flows, and zero flow for \"eligible users in ineligible groups:\n",
    "print(\"Adding non-negativity of flows constraints.\")\n",
    "constraints += [(users_in[i][j, t] >= 0) for i in range(num_ineligible_trunc) for j in range(3) for t in range(T)]\n",
    "constraints += [(users_in[i][0, t] == 0) for i in range(num_ineligible_trunc) for t in range(T)]\n",
    "constraints += [(users_el[j, t] >= 0) for j in range(3) for t in range(T)]\n",
    "\n",
    "# Every eligible and ineligible user is assigned to one of three options: \\\n",
    "# (express paying, express with credit, non-express)\n",
    "print(\"Adding user assignment constraints.\")\n",
    "constraints += [(sum(users_in[i][j, t] for j in range(3)) == 1) for i in range(num_ineligible_trunc) for t in range(T)]\n",
    "constraints += [(sum(users_el[j, t] for j in range(3)) == 1) for t in range(T)]\n",
    "\n",
    "# Budget constraint satisfaction:\n",
    "print(\"Adding budget satisfaction constraints.\")\n",
    "if toll != 0:\n",
    "    constraints += [sum(toll*users_el[0, t] for t in range(T)) <= budget * num_eligible] \n",
    "    \n",
    "#     m1.addConstr((sum(toll*users_el[0, t] for t in range(T)) <= B*num_eligible))\n",
    "\n",
    "# Piecewise affine approximation:\n",
    "print(\"Adding piecewise affine approximation constraints.\")\n",
    "constraints += [(eps_flows[j, t] >= 0) for j in range(2) for t in range(T)]\n",
    "constraints += [(eps_flows[0, t] >= edge_flows[0, t] - cap_thresh*c_1) for t in range(T)]\n",
    "constraints += [(eps_flows[1, t] >= edge_flows[1, t] - cap_thresh*c_2) for t in range(T)]\n",
    "\n",
    "# Set Objective\n",
    "print(\"Setting objective.\")\n",
    "objective = cp.Minimize(sum( a*fftt_1*(edge_flows[0, t]) + b_1*(eps_flows[0, t]**2)/2 \\\n",
    "                    + a*fftt_2*(edge_flows[1, t]) + b_2*(eps_flows[1, t]**2)/2 \\\n",
    "                    + sum( toll*users_in[i][1,t]/vot_ineligible[i,t] for i in range(num_ineligible_trunc)) \\\n",
    "    for t in range(T)))\n",
    "\n",
    "\n",
    "# Solve problem\n",
    "print(\"Forming problem.\")\n",
    "prob = cp.Problem(objective, constraints)\n",
    "\n",
    "print(\"Solving problem.\")\n",
    "result = prob.solve()\n",
    "\n",
    "time_2 = time.time()\n",
    "print()\n",
    "print(\"Run time:\", time_2 - time_1)"
   ]
  },
  {
   "cell_type": "code",
   "execution_count": null,
   "id": "48707590",
   "metadata": {},
   "outputs": [],
   "source": [
    "\n",
    "users_in_values_cvxpy = np.zeros((num_ineligible_trunc, 3, T))\n",
    "for i in range(num_ineligible_trunc):\n",
    "    users_in_values_cvxpy[i, :, :] = users_in[i].value\n",
    "\n",
    "solution_cvxpy = {\n",
    "    \"users_in\": users_in_values_cvxpy,\n",
    "    \"users_el\": users_el.value,\n",
    "    \"edge_flows\": edge_flows.value,\n",
    "    \"eps_flows\": eps_flows.value\n",
    "}\n"
   ]
  },
  {
   "cell_type": "code",
   "execution_count": null,
   "id": "8b1e4710",
   "metadata": {},
   "outputs": [],
   "source": [
    "print(solution_gurobi[\"edge_flows\"])\n",
    "print()\n",
    "print(solution_cvxpy[\"edge_flows\"])\n",
    "print(\"\\n\")\n",
    "\n",
    "print(solution_gurobi[\"eps_flows\"])\n",
    "print()\n",
    "print(solution_cvxpy[\"eps_flows\"])"
   ]
  },
  {
   "cell_type": "code",
   "execution_count": null,
   "id": "b4fb7dfa",
   "metadata": {},
   "outputs": [],
   "source": []
  },
  {
   "cell_type": "markdown",
   "id": "83adaca9",
   "metadata": {},
   "source": [
    "## Case 2, Discount:"
   ]
  },
  {
   "cell_type": "code",
   "execution_count": null,
   "id": "66b4a79d",
   "metadata": {},
   "outputs": [],
   "source": []
  },
  {
   "cell_type": "code",
   "execution_count": null,
   "id": "7765f661",
   "metadata": {},
   "outputs": [],
   "source": []
  },
  {
   "cell_type": "markdown",
   "id": "7c887f08",
   "metadata": {},
   "source": [
    "## Sample CVXPY code:"
   ]
  },
  {
   "cell_type": "code",
   "execution_count": null,
   "id": "9ac59fc6",
   "metadata": {},
   "outputs": [],
   "source": [
    "x = cp.Variable(2)\n",
    "y = cp.Variable(2)\n",
    "v_fixed = np.array([0, 1])\n",
    "objective = cp.Minimize(cp.sum_squares(x - y) + cp.sum_squares(x - v_fixed))\n",
    "constraints = []\n",
    "# for i in range(2):\n",
    "#     constraints += [x[i] >= 2]\n",
    "# constraints += [x[i] >=2 for i in range(2)]\n",
    "prob = cp.Problem(objective, constraints)\n",
    "\n",
    "# The optimal objective value is returned by `prob.solve()`.\n",
    "result = prob.solve()\n",
    "# The optimal value for x is stored in `x.value`.\n",
    "print(\"x.value:\", x.value)\n",
    "print(\"y.value:\", y.value)\n",
    "print()\n",
    "\n"
   ]
  },
  {
   "cell_type": "code",
   "execution_count": null,
   "id": "705a6f52",
   "metadata": {},
   "outputs": [],
   "source": []
  },
  {
   "cell_type": "code",
   "execution_count": null,
   "id": "0b2e4417",
   "metadata": {},
   "outputs": [],
   "source": [
    "# Problem data.\n",
    "m = 30\n",
    "n = 20\n",
    "np.random.seed(1)\n",
    "A = np.random.randn(m, n)\n",
    "b = np.random.randn(m)\n",
    "\n",
    "# Construct the problem.\n",
    "x = cp.Variable(n)\n",
    "objective = cp.Minimize(cp.sum_squares(A @ x - b))\n",
    "constraints = [0 <= x, x <= 1]\n",
    "prob = cp.Problem(objective, constraints)\n",
    "\n",
    "# The optimal objective value is returned by `prob.solve()`.\n",
    "result = prob.solve()\n",
    "# The optimal value for x is stored in `x.value`.\n",
    "print(\"x.value:\", x.value)\n",
    "print()\n",
    "# The optimal Lagrange multiplier for a constraint is stored in\n",
    "# `constraint.dual_value`.\n",
    "print(\"constraints[0].dual_value:\", constraints[0].dual_value)"
   ]
  },
  {
   "cell_type": "code",
   "execution_count": null,
   "id": "62f19d37",
   "metadata": {},
   "outputs": [],
   "source": []
  },
  {
   "cell_type": "markdown",
   "id": "574e70bf",
   "metadata": {},
   "source": [
    "# LP, Comparison between CVXPY and Gurobi:"
   ]
  },
  {
   "cell_type": "code",
   "execution_count": null,
   "id": "9873a4af",
   "metadata": {},
   "outputs": [],
   "source": [
    "c_1 = np.array([-1, 1])\n",
    "c_2 = np.array([-1, -1])"
   ]
  },
  {
   "cell_type": "code",
   "execution_count": null,
   "id": "20e4c32e",
   "metadata": {},
   "outputs": [],
   "source": [
    "x_cvxpy = cp.Variable(2)\n",
    "prob = cp.Problem(cp.Minimize(x_cvxpy[0]), [c_1 @ x_cvxpy <= -3, c_2 @ x_cvxpy <= -3])\n",
    "prob.solve()\n",
    "x_cvxpy.value"
   ]
  },
  {
   "cell_type": "code",
   "execution_count": null,
   "id": "2eb9a8dc",
   "metadata": {},
   "outputs": [],
   "source": [
    "m_QP = gp.Model()\n",
    "x_gurobi = m_QP.addMVar(shape = 2, name = 'x_gurobi')\n",
    "m_QP.addConstr((- x_gurobi[0] + x_gurobi[1] <= -3 ))\n",
    "m_QP.addConstr((- x_gurobi[0] - x_gurobi[1] <= -3 ))\n",
    "\n",
    "m_QP.setObjective(x_gurobi[0], GRB.MINIMIZE)\n",
    "m_QP.update()\n",
    "m_QP.optimize()\n",
    "print()\n",
    "print(x_gurobi.x)\n"
   ]
  },
  {
   "cell_type": "code",
   "execution_count": null,
   "id": "94c27b56",
   "metadata": {},
   "outputs": [],
   "source": []
  },
  {
   "cell_type": "markdown",
   "id": "fab72811",
   "metadata": {},
   "source": [
    "## QP, Comparison between CVXPY and Gurobi:"
   ]
  },
  {
   "cell_type": "code",
   "execution_count": null,
   "id": "937ea63e",
   "metadata": {},
   "outputs": [],
   "source": [
    "# Generate a random non-trivial quadratic program.\n",
    "m = 15\n",
    "n = 10\n",
    "p = 5\n",
    "np.random.seed(1)\n",
    "P_gen = np.random.randn(n, n)\n",
    "P = P_gen.T @ P_gen + np.eye(n)\n",
    "q = np.random.randn(n)\n",
    "G = np.random.randn(m, n)\n",
    "h = G @ np.random.randn(n)\n",
    "A = np.random.randn(p, n)\n",
    "b = np.random.randn(p)"
   ]
  },
  {
   "cell_type": "code",
   "execution_count": null,
   "id": "daba3ffb",
   "metadata": {},
   "outputs": [],
   "source": [
    "P = np.array([[2, 1], [1, 2]])\n",
    "q = np.array([3, 4])\n",
    "n = 2"
   ]
  },
  {
   "cell_type": "code",
   "execution_count": null,
   "id": "5d43f346",
   "metadata": {},
   "outputs": [],
   "source": [
    "# Via CVXPY:\n",
    "\n",
    "# Define and solve the CVXPY problem.\n",
    "x_cvxpy = cp.Variable(n)\n",
    "# prob = cp.Problem(cp.Minimize((1/2)*cp.quad_form(x, P) + q.T @ x),\n",
    "#                  [G @ x <= h,\n",
    "#                   A @ x == b])\n",
    "prob = cp.Problem(cp.Minimize((1/2)*cp.quad_form(x_cvxpy, P) + q.T @ x_cvxpy))\n",
    "prob.solve()\n",
    "\n",
    "# Print result.\n",
    "print(\"\\nThe optimal value is\", prob.value)\n",
    "print(\"A solution x is\")\n",
    "print(x_cvxpy.value)\n",
    "# print(\"A dual solution corresponding to the inequality constraints is\")\n",
    "# print(prob.constraints[0].dual_value)"
   ]
  },
  {
   "cell_type": "code",
   "execution_count": null,
   "id": "9375ae10",
   "metadata": {},
   "outputs": [],
   "source": [
    "# Via Gurobi:\n",
    "\n",
    "# Initialize model\n",
    "m_QP = gp.Model()\n",
    "# Add variables to model\n",
    "x_gurobi = m_QP.addMVar(shape = n, name = 'x')\n",
    "# m_QP.addConstr((G @ x <= h))\n",
    "# m_QP.addConstr((A @ x == b))\n",
    "\n",
    "m_QP.setObjective((1/2) * (x_gurobi.T @ P @ x_gurobi) + q.T @ x_gurobi, GRB.MINIMIZE)\n",
    "\n",
    "m_QP.update()\n",
    "m_QP.optimize()\n",
    "\n"
   ]
  },
  {
   "cell_type": "code",
   "execution_count": null,
   "id": "5dcc6485",
   "metadata": {},
   "outputs": [],
   "source": [
    "x_gurobi.X"
   ]
  },
  {
   "cell_type": "code",
   "execution_count": null,
   "id": "fc310400",
   "metadata": {},
   "outputs": [],
   "source": [
    "x_cvxpy.value"
   ]
  },
  {
   "cell_type": "code",
   "execution_count": null,
   "id": "ab10529a",
   "metadata": {},
   "outputs": [],
   "source": [
    "np.linalg.solve(P, -q)"
   ]
  },
  {
   "cell_type": "code",
   "execution_count": null,
   "id": "004566d8",
   "metadata": {},
   "outputs": [],
   "source": []
  },
  {
   "cell_type": "code",
   "execution_count": null,
   "id": "d6a28b91",
   "metadata": {},
   "outputs": [],
   "source": []
  },
  {
   "cell_type": "markdown",
   "id": "d6e4fe9c",
   "metadata": {},
   "source": [
    "# Scratch Work:"
   ]
  },
  {
   "cell_type": "code",
   "execution_count": null,
   "id": "b22eb9db",
   "metadata": {},
   "outputs": [],
   "source": [
    "# 20*np.linspace(0, 1, 21)[0:]\n",
    "# np.linspace(toll_arr[0], toll_arr[-3]*T,19)"
   ]
  },
  {
   "cell_type": "code",
   "execution_count": null,
   "id": "9fc1960e",
   "metadata": {},
   "outputs": [],
   "source": []
  },
  {
   "cell_type": "code",
   "execution_count": null,
   "id": "d0a9e5a4",
   "metadata": {},
   "outputs": [],
   "source": []
  },
  {
   "cell_type": "code",
   "execution_count": null,
   "id": "7ee1e92e",
   "metadata": {},
   "outputs": [],
   "source": []
  },
  {
   "cell_type": "code",
   "execution_count": null,
   "id": "233bd7d6",
   "metadata": {},
   "outputs": [],
   "source": []
  }
 ],
 "metadata": {
  "kernelspec": {
   "display_name": "Python 3 (ipykernel)",
   "language": "python",
   "name": "python3"
  },
  "language_info": {
   "codemirror_mode": {
    "name": "ipython",
    "version": 3
   },
   "file_extension": ".py",
   "mimetype": "text/x-python",
   "name": "python",
   "nbconvert_exporter": "python",
   "pygments_lexer": "ipython3",
   "version": "3.8.13"
  }
 },
 "nbformat": 4,
 "nbformat_minor": 5
}
