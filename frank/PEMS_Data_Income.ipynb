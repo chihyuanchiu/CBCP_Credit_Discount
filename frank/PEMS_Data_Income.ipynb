{
 "cells": [
  {
   "cell_type": "code",
   "execution_count": 3,
   "id": "1561e58c",
   "metadata": {},
   "outputs": [],
   "source": [
    "import numpy as np\n",
    "import scipy as sp\n",
    "\n",
    "import matplotlib.pyplot as plt\n",
    "import matplotlib.axes as axe\n",
    "import pandas as pd\n",
    "import datetime as dt\n",
    "import gurobipy as gp\n",
    "from gurobipy import GRB\n",
    "import cvxpy as cp\n",
    "import yaml\n",
    "\n",
    "import random\n",
    "from itertools import chain, combinations, tee\n",
    "import time\n",
    "\n",
    "import os\n"
   ]
  },
  {
   "cell_type": "markdown",
   "id": "dff7511d",
   "metadata": {},
   "source": [
    "# Import O-D Flow Data + Income Data:"
   ]
  },
  {
   "cell_type": "code",
   "execution_count": 14,
   "id": "72dee88e",
   "metadata": {},
   "outputs": [
    {
     "data": {
      "text/plain": [
       "True"
      ]
     },
     "execution_count": 14,
     "metadata": {},
     "output_type": "execute_result"
    }
   ],
   "source": [
    "str_1 = \"027___403206_Redwood_City___off\"\n",
    "\"Redwood_City\" in str_1"
   ]
  },
  {
   "cell_type": "code",
   "execution_count": 15,
   "id": "4ab2f7ab",
   "metadata": {},
   "outputs": [],
   "source": [
    "def station_to_city(station_name):\n",
    "    if \"Palo_Alto\" in station_name:\n",
    "        city_name = \"Palo Alto\"\n",
    "    elif \"East_Palo_Alto\" in station_name:\n",
    "        city_name = \"East Palo Alto\"\n",
    "    elif \"Menlo_Park\" in station_name:\n",
    "        city_name = \"Menlo Park\"\n",
    "    elif \"Redwood_City\" in station_name:\n",
    "        city_name = \"Redwood City\"\n",
    "    elif \"Belmont\" in station_name:\n",
    "        city_name = \"Belmont\"\n",
    "    elif \"San_Mateo\" in station_name:\n",
    "        city_name = \"San Mateo\"\n",
    "    elif \"Burlingame\" in station_name:\n",
    "        city_name = \"Burlingame\"\n",
    "    elif \"Millbrae\" in station_name:\n",
    "        city_name = \"Millbrae\"\n",
    "    else:\n",
    "        assert 1 == 0, \"There should be no other case.\"\n",
    "    return city_name"
   ]
  },
  {
   "cell_type": "code",
   "execution_count": 16,
   "id": "2cf98692",
   "metadata": {},
   "outputs": [
    {
     "data": {
      "text/plain": [
       "617.3087999"
      ]
     },
     "execution_count": 16,
     "metadata": {},
     "output_type": "execute_result"
    }
   ],
   "source": [
    "directory_path = '../data/pems___101_N_Sep_2024/'\n",
    "df_od_flow_data = pd.read_csv(directory_path + 'data_od.csv')\n",
    "\n",
    "dict_df_od_flow_data = {}\n",
    "\n",
    "for column_name_full in list(df_od_flow_data.columns):\n",
    "    if column_name_full == \"Data Category\":\n",
    "        categories_list = df_od_flow_data[column_name_full].tolist()\n",
    "    else:\n",
    "        dict_df_od_flow_data[int(column_name_full)] = {}\n",
    "        for category_index, category in enumerate(categories_list):\n",
    "            if category == \"Start Index\" or category == \"End Index\":\n",
    "                dict_df_od_flow_data[int(column_name_full)][category] \\\n",
    "                    = int(df_od_flow_data[column_name_full].tolist()[category_index])\n",
    "            elif category == \"O-D Flow (Initialization)\" or category == \"O-D Flow (Max Entropy)\":\n",
    "                dict_df_od_flow_data[int(column_name_full)][category] \\\n",
    "                    = float(df_od_flow_data[column_name_full].tolist()[category_index])\n",
    "            else:\n",
    "                dict_df_od_flow_data[int(column_name_full)][category] \\\n",
    "                    = df_od_flow_data[column_name_full].tolist()[category_index]\n",
    "        \n",
    "        dict_df_od_flow_data[int(column_name_full)][\"Start City\"] \\\n",
    "            = station_to_city(dict_df_od_flow_data[int(column_name_full)][\"Start Station\"])\n",
    "        dict_df_od_flow_data[int(column_name_full)][\"End City\"] \\\n",
    "            = station_to_city(dict_df_od_flow_data[int(column_name_full)][\"End Station\"])\n",
    "        \n",
    "# dict_df_od_flow_data\n",
    "# dict_df_od_flow_data[0][\"O-D Flow (Initialization)\"]\n"
   ]
  },
  {
   "cell_type": "code",
   "execution_count": 25,
   "id": "af1b6c57",
   "metadata": {},
   "outputs": [],
   "source": [
    "directory_path = '../data/data_ACS_income/'\n",
    "df_income_data = pd.read_csv(directory_path + 'data_income_raw___1_year_2023.csv')\n",
    "\n",
    "dict_df_income_data = {}\n",
    "\n",
    "for column_name_full in list(df_income_data.columns):\n",
    "    if column_name_full == \"Income\":\n",
    "        categories_list = df_income_data[column_name_full].tolist()\n",
    "    else:\n",
    "        dict_df_income_data[column_name_full] = {}\n",
    "        for category_index, category in enumerate(categories_list):\n",
    "            dict_df_income_data[column_name_full][category] \\\n",
    "                = float(df_income_data[column_name_full].tolist()[category_index])\n",
    "                \n",
    "# dict_df_income_data\n"
   ]
  },
  {
   "cell_type": "code",
   "execution_count": null,
   "id": "1f6ab382",
   "metadata": {},
   "outputs": [],
   "source": []
  },
  {
   "cell_type": "code",
   "execution_count": null,
   "id": "bed528f3",
   "metadata": {},
   "outputs": [],
   "source": []
  },
  {
   "cell_type": "code",
   "execution_count": null,
   "id": "82ffc6e0",
   "metadata": {},
   "outputs": [],
   "source": []
  },
  {
   "cell_type": "markdown",
   "id": "5bbc7618",
   "metadata": {},
   "source": [
    "# <font color='red'>From previous code:</font>"
   ]
  },
  {
   "cell_type": "markdown",
   "id": "60719deb",
   "metadata": {},
   "source": [
    "# Data Capping"
   ]
  },
  {
   "cell_type": "code",
   "execution_count": null,
   "id": "04b24cb1",
   "metadata": {
    "scrolled": true
   },
   "outputs": [],
   "source": [
    "start_time = time.time()\n",
    "\n",
    "directory_path = '../data/pems___101_N_Sep_2024/'\n",
    "file_name_list = [f for f in os.listdir(directory_path) \\\n",
    "                  if os.path.isfile(os.path.join(directory_path, f)) and f[-1] == 'x' and f[0] != \"~\"]\n",
    "file_name_list.sort()\n",
    "\n",
    "thresh_lower = 0.1\n",
    "\n",
    "# df = pd.read_excel(directory_path + file_name)\n",
    "df_data_filtered = pd.read_csv(directory_path + 'data_filtered.csv', index_col=0)\n",
    "\n",
    "dict_data_capped = {}\n",
    "# dict_data_capped[\"Data Category\"] = \\\n",
    "#     [\"Station Type\", \"Number (data points)\", \"Mean (capped flow)\", \"Std Dev (capped flow)\"]\n",
    "\n",
    "times_dict = {}\n",
    "for column_name_full in list(df_data_filtered.columns):\n",
    "    print(\"column_name_full:\", column_name_full)\n",
    "    \n",
    "    vals_list_str = df_data_filtered[column_name_full].tolist()\n",
    "    \n",
    "#     print(\"vals_list_str:\", vals_list_str)\n",
    "\n",
    "    column_name = column_name_full[:-5]\n",
    "    \n",
    "    dict_data_capped[column_name] = {}\n",
    "    dict_data_capped[column_name][\"Station Type\"] = vals_list_str[0]\n",
    "    \n",
    "    vals_list = [float(val) for val in vals_list_str[1:]]\n",
    "    max_val = max(vals_list)\n",
    "    dict_data_capped[column_name][\"Flows (capped)\"] = \\\n",
    "        [val for val in vals_list if val != 0.0 and val >= max_val * thresh_lower]\n",
    "    \n",
    "    \n",
    "#     print()\n",
    "#     print(\"vals_list:\", vals_list)\n",
    "#     print()\n",
    "#     print(\"vals_array_capped:\", vals_array_capped)\n",
    "    \n",
    "#     dict_data_capped[column_name] += [vals_array_capped.shape[0]]\n",
    "#     dict_data_capped[column_name] += [np.mean(vals_array_capped)]\n",
    "#     dict_data_capped[column_name] += [np.std(vals_array_capped)]\n",
    "\n",
    "    \n",
    "    \n",
    "#     print(\"dict_data_capped[column_name]:\", dict_data_capped[column_name])\n",
    "#     print()\n",
    "\n",
    "\n",
    "end_time = time.time()\n",
    "\n",
    "print()\n",
    "print(\"Time:\", end_time - start_time)\n",
    "\n"
   ]
  },
  {
   "cell_type": "markdown",
   "id": "99485613",
   "metadata": {},
   "source": [
    "# Data Consolidation"
   ]
  },
  {
   "cell_type": "code",
   "execution_count": null,
   "id": "6e46926e",
   "metadata": {},
   "outputs": [],
   "source": []
  },
  {
   "cell_type": "markdown",
   "id": "ed998a07",
   "metadata": {},
   "source": [
    "# Scratch Work"
   ]
  },
  {
   "cell_type": "code",
   "execution_count": null,
   "id": "a387211e",
   "metadata": {},
   "outputs": [],
   "source": [
    "ell = [1, 2, 3, 4, 5]\n",
    "# ell[1:-1]\n",
    "ell += [6]\n",
    "ell"
   ]
  },
  {
   "cell_type": "code",
   "execution_count": null,
   "id": "974ab2ee",
   "metadata": {},
   "outputs": [],
   "source": []
  }
 ],
 "metadata": {
  "kernelspec": {
   "display_name": "Python 3 (ipykernel)",
   "language": "python",
   "name": "python3"
  },
  "language_info": {
   "codemirror_mode": {
    "name": "ipython",
    "version": 3
   },
   "file_extension": ".py",
   "mimetype": "text/x-python",
   "name": "python",
   "nbconvert_exporter": "python",
   "pygments_lexer": "ipython3",
   "version": "3.8.13"
  }
 },
 "nbformat": 4,
 "nbformat_minor": 5
}
